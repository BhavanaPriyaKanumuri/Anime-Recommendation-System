{
  "nbformat": 4,
  "nbformat_minor": 0,
  "metadata": {
    "colab": {
      "name": "anime_content_based.ipynb",
      "provenance": []
    },
    "kernelspec": {
      "name": "python3",
      "display_name": "Python 3"
    }
  },
  "cells": [
    {
      "cell_type": "markdown",
      "metadata": {
        "id": "sGyspujdhlNt",
        "colab_type": "text"
      },
      "source": [
        "### Content Based Recommender"
      ]
    },
    {
      "cell_type": "markdown",
      "metadata": {
        "id": "MDxhOMm8iClP",
        "colab_type": "text"
      },
      "source": [
        "Importing neccessary libraries"
      ]
    },
    {
      "cell_type": "code",
      "metadata": {
        "id": "Owtnni4QhWll",
        "colab_type": "code",
        "colab": {}
      },
      "source": [
        "import pandas as pd\n",
        "import numpy as np"
      ],
      "execution_count": null,
      "outputs": []
    },
    {
      "cell_type": "code",
      "metadata": {
        "id": "Np1MEeNMiJIM",
        "colab_type": "code",
        "colab": {}
      },
      "source": [
        "anime = pd.read_csv('/content/drive/My Drive/anime data/anime.csv')\n",
        "ratings = pd.read_csv('/content/drive/My Drive/anime data/rating.csv')"
      ],
      "execution_count": null,
      "outputs": []
    },
    {
      "cell_type": "code",
      "metadata": {
        "id": "5EM062diiVhF",
        "colab_type": "code",
        "colab": {
          "base_uri": "https://localhost:8080/",
          "height": 204
        },
        "outputId": "efab4718-1e56-4aef-ced7-ea8331d0e369"
      },
      "source": [
        "anime.head()"
      ],
      "execution_count": null,
      "outputs": [
        {
          "output_type": "execute_result",
          "data": {
            "text/html": [
              "<div>\n",
              "<style scoped>\n",
              "    .dataframe tbody tr th:only-of-type {\n",
              "        vertical-align: middle;\n",
              "    }\n",
              "\n",
              "    .dataframe tbody tr th {\n",
              "        vertical-align: top;\n",
              "    }\n",
              "\n",
              "    .dataframe thead th {\n",
              "        text-align: right;\n",
              "    }\n",
              "</style>\n",
              "<table border=\"1\" class=\"dataframe\">\n",
              "  <thead>\n",
              "    <tr style=\"text-align: right;\">\n",
              "      <th></th>\n",
              "      <th>anime_id</th>\n",
              "      <th>name</th>\n",
              "      <th>genre</th>\n",
              "      <th>type</th>\n",
              "      <th>episodes</th>\n",
              "      <th>rating</th>\n",
              "      <th>members</th>\n",
              "    </tr>\n",
              "  </thead>\n",
              "  <tbody>\n",
              "    <tr>\n",
              "      <th>0</th>\n",
              "      <td>32281</td>\n",
              "      <td>Kimi no Na wa.</td>\n",
              "      <td>Drama, Romance, School, Supernatural</td>\n",
              "      <td>Movie</td>\n",
              "      <td>1</td>\n",
              "      <td>9.37</td>\n",
              "      <td>200630</td>\n",
              "    </tr>\n",
              "    <tr>\n",
              "      <th>1</th>\n",
              "      <td>5114</td>\n",
              "      <td>Fullmetal Alchemist: Brotherhood</td>\n",
              "      <td>Action, Adventure, Drama, Fantasy, Magic, Mili...</td>\n",
              "      <td>TV</td>\n",
              "      <td>64</td>\n",
              "      <td>9.26</td>\n",
              "      <td>793665</td>\n",
              "    </tr>\n",
              "    <tr>\n",
              "      <th>2</th>\n",
              "      <td>28977</td>\n",
              "      <td>Gintama°</td>\n",
              "      <td>Action, Comedy, Historical, Parody, Samurai, S...</td>\n",
              "      <td>TV</td>\n",
              "      <td>51</td>\n",
              "      <td>9.25</td>\n",
              "      <td>114262</td>\n",
              "    </tr>\n",
              "    <tr>\n",
              "      <th>3</th>\n",
              "      <td>9253</td>\n",
              "      <td>Steins;Gate</td>\n",
              "      <td>Sci-Fi, Thriller</td>\n",
              "      <td>TV</td>\n",
              "      <td>24</td>\n",
              "      <td>9.17</td>\n",
              "      <td>673572</td>\n",
              "    </tr>\n",
              "    <tr>\n",
              "      <th>4</th>\n",
              "      <td>9969</td>\n",
              "      <td>Gintama&amp;#039;</td>\n",
              "      <td>Action, Comedy, Historical, Parody, Samurai, S...</td>\n",
              "      <td>TV</td>\n",
              "      <td>51</td>\n",
              "      <td>9.16</td>\n",
              "      <td>151266</td>\n",
              "    </tr>\n",
              "  </tbody>\n",
              "</table>\n",
              "</div>"
            ],
            "text/plain": [
              "   anime_id                              name  ... rating members\n",
              "0     32281                    Kimi no Na wa.  ...   9.37  200630\n",
              "1      5114  Fullmetal Alchemist: Brotherhood  ...   9.26  793665\n",
              "2     28977                          Gintama°  ...   9.25  114262\n",
              "3      9253                       Steins;Gate  ...   9.17  673572\n",
              "4      9969                     Gintama&#039;  ...   9.16  151266\n",
              "\n",
              "[5 rows x 7 columns]"
            ]
          },
          "metadata": {
            "tags": []
          },
          "execution_count": 29
        }
      ]
    },
    {
      "cell_type": "markdown",
      "metadata": {
        "id": "yUWPzfMpisIr",
        "colab_type": "text"
      },
      "source": [
        "Cleaning up the name column from non-alphanumeric characters\n"
      ]
    },
    {
      "cell_type": "code",
      "metadata": {
        "id": "Q6hdiZoRikue",
        "colab_type": "code",
        "colab": {
          "base_uri": "https://localhost:8080/",
          "height": 153
        },
        "outputId": "a398f4ff-b2f2-4400-c391-792ebde278dd"
      },
      "source": [
        "anime.dtypes"
      ],
      "execution_count": null,
      "outputs": [
        {
          "output_type": "execute_result",
          "data": {
            "text/plain": [
              "anime_id      int64\n",
              "name         object\n",
              "genre        object\n",
              "type         object\n",
              "episodes     object\n",
              "rating      float64\n",
              "members       int64\n",
              "dtype: object"
            ]
          },
          "metadata": {
            "tags": []
          },
          "execution_count": 30
        }
      ]
    },
    {
      "cell_type": "code",
      "metadata": {
        "id": "6b85tY0-i2SP",
        "colab_type": "code",
        "colab": {}
      },
      "source": [
        "#converting the name column into string datatype\n",
        "anime['name'] = anime['name'].astype('str')"
      ],
      "execution_count": null,
      "outputs": []
    },
    {
      "cell_type": "code",
      "metadata": {
        "id": "g7Sg8p6Qi5mn",
        "colab_type": "code",
        "colab": {}
      },
      "source": [
        "#creating the function to remove the characters\n",
        "import re\n",
        "def clean_up(s):\n",
        "  new_s = re.sub(r\"[^\\sa-zA-Z0-9\\.\\,\\;]\",\"\",str(s))\n",
        "  return new_s\n"
      ],
      "execution_count": null,
      "outputs": []
    },
    {
      "cell_type": "code",
      "metadata": {
        "id": "ICOlV6bWi722",
        "colab_type": "code",
        "colab": {}
      },
      "source": [
        "anime['name'] = anime['name'].apply(clean_up)"
      ],
      "execution_count": null,
      "outputs": []
    },
    {
      "cell_type": "code",
      "metadata": {
        "id": "mGNSbrfDjbxK",
        "colab_type": "code",
        "colab": {}
      },
      "source": [
        "#renaming rating in anime df rating to average rating\n",
        "anime.rename(columns={'rating':'average_rating'}, inplace=True)"
      ],
      "execution_count": null,
      "outputs": []
    },
    {
      "cell_type": "code",
      "metadata": {
        "id": "l0YJzaYPi-55",
        "colab_type": "code",
        "colab": {
          "base_uri": "https://localhost:8080/",
          "height": 204
        },
        "outputId": "a519ec85-5690-4b47-c653-a7a293dabba6"
      },
      "source": [
        "anime.head()"
      ],
      "execution_count": null,
      "outputs": [
        {
          "output_type": "execute_result",
          "data": {
            "text/html": [
              "<div>\n",
              "<style scoped>\n",
              "    .dataframe tbody tr th:only-of-type {\n",
              "        vertical-align: middle;\n",
              "    }\n",
              "\n",
              "    .dataframe tbody tr th {\n",
              "        vertical-align: top;\n",
              "    }\n",
              "\n",
              "    .dataframe thead th {\n",
              "        text-align: right;\n",
              "    }\n",
              "</style>\n",
              "<table border=\"1\" class=\"dataframe\">\n",
              "  <thead>\n",
              "    <tr style=\"text-align: right;\">\n",
              "      <th></th>\n",
              "      <th>anime_id</th>\n",
              "      <th>name</th>\n",
              "      <th>genre</th>\n",
              "      <th>type</th>\n",
              "      <th>episodes</th>\n",
              "      <th>average_rating</th>\n",
              "      <th>members</th>\n",
              "    </tr>\n",
              "  </thead>\n",
              "  <tbody>\n",
              "    <tr>\n",
              "      <th>0</th>\n",
              "      <td>32281</td>\n",
              "      <td>Kimi no Na wa.</td>\n",
              "      <td>Drama, Romance, School, Supernatural</td>\n",
              "      <td>Movie</td>\n",
              "      <td>1</td>\n",
              "      <td>9.37</td>\n",
              "      <td>200630</td>\n",
              "    </tr>\n",
              "    <tr>\n",
              "      <th>1</th>\n",
              "      <td>5114</td>\n",
              "      <td>Fullmetal Alchemist Brotherhood</td>\n",
              "      <td>Action, Adventure, Drama, Fantasy, Magic, Mili...</td>\n",
              "      <td>TV</td>\n",
              "      <td>64</td>\n",
              "      <td>9.26</td>\n",
              "      <td>793665</td>\n",
              "    </tr>\n",
              "    <tr>\n",
              "      <th>2</th>\n",
              "      <td>28977</td>\n",
              "      <td>Gintama</td>\n",
              "      <td>Action, Comedy, Historical, Parody, Samurai, S...</td>\n",
              "      <td>TV</td>\n",
              "      <td>51</td>\n",
              "      <td>9.25</td>\n",
              "      <td>114262</td>\n",
              "    </tr>\n",
              "    <tr>\n",
              "      <th>3</th>\n",
              "      <td>9253</td>\n",
              "      <td>Steins;Gate</td>\n",
              "      <td>Sci-Fi, Thriller</td>\n",
              "      <td>TV</td>\n",
              "      <td>24</td>\n",
              "      <td>9.17</td>\n",
              "      <td>673572</td>\n",
              "    </tr>\n",
              "    <tr>\n",
              "      <th>4</th>\n",
              "      <td>9969</td>\n",
              "      <td>Gintama039;</td>\n",
              "      <td>Action, Comedy, Historical, Parody, Samurai, S...</td>\n",
              "      <td>TV</td>\n",
              "      <td>51</td>\n",
              "      <td>9.16</td>\n",
              "      <td>151266</td>\n",
              "    </tr>\n",
              "  </tbody>\n",
              "</table>\n",
              "</div>"
            ],
            "text/plain": [
              "   anime_id                             name  ... average_rating members\n",
              "0     32281                   Kimi no Na wa.  ...           9.37  200630\n",
              "1      5114  Fullmetal Alchemist Brotherhood  ...           9.26  793665\n",
              "2     28977                          Gintama  ...           9.25  114262\n",
              "3      9253                      Steins;Gate  ...           9.17  673572\n",
              "4      9969                      Gintama039;  ...           9.16  151266\n",
              "\n",
              "[5 rows x 7 columns]"
            ]
          },
          "metadata": {
            "tags": []
          },
          "execution_count": 35
        }
      ]
    },
    {
      "cell_type": "code",
      "metadata": {
        "id": "nyExFo0KjBHo",
        "colab_type": "code",
        "colab": {
          "base_uri": "https://localhost:8080/",
          "height": 204
        },
        "outputId": "9a76fedb-d88a-4b5a-92ee-9a30c3b32ee9"
      },
      "source": [
        "ratings.head()"
      ],
      "execution_count": null,
      "outputs": [
        {
          "output_type": "execute_result",
          "data": {
            "text/html": [
              "<div>\n",
              "<style scoped>\n",
              "    .dataframe tbody tr th:only-of-type {\n",
              "        vertical-align: middle;\n",
              "    }\n",
              "\n",
              "    .dataframe tbody tr th {\n",
              "        vertical-align: top;\n",
              "    }\n",
              "\n",
              "    .dataframe thead th {\n",
              "        text-align: right;\n",
              "    }\n",
              "</style>\n",
              "<table border=\"1\" class=\"dataframe\">\n",
              "  <thead>\n",
              "    <tr style=\"text-align: right;\">\n",
              "      <th></th>\n",
              "      <th>user_id</th>\n",
              "      <th>anime_id</th>\n",
              "      <th>rating</th>\n",
              "    </tr>\n",
              "  </thead>\n",
              "  <tbody>\n",
              "    <tr>\n",
              "      <th>0</th>\n",
              "      <td>1</td>\n",
              "      <td>20</td>\n",
              "      <td>-1</td>\n",
              "    </tr>\n",
              "    <tr>\n",
              "      <th>1</th>\n",
              "      <td>1</td>\n",
              "      <td>24</td>\n",
              "      <td>-1</td>\n",
              "    </tr>\n",
              "    <tr>\n",
              "      <th>2</th>\n",
              "      <td>1</td>\n",
              "      <td>79</td>\n",
              "      <td>-1</td>\n",
              "    </tr>\n",
              "    <tr>\n",
              "      <th>3</th>\n",
              "      <td>1</td>\n",
              "      <td>226</td>\n",
              "      <td>-1</td>\n",
              "    </tr>\n",
              "    <tr>\n",
              "      <th>4</th>\n",
              "      <td>1</td>\n",
              "      <td>241</td>\n",
              "      <td>-1</td>\n",
              "    </tr>\n",
              "  </tbody>\n",
              "</table>\n",
              "</div>"
            ],
            "text/plain": [
              "   user_id  anime_id  rating\n",
              "0        1        20      -1\n",
              "1        1        24      -1\n",
              "2        1        79      -1\n",
              "3        1       226      -1\n",
              "4        1       241      -1"
            ]
          },
          "metadata": {
            "tags": []
          },
          "execution_count": 36
        }
      ]
    },
    {
      "cell_type": "code",
      "metadata": {
        "id": "nA1O_GsNjG7L",
        "colab_type": "code",
        "colab": {
          "base_uri": "https://localhost:8080/",
          "height": 34
        },
        "outputId": "c2f140cf-f95d-46fe-d1ce-ce734d15a51e"
      },
      "source": [
        "len(ratings)"
      ],
      "execution_count": null,
      "outputs": [
        {
          "output_type": "execute_result",
          "data": {
            "text/plain": [
              "7813737"
            ]
          },
          "metadata": {
            "tags": []
          },
          "execution_count": 37
        }
      ]
    },
    {
      "cell_type": "code",
      "metadata": {
        "id": "8rbijY9djK5F",
        "colab_type": "code",
        "colab": {
          "base_uri": "https://localhost:8080/",
          "height": 34
        },
        "outputId": "a305a50b-ae2e-43c2-b227-863eee5d9460"
      },
      "source": [
        "#dropping all rows with rating value of -1. ie. the user_id did not rate the anime\n",
        "ratings = ratings[ratings['rating'] != -1]\n",
        "len(ratings)"
      ],
      "execution_count": null,
      "outputs": [
        {
          "output_type": "execute_result",
          "data": {
            "text/plain": [
              "6337241"
            ]
          },
          "metadata": {
            "tags": []
          },
          "execution_count": 38
        }
      ]
    },
    {
      "cell_type": "code",
      "metadata": {
        "id": "2KUdsa8DjNx8",
        "colab_type": "code",
        "colab": {}
      },
      "source": [
        "#renaming rating in anime df rating to average rating\n",
        "anime.rename(columns={'rating':'average_rating'}, inplace=True)"
      ],
      "execution_count": null,
      "outputs": []
    },
    {
      "cell_type": "markdown",
      "metadata": {
        "id": "0zr-9THpjvrx",
        "colab_type": "text"
      },
      "source": [
        "### Logic for Content Based"
      ]
    },
    {
      "cell_type": "markdown",
      "metadata": {
        "id": "aP9rPRyUj5VI",
        "colab_type": "text"
      },
      "source": [
        "**Future Findings**\n",
        "1. Getting the anime overview description. ie summary of the plot description\n",
        "2. Getting 3 major casts of the anime\n",
        "3. Getting directors of the anime"
      ]
    },
    {
      "cell_type": "code",
      "metadata": {
        "id": "MV08G6FujVoO",
        "colab_type": "code",
        "colab": {}
      },
      "source": [
        "# creating a function to split the values in the genre column\n",
        "def split_genre(x):\n",
        "  return x.split(', ')\n"
      ],
      "execution_count": null,
      "outputs": []
    },
    {
      "cell_type": "code",
      "metadata": {
        "id": "1Z-7oi_LlsYw",
        "colab_type": "code",
        "colab": {}
      },
      "source": [
        "#converting the name column into string datatype\n",
        "anime['genre'] = anime['genre'].astype('str')"
      ],
      "execution_count": null,
      "outputs": []
    },
    {
      "cell_type": "code",
      "metadata": {
        "id": "DJT_9Hh8pFg3",
        "colab_type": "code",
        "colab": {}
      },
      "source": [
        "#converting the name column into string datatype\n",
        "anime['type'] = anime['type'].astype('str')"
      ],
      "execution_count": null,
      "outputs": []
    },
    {
      "cell_type": "code",
      "metadata": {
        "id": "VkRovHxbl8ks",
        "colab_type": "code",
        "colab": {}
      },
      "source": [
        "#applying the function\n",
        "anime['genre'] = anime['genre'].apply(split_genre)"
      ],
      "execution_count": null,
      "outputs": []
    },
    {
      "cell_type": "code",
      "metadata": {
        "id": "-ylMbmU9mFT5",
        "colab_type": "code",
        "colab": {
          "base_uri": "https://localhost:8080/",
          "height": 204
        },
        "outputId": "90f9741e-e454-46e0-fee6-f92c1bd6ec83"
      },
      "source": [
        "anime.head()"
      ],
      "execution_count": null,
      "outputs": [
        {
          "output_type": "execute_result",
          "data": {
            "text/html": [
              "<div>\n",
              "<style scoped>\n",
              "    .dataframe tbody tr th:only-of-type {\n",
              "        vertical-align: middle;\n",
              "    }\n",
              "\n",
              "    .dataframe tbody tr th {\n",
              "        vertical-align: top;\n",
              "    }\n",
              "\n",
              "    .dataframe thead th {\n",
              "        text-align: right;\n",
              "    }\n",
              "</style>\n",
              "<table border=\"1\" class=\"dataframe\">\n",
              "  <thead>\n",
              "    <tr style=\"text-align: right;\">\n",
              "      <th></th>\n",
              "      <th>anime_id</th>\n",
              "      <th>name</th>\n",
              "      <th>genre</th>\n",
              "      <th>type</th>\n",
              "      <th>episodes</th>\n",
              "      <th>average_rating</th>\n",
              "      <th>members</th>\n",
              "    </tr>\n",
              "  </thead>\n",
              "  <tbody>\n",
              "    <tr>\n",
              "      <th>0</th>\n",
              "      <td>32281</td>\n",
              "      <td>Kimi no Na wa.</td>\n",
              "      <td>[Drama, Romance, School, Supernatural]</td>\n",
              "      <td>Movie</td>\n",
              "      <td>1</td>\n",
              "      <td>9.37</td>\n",
              "      <td>200630</td>\n",
              "    </tr>\n",
              "    <tr>\n",
              "      <th>1</th>\n",
              "      <td>5114</td>\n",
              "      <td>Fullmetal Alchemist Brotherhood</td>\n",
              "      <td>[Action, Adventure, Drama, Fantasy, Magic, Mil...</td>\n",
              "      <td>TV</td>\n",
              "      <td>64</td>\n",
              "      <td>9.26</td>\n",
              "      <td>793665</td>\n",
              "    </tr>\n",
              "    <tr>\n",
              "      <th>2</th>\n",
              "      <td>28977</td>\n",
              "      <td>Gintama</td>\n",
              "      <td>[Action, Comedy, Historical, Parody, Samurai, ...</td>\n",
              "      <td>TV</td>\n",
              "      <td>51</td>\n",
              "      <td>9.25</td>\n",
              "      <td>114262</td>\n",
              "    </tr>\n",
              "    <tr>\n",
              "      <th>3</th>\n",
              "      <td>9253</td>\n",
              "      <td>Steins;Gate</td>\n",
              "      <td>[Sci-Fi, Thriller]</td>\n",
              "      <td>TV</td>\n",
              "      <td>24</td>\n",
              "      <td>9.17</td>\n",
              "      <td>673572</td>\n",
              "    </tr>\n",
              "    <tr>\n",
              "      <th>4</th>\n",
              "      <td>9969</td>\n",
              "      <td>Gintama039;</td>\n",
              "      <td>[Action, Comedy, Historical, Parody, Samurai, ...</td>\n",
              "      <td>TV</td>\n",
              "      <td>51</td>\n",
              "      <td>9.16</td>\n",
              "      <td>151266</td>\n",
              "    </tr>\n",
              "  </tbody>\n",
              "</table>\n",
              "</div>"
            ],
            "text/plain": [
              "   anime_id                             name  ... average_rating members\n",
              "0     32281                   Kimi no Na wa.  ...           9.37  200630\n",
              "1      5114  Fullmetal Alchemist Brotherhood  ...           9.26  793665\n",
              "2     28977                          Gintama  ...           9.25  114262\n",
              "3      9253                      Steins;Gate  ...           9.17  673572\n",
              "4      9969                      Gintama039;  ...           9.16  151266\n",
              "\n",
              "[5 rows x 7 columns]"
            ]
          },
          "metadata": {
            "tags": []
          },
          "execution_count": 44
        }
      ]
    },
    {
      "cell_type": "code",
      "metadata": {
        "id": "7GLFQbitmGuV",
        "colab_type": "code",
        "colab": {}
      },
      "source": [
        "#taking only the features we would be making use of\n",
        "features = ['name','genre','type']\n",
        "anime = anime[features]"
      ],
      "execution_count": null,
      "outputs": []
    },
    {
      "cell_type": "code",
      "metadata": {
        "id": "9XKEuE0rmlBt",
        "colab_type": "code",
        "colab": {
          "base_uri": "https://localhost:8080/",
          "height": 142
        },
        "outputId": "d5aebfa3-c413-49fa-ea73-983d18cd4d99"
      },
      "source": [
        "anime.head(3)"
      ],
      "execution_count": null,
      "outputs": [
        {
          "output_type": "execute_result",
          "data": {
            "text/html": [
              "<div>\n",
              "<style scoped>\n",
              "    .dataframe tbody tr th:only-of-type {\n",
              "        vertical-align: middle;\n",
              "    }\n",
              "\n",
              "    .dataframe tbody tr th {\n",
              "        vertical-align: top;\n",
              "    }\n",
              "\n",
              "    .dataframe thead th {\n",
              "        text-align: right;\n",
              "    }\n",
              "</style>\n",
              "<table border=\"1\" class=\"dataframe\">\n",
              "  <thead>\n",
              "    <tr style=\"text-align: right;\">\n",
              "      <th></th>\n",
              "      <th>name</th>\n",
              "      <th>genre</th>\n",
              "      <th>type</th>\n",
              "    </tr>\n",
              "  </thead>\n",
              "  <tbody>\n",
              "    <tr>\n",
              "      <th>0</th>\n",
              "      <td>Kimi no Na wa.</td>\n",
              "      <td>[Drama, Romance, School, Supernatural]</td>\n",
              "      <td>Movie</td>\n",
              "    </tr>\n",
              "    <tr>\n",
              "      <th>1</th>\n",
              "      <td>Fullmetal Alchemist Brotherhood</td>\n",
              "      <td>[Action, Adventure, Drama, Fantasy, Magic, Mil...</td>\n",
              "      <td>TV</td>\n",
              "    </tr>\n",
              "    <tr>\n",
              "      <th>2</th>\n",
              "      <td>Gintama</td>\n",
              "      <td>[Action, Comedy, Historical, Parody, Samurai, ...</td>\n",
              "      <td>TV</td>\n",
              "    </tr>\n",
              "  </tbody>\n",
              "</table>\n",
              "</div>"
            ],
            "text/plain": [
              "                              name  ...   type\n",
              "0                   Kimi no Na wa.  ...  Movie\n",
              "1  Fullmetal Alchemist Brotherhood  ...     TV\n",
              "2                          Gintama  ...     TV\n",
              "\n",
              "[3 rows x 3 columns]"
            ]
          },
          "metadata": {
            "tags": []
          },
          "execution_count": 46
        }
      ]
    },
    {
      "cell_type": "markdown",
      "metadata": {
        "id": "jVUZQYNQmpek",
        "colab_type": "text"
      },
      "source": [
        "The next step would be to convert the names and keyword instances into lowercase and strip all the spaces between them."
      ]
    },
    {
      "cell_type": "code",
      "metadata": {
        "id": "8RuIWi7Kmm7O",
        "colab_type": "code",
        "colab": {}
      },
      "source": [
        "# Function to convert all strings to lower case and strip names of spaces\n",
        "def clean_data(x):\n",
        "    if isinstance(x, list):\n",
        "        return [str.lower(i.replace(\" \", \"\")) for i in x]\n",
        "    else:\n",
        "        #Check if nothing exists. If not, return empty string\n",
        "        if isinstance(x, str):\n",
        "            return str.lower(x.replace(\" \", \"\"))\n",
        "        else:\n",
        "            return ''"
      ],
      "execution_count": null,
      "outputs": []
    },
    {
      "cell_type": "code",
      "metadata": {
        "id": "QXhCgPbEnIaX",
        "colab_type": "code",
        "colab": {}
      },
      "source": [
        "# Apply clean_data function to your features.\n",
        "features = ['genre', 'type']\n",
        "\n",
        "for feature in features:\n",
        "    anime[feature] = anime[feature].apply(clean_data)"
      ],
      "execution_count": null,
      "outputs": []
    },
    {
      "cell_type": "code",
      "metadata": {
        "id": "5kv19v5PnXkm",
        "colab_type": "code",
        "colab": {
          "base_uri": "https://localhost:8080/",
          "height": 142
        },
        "outputId": "aa1d36c0-4158-4ca5-a6e0-caf271d7aa37"
      },
      "source": [
        "anime.head(3)"
      ],
      "execution_count": null,
      "outputs": [
        {
          "output_type": "execute_result",
          "data": {
            "text/html": [
              "<div>\n",
              "<style scoped>\n",
              "    .dataframe tbody tr th:only-of-type {\n",
              "        vertical-align: middle;\n",
              "    }\n",
              "\n",
              "    .dataframe tbody tr th {\n",
              "        vertical-align: top;\n",
              "    }\n",
              "\n",
              "    .dataframe thead th {\n",
              "        text-align: right;\n",
              "    }\n",
              "</style>\n",
              "<table border=\"1\" class=\"dataframe\">\n",
              "  <thead>\n",
              "    <tr style=\"text-align: right;\">\n",
              "      <th></th>\n",
              "      <th>name</th>\n",
              "      <th>genre</th>\n",
              "      <th>type</th>\n",
              "    </tr>\n",
              "  </thead>\n",
              "  <tbody>\n",
              "    <tr>\n",
              "      <th>0</th>\n",
              "      <td>Kimi no Na wa.</td>\n",
              "      <td>[drama, romance, school, supernatural]</td>\n",
              "      <td>movie</td>\n",
              "    </tr>\n",
              "    <tr>\n",
              "      <th>1</th>\n",
              "      <td>Fullmetal Alchemist Brotherhood</td>\n",
              "      <td>[action, adventure, drama, fantasy, magic, mil...</td>\n",
              "      <td>tv</td>\n",
              "    </tr>\n",
              "    <tr>\n",
              "      <th>2</th>\n",
              "      <td>Gintama</td>\n",
              "      <td>[action, comedy, historical, parody, samurai, ...</td>\n",
              "      <td>tv</td>\n",
              "    </tr>\n",
              "  </tbody>\n",
              "</table>\n",
              "</div>"
            ],
            "text/plain": [
              "                              name  ...   type\n",
              "0                   Kimi no Na wa.  ...  movie\n",
              "1  Fullmetal Alchemist Brotherhood  ...     tv\n",
              "2                          Gintama  ...     tv\n",
              "\n",
              "[3 rows x 3 columns]"
            ]
          },
          "metadata": {
            "tags": []
          },
          "execution_count": 49
        }
      ]
    },
    {
      "cell_type": "markdown",
      "metadata": {
        "id": "4Zw6wFnGovnZ",
        "colab_type": "text"
      },
      "source": [
        "Finally, we create a metadata soup, in which we feed the vectorizer. This metadata are strings separated by whitespace"
      ]
    },
    {
      "cell_type": "code",
      "metadata": {
        "id": "jvvpZF6MnZ18",
        "colab_type": "code",
        "colab": {}
      },
      "source": [
        "def create_soup(x):\n",
        "    return ' '.join(x['genre']) + ' ' + ' '.join(x['type'])"
      ],
      "execution_count": null,
      "outputs": []
    },
    {
      "cell_type": "code",
      "metadata": {
        "id": "UmKGhPowpQmg",
        "colab_type": "code",
        "colab": {}
      },
      "source": [
        "# Create a new soup feature\n",
        "anime['soup'] = anime.apply(create_soup, axis=1)"
      ],
      "execution_count": null,
      "outputs": []
    },
    {
      "cell_type": "code",
      "metadata": {
        "id": "BoQIHWv0pePH",
        "colab_type": "code",
        "colab": {
          "base_uri": "https://localhost:8080/",
          "height": 204
        },
        "outputId": "e3944793-403c-47aa-e80e-f3c6e12faacf"
      },
      "source": [
        "anime.head()"
      ],
      "execution_count": null,
      "outputs": [
        {
          "output_type": "execute_result",
          "data": {
            "text/html": [
              "<div>\n",
              "<style scoped>\n",
              "    .dataframe tbody tr th:only-of-type {\n",
              "        vertical-align: middle;\n",
              "    }\n",
              "\n",
              "    .dataframe tbody tr th {\n",
              "        vertical-align: top;\n",
              "    }\n",
              "\n",
              "    .dataframe thead th {\n",
              "        text-align: right;\n",
              "    }\n",
              "</style>\n",
              "<table border=\"1\" class=\"dataframe\">\n",
              "  <thead>\n",
              "    <tr style=\"text-align: right;\">\n",
              "      <th></th>\n",
              "      <th>name</th>\n",
              "      <th>genre</th>\n",
              "      <th>type</th>\n",
              "      <th>soup</th>\n",
              "    </tr>\n",
              "  </thead>\n",
              "  <tbody>\n",
              "    <tr>\n",
              "      <th>0</th>\n",
              "      <td>Kimi no Na wa.</td>\n",
              "      <td>[drama, romance, school, supernatural]</td>\n",
              "      <td>movie</td>\n",
              "      <td>drama romance school supernatural m o v i e</td>\n",
              "    </tr>\n",
              "    <tr>\n",
              "      <th>1</th>\n",
              "      <td>Fullmetal Alchemist Brotherhood</td>\n",
              "      <td>[action, adventure, drama, fantasy, magic, mil...</td>\n",
              "      <td>tv</td>\n",
              "      <td>action adventure drama fantasy magic military ...</td>\n",
              "    </tr>\n",
              "    <tr>\n",
              "      <th>2</th>\n",
              "      <td>Gintama</td>\n",
              "      <td>[action, comedy, historical, parody, samurai, ...</td>\n",
              "      <td>tv</td>\n",
              "      <td>action comedy historical parody samurai sci-fi...</td>\n",
              "    </tr>\n",
              "    <tr>\n",
              "      <th>3</th>\n",
              "      <td>Steins;Gate</td>\n",
              "      <td>[sci-fi, thriller]</td>\n",
              "      <td>tv</td>\n",
              "      <td>sci-fi thriller t v</td>\n",
              "    </tr>\n",
              "    <tr>\n",
              "      <th>4</th>\n",
              "      <td>Gintama039;</td>\n",
              "      <td>[action, comedy, historical, parody, samurai, ...</td>\n",
              "      <td>tv</td>\n",
              "      <td>action comedy historical parody samurai sci-fi...</td>\n",
              "    </tr>\n",
              "  </tbody>\n",
              "</table>\n",
              "</div>"
            ],
            "text/plain": [
              "                              name  ...                                               soup\n",
              "0                   Kimi no Na wa.  ...        drama romance school supernatural m o v i e\n",
              "1  Fullmetal Alchemist Brotherhood  ...  action adventure drama fantasy magic military ...\n",
              "2                          Gintama  ...  action comedy historical parody samurai sci-fi...\n",
              "3                      Steins;Gate  ...                                sci-fi thriller t v\n",
              "4                      Gintama039;  ...  action comedy historical parody samurai sci-fi...\n",
              "\n",
              "[5 rows x 4 columns]"
            ]
          },
          "metadata": {
            "tags": []
          },
          "execution_count": 53
        }
      ]
    },
    {
      "cell_type": "markdown",
      "metadata": {
        "id": "JAc27RVpponf",
        "colab_type": "text"
      },
      "source": [
        "We make use of the CountVectorizer library. This will give us a matrix where each column represents a word in the overview vocabulary (all the words that appear in at least one document), and each row represents an anime, as before."
      ]
    },
    {
      "cell_type": "code",
      "metadata": {
        "id": "DAMQoeH6pg2q",
        "colab_type": "code",
        "colab": {}
      },
      "source": [
        "# Import CountVectorizer and create the count matrix\n",
        "from sklearn.feature_extraction.text import CountVectorizer\n",
        "\n",
        "count = CountVectorizer(stop_words='english')\n",
        "count_matrix = count.fit_transform(anime['soup'])"
      ],
      "execution_count": null,
      "outputs": []
    },
    {
      "cell_type": "code",
      "metadata": {
        "id": "8wSG2RmgqORY",
        "colab_type": "code",
        "colab": {
          "base_uri": "https://localhost:8080/",
          "height": 34
        },
        "outputId": "43d8887c-b904-4dfd-c37d-6a76ef174883"
      },
      "source": [
        "count_matrix.shape"
      ],
      "execution_count": null,
      "outputs": [
        {
          "output_type": "execute_result",
          "data": {
            "text/plain": [
              "(12294, 45)"
            ]
          },
          "metadata": {
            "tags": []
          },
          "execution_count": 57
        }
      ]
    },
    {
      "cell_type": "markdown",
      "metadata": {
        "id": "FZnTAUOZqlav",
        "colab_type": "text"
      },
      "source": [
        "From the above, there are 73,881 vocabularies in the metadata that you fed to it.\n",
        "Next, we will use the cosine_similarity to measure the distance between the embeddings."
      ]
    },
    {
      "cell_type": "code",
      "metadata": {
        "id": "8wcuahwGqbGt",
        "colab_type": "code",
        "colab": {}
      },
      "source": [
        "# Compute the Cosine Similarity matrix based on the count_matrix\n",
        "from sklearn.metrics.pairwise import cosine_similarity\n",
        "\n",
        "cosine_sim = cosine_similarity(count_matrix, count_matrix)"
      ],
      "execution_count": null,
      "outputs": []
    },
    {
      "cell_type": "markdown",
      "metadata": {
        "id": "h-jLe1d6rFba",
        "colab_type": "text"
      },
      "source": [
        "We create a function to get top 10 similar animes, based on it's features"
      ]
    },
    {
      "cell_type": "code",
      "metadata": {
        "id": "PtvGILR8rfBw",
        "colab_type": "code",
        "colab": {}
      },
      "source": [
        "#Construct a reverse map of indices and anime titles\n",
        "indices = pd.Series(anime.index, index=anime['name']).drop_duplicates()"
      ],
      "execution_count": null,
      "outputs": []
    },
    {
      "cell_type": "code",
      "metadata": {
        "id": "4DEa_FgbrlaH",
        "colab_type": "code",
        "colab": {
          "base_uri": "https://localhost:8080/",
          "height": 102
        },
        "outputId": "c625f672-214c-4d22-8f2b-c400ba7b22ed"
      },
      "source": [
        "indices.head(3)"
      ],
      "execution_count": null,
      "outputs": [
        {
          "output_type": "execute_result",
          "data": {
            "text/plain": [
              "name\n",
              "Kimi no Na wa.                     0\n",
              "Fullmetal Alchemist Brotherhood    1\n",
              "Gintama                            2\n",
              "dtype: int64"
            ]
          },
          "metadata": {
            "tags": []
          },
          "execution_count": 60
        }
      ]
    },
    {
      "cell_type": "markdown",
      "metadata": {
        "id": "Cwv-iJxgrk6u",
        "colab_type": "text"
      },
      "source": [
        ""
      ]
    },
    {
      "cell_type": "code",
      "metadata": {
        "id": "WEi35TXlqyYJ",
        "colab_type": "code",
        "colab": {}
      },
      "source": [
        "# Function that takes in anime title as input and outputs most similar anime\n",
        "def get_recommendations(title, cosine_sim=cosine_sim):\n",
        "    # Get the index of the anime that matches the title\n",
        "    idx = indices[title]\n",
        "\n",
        "    # Get the pairwsie similarity scores of all anime with that anime\n",
        "    sim_scores = list(enumerate(cosine_sim[idx]))\n",
        "\n",
        "    # Sort the anime based on the similarity scores\n",
        "    sim_scores = sorted(sim_scores, key=lambda x: x[1], reverse=True)\n",
        "\n",
        "    # Get the scores of the 10 most similar anime\n",
        "    sim_scores = sim_scores[1:11]\n",
        "\n",
        "    # Get the anime indices\n",
        "    anime_indices = [i[0] for i in sim_scores]\n",
        "\n",
        "    # Return the top 10 most similar anime\n",
        "    return anime['name'].iloc[anime_indices]"
      ],
      "execution_count": null,
      "outputs": []
    },
    {
      "cell_type": "markdown",
      "metadata": {
        "id": "Jm8fS2rxr0Hu",
        "colab_type": "text"
      },
      "source": [
        "### Testing with Death Note"
      ]
    },
    {
      "cell_type": "code",
      "metadata": {
        "id": "dseE2dU3rwf_",
        "colab_type": "code",
        "colab": {
          "base_uri": "https://localhost:8080/",
          "height": 204
        },
        "outputId": "9c558a7b-c73d-44d3-823c-4c6d0cac99fd"
      },
      "source": [
        "recommendations = get_recommendations('Death Note')\n",
        "print(recommendations)"
      ],
      "execution_count": null,
      "outputs": [
        {
          "output_type": "stream",
          "text": [
            "778                                     Death Note Rewrite\n",
            "981                                        Mousou Dairinin\n",
            "144                          Higurashi no Naku Koro ni Kai\n",
            "334                              Higurashi no Naku Koro ni\n",
            "1383                         Higurashi no Naku Koro ni Rei\n",
            "833                               Jigoku Shoujo Mitsuganae\n",
            "2691                     Yakushiji Ryouko no Kaiki Jikenbo\n",
            "6323                               Saint Luminous Jogakuin\n",
            "10785    Yakushiji Ryouko no Kaiki Jikenbo Hamachou, Vo...\n",
            "445                                         Mirai Nikki TV\n",
            "Name: name, dtype: object\n"
          ],
          "name": "stdout"
        }
      ]
    },
    {
      "cell_type": "code",
      "metadata": {
        "id": "NAToQolHr96Y",
        "colab_type": "code",
        "colab": {}
      },
      "source": [
        ""
      ],
      "execution_count": null,
      "outputs": []
    },
    {
      "cell_type": "markdown",
      "metadata": {
        "id": "Rp2h6cCGUxdH",
        "colab_type": "text"
      },
      "source": [
        "### Content Based with new Anime Dataset"
      ]
    },
    {
      "cell_type": "code",
      "metadata": {
        "id": "IRp91vitU0_U",
        "colab_type": "code",
        "colab": {}
      },
      "source": [
        "import pandas as pd\n",
        "import numpy as np"
      ],
      "execution_count": 1,
      "outputs": []
    },
    {
      "cell_type": "code",
      "metadata": {
        "id": "VvFGnjJoU6HN",
        "colab_type": "code",
        "colab": {
          "base_uri": "https://localhost:8080/",
          "height": 278
        },
        "outputId": "d374bc7f-0071-440e-c081-1c93d72f84b9"
      },
      "source": [
        "anime_new = pd.read_csv('/content/drive/My Drive/anime data/Anime_data.csv')\n",
        "anime_new.head(3)"
      ],
      "execution_count": 3,
      "outputs": [
        {
          "output_type": "execute_result",
          "data": {
            "text/html": [
              "<div>\n",
              "<style scoped>\n",
              "    .dataframe tbody tr th:only-of-type {\n",
              "        vertical-align: middle;\n",
              "    }\n",
              "\n",
              "    .dataframe tbody tr th {\n",
              "        vertical-align: top;\n",
              "    }\n",
              "\n",
              "    .dataframe thead th {\n",
              "        text-align: right;\n",
              "    }\n",
              "</style>\n",
              "<table border=\"1\" class=\"dataframe\">\n",
              "  <thead>\n",
              "    <tr style=\"text-align: right;\">\n",
              "      <th></th>\n",
              "      <th>Anime_id</th>\n",
              "      <th>Title</th>\n",
              "      <th>Genre</th>\n",
              "      <th>Synopsis</th>\n",
              "      <th>Type</th>\n",
              "      <th>Producer</th>\n",
              "      <th>Studio</th>\n",
              "      <th>Rating</th>\n",
              "      <th>ScoredBy</th>\n",
              "      <th>Popularity</th>\n",
              "      <th>Members</th>\n",
              "      <th>Episodes</th>\n",
              "      <th>Source</th>\n",
              "      <th>Aired</th>\n",
              "      <th>Link</th>\n",
              "    </tr>\n",
              "  </thead>\n",
              "  <tbody>\n",
              "    <tr>\n",
              "      <th>0</th>\n",
              "      <td>1</td>\n",
              "      <td>Cowboy Bebop</td>\n",
              "      <td>['Action', 'Adventure', 'Comedy', 'Drama', 'Sc...</td>\n",
              "      <td>In the year 2071, humanity has colonized sever...</td>\n",
              "      <td>TV</td>\n",
              "      <td>['Bandai Visual']</td>\n",
              "      <td>['Sunrise']</td>\n",
              "      <td>8.81</td>\n",
              "      <td>363889.0</td>\n",
              "      <td>39.0</td>\n",
              "      <td>704490.0</td>\n",
              "      <td>26.0</td>\n",
              "      <td>Original</td>\n",
              "      <td>Apr 3, 1998 to Apr 24, 1999</td>\n",
              "      <td>https://myanimelist.net/anime/1/Cowboy_Bebop</td>\n",
              "    </tr>\n",
              "    <tr>\n",
              "      <th>1</th>\n",
              "      <td>5</td>\n",
              "      <td>Cowboy Bebop: Tengoku no Tobira</td>\n",
              "      <td>['Action', 'Space', 'Drama', 'Mystery', 'Sci-Fi']</td>\n",
              "      <td>Another day, another bounty—such is the life o...</td>\n",
              "      <td>Movie</td>\n",
              "      <td>['Sunrise', 'Bandai Visual']</td>\n",
              "      <td>['Bones']</td>\n",
              "      <td>8.41</td>\n",
              "      <td>111187.0</td>\n",
              "      <td>475.0</td>\n",
              "      <td>179899.0</td>\n",
              "      <td>1.0</td>\n",
              "      <td>Original</td>\n",
              "      <td>Sep 1, 2001</td>\n",
              "      <td>https://myanimelist.net/anime/5/Cowboy_Bebop__...</td>\n",
              "    </tr>\n",
              "    <tr>\n",
              "      <th>2</th>\n",
              "      <td>6</td>\n",
              "      <td>Trigun</td>\n",
              "      <td>['Action', 'Sci-Fi', 'Adventure', 'Comedy', 'D...</td>\n",
              "      <td>Vash the Stampede is the man with a $$60,000,0...</td>\n",
              "      <td>TV</td>\n",
              "      <td>['Victor Entertainment']</td>\n",
              "      <td>['Madhouse']</td>\n",
              "      <td>8.31</td>\n",
              "      <td>197451.0</td>\n",
              "      <td>158.0</td>\n",
              "      <td>372709.0</td>\n",
              "      <td>26.0</td>\n",
              "      <td>Manga</td>\n",
              "      <td>Apr 1, 1998 to Sep 30, 1998</td>\n",
              "      <td>https://myanimelist.net/anime/6/Trigun</td>\n",
              "    </tr>\n",
              "  </tbody>\n",
              "</table>\n",
              "</div>"
            ],
            "text/plain": [
              "   Anime_id  ...                                               Link\n",
              "0         1  ...       https://myanimelist.net/anime/1/Cowboy_Bebop\n",
              "1         5  ...  https://myanimelist.net/anime/5/Cowboy_Bebop__...\n",
              "2         6  ...             https://myanimelist.net/anime/6/Trigun\n",
              "\n",
              "[3 rows x 15 columns]"
            ]
          },
          "metadata": {
            "tags": []
          },
          "execution_count": 3
        }
      ]
    },
    {
      "cell_type": "code",
      "metadata": {
        "id": "UPH48wU0VJlR",
        "colab_type": "code",
        "colab": {
          "base_uri": "https://localhost:8080/",
          "height": 34
        },
        "outputId": "70685e27-6dea-4e40-b622-407144550bc1"
      },
      "source": [
        "len(anime_new)"
      ],
      "execution_count": 4,
      "outputs": [
        {
          "output_type": "execute_result",
          "data": {
            "text/plain": [
              "17002"
            ]
          },
          "metadata": {
            "tags": []
          },
          "execution_count": 4
        }
      ]
    },
    {
      "cell_type": "markdown",
      "metadata": {
        "id": "GIGTfoNgVjua",
        "colab_type": "text"
      },
      "source": [
        "### Following the exact same steps for the new data"
      ]
    },
    {
      "cell_type": "markdown",
      "metadata": {
        "id": "rga-eTKkV4Gs",
        "colab_type": "text"
      },
      "source": [
        "Feature columns have already been split into a list containing them"
      ]
    },
    {
      "cell_type": "code",
      "metadata": {
        "id": "HaAcrNVTVSWa",
        "colab_type": "code",
        "colab": {
          "base_uri": "https://localhost:8080/",
          "height": 119
        },
        "outputId": "24d9ba03-ef63-49cc-be9a-4bf88918f30c"
      },
      "source": [
        "anime_new['Synopsis'].head()"
      ],
      "execution_count": 5,
      "outputs": [
        {
          "output_type": "execute_result",
          "data": {
            "text/plain": [
              "0    In the year 2071, humanity has colonized sever...\n",
              "1    Another day, another bounty—such is the life o...\n",
              "2    Vash the Stampede is the man with a $$60,000,0...\n",
              "3    Witches are individuals with special powers li...\n",
              "4    It is the dark century and the people are suff...\n",
              "Name: Synopsis, dtype: object"
            ]
          },
          "metadata": {
            "tags": []
          },
          "execution_count": 5
        }
      ]
    },
    {
      "cell_type": "markdown",
      "metadata": {
        "id": "AJ25yQdgWtnf",
        "colab_type": "text"
      },
      "source": [
        "Applying vectorization to the plot summary to get other similar animes, using tf-idf vwctorizer"
      ]
    },
    {
      "cell_type": "code",
      "metadata": {
        "id": "Y14PxdWXWTE-",
        "colab_type": "code",
        "colab": {
          "base_uri": "https://localhost:8080/",
          "height": 34
        },
        "outputId": "28d5d6ba-4c76-42c1-fbfb-bf79f1c198da"
      },
      "source": [
        "#Import TfIdfVectorizer from scikit-learn\n",
        "from sklearn.feature_extraction.text import TfidfVectorizer\n",
        "\n",
        "#Define a TF-IDF Vectorizer Object. Remove all english stop words such as 'the', 'a'\n",
        "tfidf = TfidfVectorizer(stop_words='english')\n",
        "\n",
        "#Replace NaN with an empty string\n",
        "anime_new['Synopsis'] = anime_new['Synopsis'].fillna('')\n",
        "\n",
        "#Construct the required TF-IDF matrix by fitting and transforming the data\n",
        "tfidf_matrix = tfidf.fit_transform(anime_new['Synopsis'])\n",
        "\n",
        "#Output the shape of tfidf_matrix\n",
        "tfidf_matrix.shape"
      ],
      "execution_count": 6,
      "outputs": [
        {
          "output_type": "execute_result",
          "data": {
            "text/plain": [
              "(17002, 43913)"
            ]
          },
          "metadata": {
            "tags": []
          },
          "execution_count": 6
        }
      ]
    },
    {
      "cell_type": "markdown",
      "metadata": {
        "id": "6iv8sbc1XHgi",
        "colab_type": "text"
      },
      "source": [
        "With this matrix in hand, we compute similarity scores using cosine similarity"
      ]
    },
    {
      "cell_type": "code",
      "metadata": {
        "id": "T-R1eplWXBLY",
        "colab_type": "code",
        "colab": {}
      },
      "source": [
        "# Import linear_kernel\n",
        "from sklearn.metrics.pairwise import linear_kernel\n",
        "\n",
        "# Compute the cosine similarity matrix\n",
        "cosine_sim = linear_kernel(tfidf_matrix, tfidf_matrix)"
      ],
      "execution_count": 7,
      "outputs": []
    },
    {
      "cell_type": "code",
      "metadata": {
        "id": "MlczfL8VXhJC",
        "colab_type": "code",
        "colab": {
          "base_uri": "https://localhost:8080/",
          "height": 34
        },
        "outputId": "220ca9b4-26b2-46b2-c0ae-786f49574cb4"
      },
      "source": [
        "cosine_sim.shape"
      ],
      "execution_count": 8,
      "outputs": [
        {
          "output_type": "execute_result",
          "data": {
            "text/plain": [
              "(17002, 17002)"
            ]
          },
          "metadata": {
            "tags": []
          },
          "execution_count": 8
        }
      ]
    },
    {
      "cell_type": "markdown",
      "metadata": {
        "id": "oNFtzr1KXxzA",
        "colab_type": "text"
      },
      "source": [
        "We define a function that takes in an anime title as an input and outputs a list of the 10 most similar animes. Firstly, for this, you need a reverse mapping of anime titles and DataFrame "
      ]
    },
    {
      "cell_type": "code",
      "metadata": {
        "id": "Qef3jpMqXmtl",
        "colab_type": "code",
        "colab": {}
      },
      "source": [
        "#Construct a reverse map of indices and anime titles\n",
        "indices = pd.Series(anime_new.index, index=anime_new['Title']).drop_duplicates()"
      ],
      "execution_count": 9,
      "outputs": []
    },
    {
      "cell_type": "code",
      "metadata": {
        "id": "6H1s1550YHXi",
        "colab_type": "code",
        "colab": {
          "base_uri": "https://localhost:8080/",
          "height": 136
        },
        "outputId": "2ac84b1a-3c62-46e0-abb1-b4276debbbb6"
      },
      "source": [
        "indices.head()"
      ],
      "execution_count": 10,
      "outputs": [
        {
          "output_type": "execute_result",
          "data": {
            "text/plain": [
              "Title\n",
              "Cowboy Bebop                       0\n",
              "Cowboy Bebop: Tengoku no Tobira    1\n",
              "Trigun                             2\n",
              "Witch Hunter Robin                 3\n",
              "Bouken Ou Beet                     4\n",
              "dtype: int64"
            ]
          },
          "metadata": {
            "tags": []
          },
          "execution_count": 10
        }
      ]
    },
    {
      "cell_type": "code",
      "metadata": {
        "id": "GPDAQNt6YLhi",
        "colab_type": "code",
        "colab": {}
      },
      "source": [
        "# Function that takes in anime title as input and outputs most similar anime\n",
        "def get_recommendations(title, cosine_sim=cosine_sim):\n",
        "    # Get the index of the anime that matches the title\n",
        "    idx = indices[title]\n",
        "\n",
        "    # Get the pairwsie similarity scores of all anime with that anime\n",
        "    sim_scores = list(enumerate(cosine_sim[idx]))\n",
        "\n",
        "    # Sort the anime based on the similarity scores\n",
        "    sim_scores = sorted(sim_scores, key=lambda x: x[1], reverse=True)\n",
        "\n",
        "    # Get the scores of the 10 most similar anime\n",
        "    sim_scores = sim_scores[1:11]\n",
        "\n",
        "    # Get the anime indices\n",
        "    anime_indices = [i[0] for i in sim_scores]\n",
        "\n",
        "    # Return the top 10 most similar anime\n",
        "    return anime_new['Title'].iloc[anime_indices]"
      ],
      "execution_count": 11,
      "outputs": []
    },
    {
      "cell_type": "code",
      "metadata": {
        "id": "LkfwuiWpYVV9",
        "colab_type": "code",
        "colab": {
          "base_uri": "https://localhost:8080/",
          "height": 204
        },
        "outputId": "77850cd4-c6ff-45bc-f227-49ac45b0c9ec"
      },
      "source": [
        "get_recommendations('Death Note')"
      ],
      "execution_count": 12,
      "outputs": [
        {
          "output_type": "execute_result",
          "data": {
            "text/plain": [
              "2525              Death Note: Rewrite\n",
              "2915                       Soul Eater\n",
              "645              Shinigami no Ballad.\n",
              "12227              Dia Horizon (Kabu)\n",
              "15808      YAT Anshin! Uchuu Ryokou 2\n",
              "16618                  Kite Liberator\n",
              "4229      Ayatsuri Haramase DreamNote\n",
              "466                   Yami no Matsuei\n",
              "630      Bleach: Memories in the Rain\n",
              "1082           Yami no Shihosha Judge\n",
              "Name: Title, dtype: object"
            ]
          },
          "metadata": {
            "tags": []
          },
          "execution_count": 12
        }
      ]
    },
    {
      "cell_type": "markdown",
      "metadata": {
        "id": "IzHLei41ZDWv",
        "colab_type": "text"
      },
      "source": [
        "Similarity using genre, producer, studio, source \n",
        "\n",
        "\n"
      ]
    },
    {
      "cell_type": "code",
      "metadata": {
        "id": "8EXN4OM5YbR8",
        "colab_type": "code",
        "colab": {
          "base_uri": "https://localhost:8080/",
          "height": 278
        },
        "outputId": "a8af8200-14b8-44e2-db27-5e3c87fb6251"
      },
      "source": [
        "anime_new.head(3)"
      ],
      "execution_count": 13,
      "outputs": [
        {
          "output_type": "execute_result",
          "data": {
            "text/html": [
              "<div>\n",
              "<style scoped>\n",
              "    .dataframe tbody tr th:only-of-type {\n",
              "        vertical-align: middle;\n",
              "    }\n",
              "\n",
              "    .dataframe tbody tr th {\n",
              "        vertical-align: top;\n",
              "    }\n",
              "\n",
              "    .dataframe thead th {\n",
              "        text-align: right;\n",
              "    }\n",
              "</style>\n",
              "<table border=\"1\" class=\"dataframe\">\n",
              "  <thead>\n",
              "    <tr style=\"text-align: right;\">\n",
              "      <th></th>\n",
              "      <th>Anime_id</th>\n",
              "      <th>Title</th>\n",
              "      <th>Genre</th>\n",
              "      <th>Synopsis</th>\n",
              "      <th>Type</th>\n",
              "      <th>Producer</th>\n",
              "      <th>Studio</th>\n",
              "      <th>Rating</th>\n",
              "      <th>ScoredBy</th>\n",
              "      <th>Popularity</th>\n",
              "      <th>Members</th>\n",
              "      <th>Episodes</th>\n",
              "      <th>Source</th>\n",
              "      <th>Aired</th>\n",
              "      <th>Link</th>\n",
              "    </tr>\n",
              "  </thead>\n",
              "  <tbody>\n",
              "    <tr>\n",
              "      <th>0</th>\n",
              "      <td>1</td>\n",
              "      <td>Cowboy Bebop</td>\n",
              "      <td>['Action', 'Adventure', 'Comedy', 'Drama', 'Sc...</td>\n",
              "      <td>In the year 2071, humanity has colonized sever...</td>\n",
              "      <td>TV</td>\n",
              "      <td>['Bandai Visual']</td>\n",
              "      <td>['Sunrise']</td>\n",
              "      <td>8.81</td>\n",
              "      <td>363889.0</td>\n",
              "      <td>39.0</td>\n",
              "      <td>704490.0</td>\n",
              "      <td>26.0</td>\n",
              "      <td>Original</td>\n",
              "      <td>Apr 3, 1998 to Apr 24, 1999</td>\n",
              "      <td>https://myanimelist.net/anime/1/Cowboy_Bebop</td>\n",
              "    </tr>\n",
              "    <tr>\n",
              "      <th>1</th>\n",
              "      <td>5</td>\n",
              "      <td>Cowboy Bebop: Tengoku no Tobira</td>\n",
              "      <td>['Action', 'Space', 'Drama', 'Mystery', 'Sci-Fi']</td>\n",
              "      <td>Another day, another bounty—such is the life o...</td>\n",
              "      <td>Movie</td>\n",
              "      <td>['Sunrise', 'Bandai Visual']</td>\n",
              "      <td>['Bones']</td>\n",
              "      <td>8.41</td>\n",
              "      <td>111187.0</td>\n",
              "      <td>475.0</td>\n",
              "      <td>179899.0</td>\n",
              "      <td>1.0</td>\n",
              "      <td>Original</td>\n",
              "      <td>Sep 1, 2001</td>\n",
              "      <td>https://myanimelist.net/anime/5/Cowboy_Bebop__...</td>\n",
              "    </tr>\n",
              "    <tr>\n",
              "      <th>2</th>\n",
              "      <td>6</td>\n",
              "      <td>Trigun</td>\n",
              "      <td>['Action', 'Sci-Fi', 'Adventure', 'Comedy', 'D...</td>\n",
              "      <td>Vash the Stampede is the man with a $$60,000,0...</td>\n",
              "      <td>TV</td>\n",
              "      <td>['Victor Entertainment']</td>\n",
              "      <td>['Madhouse']</td>\n",
              "      <td>8.31</td>\n",
              "      <td>197451.0</td>\n",
              "      <td>158.0</td>\n",
              "      <td>372709.0</td>\n",
              "      <td>26.0</td>\n",
              "      <td>Manga</td>\n",
              "      <td>Apr 1, 1998 to Sep 30, 1998</td>\n",
              "      <td>https://myanimelist.net/anime/6/Trigun</td>\n",
              "    </tr>\n",
              "  </tbody>\n",
              "</table>\n",
              "</div>"
            ],
            "text/plain": [
              "   Anime_id  ...                                               Link\n",
              "0         1  ...       https://myanimelist.net/anime/1/Cowboy_Bebop\n",
              "1         5  ...  https://myanimelist.net/anime/5/Cowboy_Bebop__...\n",
              "2         6  ...             https://myanimelist.net/anime/6/Trigun\n",
              "\n",
              "[3 rows x 15 columns]"
            ]
          },
          "metadata": {
            "tags": []
          },
          "execution_count": 13
        }
      ]
    },
    {
      "cell_type": "code",
      "metadata": {
        "id": "1NU2Z0EYaBEB",
        "colab_type": "code",
        "colab": {
          "base_uri": "https://localhost:8080/",
          "height": 289
        },
        "outputId": "ace01d60-76b5-4d0d-842f-c206630861ea"
      },
      "source": [
        "anime_new.dtypes"
      ],
      "execution_count": 14,
      "outputs": [
        {
          "output_type": "execute_result",
          "data": {
            "text/plain": [
              "Anime_id        int64\n",
              "Title          object\n",
              "Genre          object\n",
              "Synopsis       object\n",
              "Type           object\n",
              "Producer       object\n",
              "Studio         object\n",
              "Rating        float64\n",
              "ScoredBy      float64\n",
              "Popularity    float64\n",
              "Members       float64\n",
              "Episodes      float64\n",
              "Source         object\n",
              "Aired          object\n",
              "Link           object\n",
              "dtype: object"
            ]
          },
          "metadata": {
            "tags": []
          },
          "execution_count": 14
        }
      ]
    },
    {
      "cell_type": "markdown",
      "metadata": {
        "id": "Yc4Pw0xQaAfo",
        "colab_type": "text"
      },
      "source": [
        ""
      ]
    },
    {
      "cell_type": "code",
      "metadata": {
        "id": "29-zkeQMeuA5",
        "colab_type": "code",
        "colab": {}
      },
      "source": [
        "#converting necessary columns to strings for processing\n",
        "anime_new['Genre'] = anime_new[\"Genre\"].astype('str')\n",
        "anime_new['Producer'] = anime_new[\"Producer\"].astype('str')\n",
        "anime_new['Studio'] = anime_new[\"Studio\"].astype('str')"
      ],
      "execution_count": 15,
      "outputs": []
    },
    {
      "cell_type": "code",
      "metadata": {
        "id": "rvPdVhM4ZR4V",
        "colab_type": "code",
        "colab": {}
      },
      "source": [
        "# Function to convert all lists into strings for splitting into lists\n",
        "import re \n",
        "def clean_data_lists(s):\n",
        "    return re.sub(r\"[^\\sa-zA-Z0-9\\.\\,\\;]\",\"\",str(s))"
      ],
      "execution_count": 16,
      "outputs": []
    },
    {
      "cell_type": "code",
      "metadata": {
        "id": "MmcJIKg4atkX",
        "colab_type": "code",
        "colab": {}
      },
      "source": [
        "# Apply clean_data function to your features.\n",
        "features = ['Genre', 'Producer', 'Studio', 'Source']\n",
        "\n",
        "for feature in features:\n",
        "    anime_new[feature] = anime_new[feature].apply(clean_data_lists)"
      ],
      "execution_count": 17,
      "outputs": []
    },
    {
      "cell_type": "markdown",
      "metadata": {
        "id": "NNB2HyTef5tR",
        "colab_type": "text"
      },
      "source": [
        "NB: we ignore the spaces between producer names and studio names so that the vectorizer doesn't count the Johnny of \"Johnny Depp\" and \"Johnny Galecki\" as the same. That is just an example"
      ]
    },
    {
      "cell_type": "code",
      "metadata": {
        "id": "qMjPTqWBfhn_",
        "colab_type": "code",
        "colab": {
          "base_uri": "https://localhost:8080/",
          "height": 261
        },
        "outputId": "31fc429c-803b-49e3-fd95-4872b1f6558f"
      },
      "source": [
        "anime_new.head(3)"
      ],
      "execution_count": 18,
      "outputs": [
        {
          "output_type": "execute_result",
          "data": {
            "text/html": [
              "<div>\n",
              "<style scoped>\n",
              "    .dataframe tbody tr th:only-of-type {\n",
              "        vertical-align: middle;\n",
              "    }\n",
              "\n",
              "    .dataframe tbody tr th {\n",
              "        vertical-align: top;\n",
              "    }\n",
              "\n",
              "    .dataframe thead th {\n",
              "        text-align: right;\n",
              "    }\n",
              "</style>\n",
              "<table border=\"1\" class=\"dataframe\">\n",
              "  <thead>\n",
              "    <tr style=\"text-align: right;\">\n",
              "      <th></th>\n",
              "      <th>Anime_id</th>\n",
              "      <th>Title</th>\n",
              "      <th>Genre</th>\n",
              "      <th>Synopsis</th>\n",
              "      <th>Type</th>\n",
              "      <th>Producer</th>\n",
              "      <th>Studio</th>\n",
              "      <th>Rating</th>\n",
              "      <th>ScoredBy</th>\n",
              "      <th>Popularity</th>\n",
              "      <th>Members</th>\n",
              "      <th>Episodes</th>\n",
              "      <th>Source</th>\n",
              "      <th>Aired</th>\n",
              "      <th>Link</th>\n",
              "    </tr>\n",
              "  </thead>\n",
              "  <tbody>\n",
              "    <tr>\n",
              "      <th>0</th>\n",
              "      <td>1</td>\n",
              "      <td>Cowboy Bebop</td>\n",
              "      <td>Action, Adventure, Comedy, Drama, SciFi, Space</td>\n",
              "      <td>In the year 2071, humanity has colonized sever...</td>\n",
              "      <td>TV</td>\n",
              "      <td>Bandai Visual</td>\n",
              "      <td>Sunrise</td>\n",
              "      <td>8.81</td>\n",
              "      <td>363889.0</td>\n",
              "      <td>39.0</td>\n",
              "      <td>704490.0</td>\n",
              "      <td>26.0</td>\n",
              "      <td>Original</td>\n",
              "      <td>Apr 3, 1998 to Apr 24, 1999</td>\n",
              "      <td>https://myanimelist.net/anime/1/Cowboy_Bebop</td>\n",
              "    </tr>\n",
              "    <tr>\n",
              "      <th>1</th>\n",
              "      <td>5</td>\n",
              "      <td>Cowboy Bebop: Tengoku no Tobira</td>\n",
              "      <td>Action, Space, Drama, Mystery, SciFi</td>\n",
              "      <td>Another day, another bounty—such is the life o...</td>\n",
              "      <td>Movie</td>\n",
              "      <td>Sunrise, Bandai Visual</td>\n",
              "      <td>Bones</td>\n",
              "      <td>8.41</td>\n",
              "      <td>111187.0</td>\n",
              "      <td>475.0</td>\n",
              "      <td>179899.0</td>\n",
              "      <td>1.0</td>\n",
              "      <td>Original</td>\n",
              "      <td>Sep 1, 2001</td>\n",
              "      <td>https://myanimelist.net/anime/5/Cowboy_Bebop__...</td>\n",
              "    </tr>\n",
              "    <tr>\n",
              "      <th>2</th>\n",
              "      <td>6</td>\n",
              "      <td>Trigun</td>\n",
              "      <td>Action, SciFi, Adventure, Comedy, Drama, Shounen</td>\n",
              "      <td>Vash the Stampede is the man with a $$60,000,0...</td>\n",
              "      <td>TV</td>\n",
              "      <td>Victor Entertainment</td>\n",
              "      <td>Madhouse</td>\n",
              "      <td>8.31</td>\n",
              "      <td>197451.0</td>\n",
              "      <td>158.0</td>\n",
              "      <td>372709.0</td>\n",
              "      <td>26.0</td>\n",
              "      <td>Manga</td>\n",
              "      <td>Apr 1, 1998 to Sep 30, 1998</td>\n",
              "      <td>https://myanimelist.net/anime/6/Trigun</td>\n",
              "    </tr>\n",
              "  </tbody>\n",
              "</table>\n",
              "</div>"
            ],
            "text/plain": [
              "   Anime_id  ...                                               Link\n",
              "0         1  ...       https://myanimelist.net/anime/1/Cowboy_Bebop\n",
              "1         5  ...  https://myanimelist.net/anime/5/Cowboy_Bebop__...\n",
              "2         6  ...             https://myanimelist.net/anime/6/Trigun\n",
              "\n",
              "[3 rows x 15 columns]"
            ]
          },
          "metadata": {
            "tags": []
          },
          "execution_count": 18
        }
      ]
    },
    {
      "cell_type": "code",
      "metadata": {
        "id": "gjrX7VJvgSHM",
        "colab_type": "code",
        "colab": {}
      },
      "source": [
        "#creating a function to split the particular columns into lists again\n",
        "def split_columns(x):\n",
        "  return x.split(',')"
      ],
      "execution_count": 19,
      "outputs": []
    },
    {
      "cell_type": "code",
      "metadata": {
        "id": "4hLUbQgyguDD",
        "colab_type": "code",
        "colab": {}
      },
      "source": [
        "#applying the function to the same set of columns\n",
        "for feature in features:\n",
        "    anime_new[feature] = anime_new[feature].apply(split_columns)"
      ],
      "execution_count": 20,
      "outputs": []
    },
    {
      "cell_type": "code",
      "metadata": {
        "id": "Je3iK7ILg_C-",
        "colab_type": "code",
        "colab": {
          "base_uri": "https://localhost:8080/",
          "height": 261
        },
        "outputId": "1d6dc270-8d59-4765-8136-dd472ea3c896"
      },
      "source": [
        "anime_new.head(3)"
      ],
      "execution_count": 21,
      "outputs": [
        {
          "output_type": "execute_result",
          "data": {
            "text/html": [
              "<div>\n",
              "<style scoped>\n",
              "    .dataframe tbody tr th:only-of-type {\n",
              "        vertical-align: middle;\n",
              "    }\n",
              "\n",
              "    .dataframe tbody tr th {\n",
              "        vertical-align: top;\n",
              "    }\n",
              "\n",
              "    .dataframe thead th {\n",
              "        text-align: right;\n",
              "    }\n",
              "</style>\n",
              "<table border=\"1\" class=\"dataframe\">\n",
              "  <thead>\n",
              "    <tr style=\"text-align: right;\">\n",
              "      <th></th>\n",
              "      <th>Anime_id</th>\n",
              "      <th>Title</th>\n",
              "      <th>Genre</th>\n",
              "      <th>Synopsis</th>\n",
              "      <th>Type</th>\n",
              "      <th>Producer</th>\n",
              "      <th>Studio</th>\n",
              "      <th>Rating</th>\n",
              "      <th>ScoredBy</th>\n",
              "      <th>Popularity</th>\n",
              "      <th>Members</th>\n",
              "      <th>Episodes</th>\n",
              "      <th>Source</th>\n",
              "      <th>Aired</th>\n",
              "      <th>Link</th>\n",
              "    </tr>\n",
              "  </thead>\n",
              "  <tbody>\n",
              "    <tr>\n",
              "      <th>0</th>\n",
              "      <td>1</td>\n",
              "      <td>Cowboy Bebop</td>\n",
              "      <td>[Action,  Adventure,  Comedy,  Drama,  SciFi, ...</td>\n",
              "      <td>In the year 2071, humanity has colonized sever...</td>\n",
              "      <td>TV</td>\n",
              "      <td>[Bandai Visual]</td>\n",
              "      <td>[Sunrise]</td>\n",
              "      <td>8.81</td>\n",
              "      <td>363889.0</td>\n",
              "      <td>39.0</td>\n",
              "      <td>704490.0</td>\n",
              "      <td>26.0</td>\n",
              "      <td>[Original]</td>\n",
              "      <td>Apr 3, 1998 to Apr 24, 1999</td>\n",
              "      <td>https://myanimelist.net/anime/1/Cowboy_Bebop</td>\n",
              "    </tr>\n",
              "    <tr>\n",
              "      <th>1</th>\n",
              "      <td>5</td>\n",
              "      <td>Cowboy Bebop: Tengoku no Tobira</td>\n",
              "      <td>[Action,  Space,  Drama,  Mystery,  SciFi]</td>\n",
              "      <td>Another day, another bounty—such is the life o...</td>\n",
              "      <td>Movie</td>\n",
              "      <td>[Sunrise,  Bandai Visual]</td>\n",
              "      <td>[Bones]</td>\n",
              "      <td>8.41</td>\n",
              "      <td>111187.0</td>\n",
              "      <td>475.0</td>\n",
              "      <td>179899.0</td>\n",
              "      <td>1.0</td>\n",
              "      <td>[Original]</td>\n",
              "      <td>Sep 1, 2001</td>\n",
              "      <td>https://myanimelist.net/anime/5/Cowboy_Bebop__...</td>\n",
              "    </tr>\n",
              "    <tr>\n",
              "      <th>2</th>\n",
              "      <td>6</td>\n",
              "      <td>Trigun</td>\n",
              "      <td>[Action,  SciFi,  Adventure,  Comedy,  Drama, ...</td>\n",
              "      <td>Vash the Stampede is the man with a $$60,000,0...</td>\n",
              "      <td>TV</td>\n",
              "      <td>[Victor Entertainment]</td>\n",
              "      <td>[Madhouse]</td>\n",
              "      <td>8.31</td>\n",
              "      <td>197451.0</td>\n",
              "      <td>158.0</td>\n",
              "      <td>372709.0</td>\n",
              "      <td>26.0</td>\n",
              "      <td>[Manga]</td>\n",
              "      <td>Apr 1, 1998 to Sep 30, 1998</td>\n",
              "      <td>https://myanimelist.net/anime/6/Trigun</td>\n",
              "    </tr>\n",
              "  </tbody>\n",
              "</table>\n",
              "</div>"
            ],
            "text/plain": [
              "   Anime_id  ...                                               Link\n",
              "0         1  ...       https://myanimelist.net/anime/1/Cowboy_Bebop\n",
              "1         5  ...  https://myanimelist.net/anime/5/Cowboy_Bebop__...\n",
              "2         6  ...             https://myanimelist.net/anime/6/Trigun\n",
              "\n",
              "[3 rows x 15 columns]"
            ]
          },
          "metadata": {
            "tags": []
          },
          "execution_count": 21
        }
      ]
    },
    {
      "cell_type": "code",
      "metadata": {
        "id": "2ulZVNUrhKkp",
        "colab_type": "code",
        "colab": {}
      },
      "source": [
        "# Function to convert all strings to lower case and strip names of spaces\n",
        "def clean_data(x):\n",
        "    if isinstance(x, list):\n",
        "        return [str.lower(i.replace(\" \", \"\")) for i in x]\n",
        "    else:\n",
        "        #Check if source exists. If not, return empty string\n",
        "        if isinstance(x, str):\n",
        "            return str.lower(x.replace(\" \", \"\"))\n",
        "        else:\n",
        "            return ''"
      ],
      "execution_count": 22,
      "outputs": []
    },
    {
      "cell_type": "markdown",
      "metadata": {
        "id": "i6NP8mGrh-tq",
        "colab_type": "text"
      },
      "source": [
        ""
      ]
    },
    {
      "cell_type": "code",
      "metadata": {
        "id": "5g7TDlU6hKiL",
        "colab_type": "code",
        "colab": {}
      },
      "source": [
        "#applying the clean_data function\n",
        "for feature in features:\n",
        "    anime_new[feature] = anime_new[feature].apply(clean_data)"
      ],
      "execution_count": 23,
      "outputs": []
    },
    {
      "cell_type": "code",
      "metadata": {
        "id": "6QszOadRbIpC",
        "colab_type": "code",
        "colab": {}
      },
      "source": [
        "def create_soup(x):\n",
        "    return ' '.join(x['Genre']) + ' ' + ' '.join(x['Producer']) + ' ' + ' '.join(x['Studio']) + ' ' + ' '.join(x['Source'])"
      ],
      "execution_count": 24,
      "outputs": []
    },
    {
      "cell_type": "code",
      "metadata": {
        "id": "F1yqyOWZbY2a",
        "colab_type": "code",
        "colab": {}
      },
      "source": [
        "# Create a new soup feature\n",
        "anime_new['soup'] = anime_new.apply(create_soup, axis=1)"
      ],
      "execution_count": 25,
      "outputs": []
    },
    {
      "cell_type": "code",
      "metadata": {
        "id": "YxmgRPMjbfcz",
        "colab_type": "code",
        "colab": {
          "base_uri": "https://localhost:8080/",
          "height": 119
        },
        "outputId": "898eefca-556f-4a25-fd6d-2d109170d0f8"
      },
      "source": [
        "anime_new['soup'].head()"
      ],
      "execution_count": 26,
      "outputs": [
        {
          "output_type": "execute_result",
          "data": {
            "text/plain": [
              "0    action adventure comedy drama scifi space band...\n",
              "1    action space drama mystery scifi sunrise banda...\n",
              "2    action scifi adventure comedy drama shounen vi...\n",
              "3    action magic police supernatural drama mystery...\n",
              "4    adventure fantasy shounen supernatural nan toe...\n",
              "Name: soup, dtype: object"
            ]
          },
          "metadata": {
            "tags": []
          },
          "execution_count": 26
        }
      ]
    },
    {
      "cell_type": "code",
      "metadata": {
        "id": "gxmlcgK0bnHP",
        "colab_type": "code",
        "colab": {}
      },
      "source": [
        "# Import CountVectorizer and create the count matrix\n",
        "from sklearn.feature_extraction.text import CountVectorizer\n",
        "\n",
        "count = CountVectorizer(stop_words='english')\n",
        "count_matrix = count.fit_transform(anime_new['soup'])"
      ],
      "execution_count": 27,
      "outputs": []
    },
    {
      "cell_type": "code",
      "metadata": {
        "id": "7fXFOomOiJut",
        "colab_type": "code",
        "colab": {
          "base_uri": "https://localhost:8080/",
          "height": 34
        },
        "outputId": "9f9f19b8-5f36-4140-b4bd-5bf33fe9762e"
      },
      "source": [
        "count_matrix.shape"
      ],
      "execution_count": 28,
      "outputs": [
        {
          "output_type": "execute_result",
          "data": {
            "text/plain": [
              "(17002, 1382)"
            ]
          },
          "metadata": {
            "tags": []
          },
          "execution_count": 28
        }
      ]
    },
    {
      "cell_type": "code",
      "metadata": {
        "id": "ydhUiOgiiLXW",
        "colab_type": "code",
        "colab": {}
      },
      "source": [
        "# Compute the Cosine Similarity matrix based on the count_matrix\n",
        "from sklearn.metrics.pairwise import cosine_similarity\n",
        "\n",
        "cosine_sim2 = cosine_similarity(count_matrix, count_matrix)"
      ],
      "execution_count": 29,
      "outputs": []
    },
    {
      "cell_type": "markdown",
      "metadata": {
        "id": "iER3_TvHiTgu",
        "colab_type": "text"
      },
      "source": [
        "Using the get_recommendations function for the new cosine similarity"
      ]
    },
    {
      "cell_type": "code",
      "metadata": {
        "id": "v7K5c3XciQZz",
        "colab_type": "code",
        "colab": {
          "base_uri": "https://localhost:8080/",
          "height": 204
        },
        "outputId": "4427ef28-dfbd-4559-8ff0-6005cfccc465"
      },
      "source": [
        "get_recommendations('Death Note', cosine_sim2) #based on features"
      ],
      "execution_count": 30,
      "outputs": [
        {
          "output_type": "execute_result",
          "data": {
            "text/plain": [
              "2525                          Death Note: Rewrite\n",
              "2516                   Majin Tantei Nougami Neuro\n",
              "9                                         Monster\n",
              "3541                              Mouryou no Hako\n",
              "2531      Gyakkyou Burai Kaiji: Ultimate Survivor\n",
              "3067                   Top Secret: The Revelation\n",
              "5426          Gyakkyou Burai Kaiji: Hakairoku-hen\n",
              "5725                       Hunter x Hunter (2011)\n",
              "7119    Hunter x Hunter Movie 2: The Last Mission\n",
              "8552                                 Death Parade\n",
              "Name: Title, dtype: object"
            ]
          },
          "metadata": {
            "tags": []
          },
          "execution_count": 30
        }
      ]
    },
    {
      "cell_type": "code",
      "metadata": {
        "id": "ijm846ItigB_",
        "colab_type": "code",
        "colab": {
          "base_uri": "https://localhost:8080/",
          "height": 204
        },
        "outputId": "45a1cf68-706f-4785-bdc4-09656b58192f"
      },
      "source": [
        "get_recommendations('Death Note', cosine_sim) #based on storyline"
      ],
      "execution_count": 31,
      "outputs": [
        {
          "output_type": "execute_result",
          "data": {
            "text/plain": [
              "2525              Death Note: Rewrite\n",
              "2915                       Soul Eater\n",
              "645              Shinigami no Ballad.\n",
              "12227              Dia Horizon (Kabu)\n",
              "15808      YAT Anshin! Uchuu Ryokou 2\n",
              "16618                  Kite Liberator\n",
              "4229      Ayatsuri Haramase DreamNote\n",
              "466                   Yami no Matsuei\n",
              "630      Bleach: Memories in the Rain\n",
              "1082           Yami no Shihosha Judge\n",
              "Name: Title, dtype: object"
            ]
          },
          "metadata": {
            "tags": []
          },
          "execution_count": 31
        }
      ]
    },
    {
      "cell_type": "code",
      "metadata": {
        "id": "2GwC0l8tij27",
        "colab_type": "code",
        "colab": {}
      },
      "source": [
        "#writing a function to get recommendations using both storyline and features based on 50% for both\n",
        "def get_recommendations_both(title, cos_sim1, cos_sim2):\n",
        "  # Get the index of the movie that matches the title\n",
        "  idx = indices[title]\n",
        "\n",
        "  # Get the pairwsie similarity scores of all anime using similarity1\n",
        "  sim_scores1 = list(enumerate(cos_sim1[idx]))\n",
        "\n",
        "  # Get the pairwsie similarity scores of all anime using similarity1\n",
        "  sim_scores2 = list(enumerate(cos_sim2[idx]))\n",
        "\n",
        "  #Getting the average of both similarity scores\n",
        "  sim_scores_avg = [(sim_scores1[i][0],(sim_scores1[i][1] + sim_scores2[i][1])/2) for i in range(len(sim_scores1))]\n",
        "\n",
        "  # Sort the movies based on the similarity scores\n",
        "  sim_scores_avg = sorted(sim_scores_avg, key=lambda x: x[1], reverse=True)\n",
        "\n",
        "  #Get the scores of the 10 most similar movies\n",
        "  sim_scores_avg = sim_scores_avg[1:11]\n",
        "\n",
        "  #Get the movie indices\n",
        "  anime_indices = [i[0] for i in sim_scores_avg]\n",
        "\n",
        "  #Return the top 10 most similar movies\n",
        "  return anime_new['Title'].iloc[anime_indices]\n"
      ],
      "execution_count": 33,
      "outputs": []
    },
    {
      "cell_type": "code",
      "metadata": {
        "id": "7aftkWi9qJEg",
        "colab_type": "code",
        "colab": {
          "base_uri": "https://localhost:8080/",
          "height": 204
        },
        "outputId": "15a00d86-f3d0-487b-ffb5-782cd1ecf3ae"
      },
      "source": [
        "get_recommendations_both('Death Note',cosine_sim,cosine_sim2)"
      ],
      "execution_count": 34,
      "outputs": [
        {
          "output_type": "execute_result",
          "data": {
            "text/plain": [
              "2525                          Death Note: Rewrite\n",
              "2516                   Majin Tantei Nougami Neuro\n",
              "9                                         Monster\n",
              "8552                                 Death Parade\n",
              "2531      Gyakkyou Burai Kaiji: Ultimate Survivor\n",
              "3541                              Mouryou no Hako\n",
              "5426          Gyakkyou Burai Kaiji: Hakairoku-hen\n",
              "5725                       Hunter x Hunter (2011)\n",
              "3067                   Top Secret: The Revelation\n",
              "7119    Hunter x Hunter Movie 2: The Last Mission\n",
              "Name: Title, dtype: object"
            ]
          },
          "metadata": {
            "tags": []
          },
          "execution_count": 34
        }
      ]
    },
    {
      "cell_type": "code",
      "metadata": {
        "id": "OPaO_QzLlg5K",
        "colab_type": "code",
        "colab": {}
      },
      "source": [
        ""
      ],
      "execution_count": null,
      "outputs": []
    }
  ]
}