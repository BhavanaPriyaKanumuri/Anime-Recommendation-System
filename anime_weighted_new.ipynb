{
 "cells": [
  {
   "cell_type": "markdown",
   "metadata": {},
   "source": [
    "### Simple Recommender System for new anime file"
   ]
  },
  {
   "cell_type": "code",
   "execution_count": null,
   "metadata": {},
   "outputs": [],
   "source": [
    "#importing necessary libraries\n",
    "import pandas as pd\n",
    "import numpy as np\n",
    "import matplotlib.pyplot as plt\n",
    "import seaborn as sns\n",
    "%matplotlib inline"
   ]
  },
  {
   "cell_type": "code",
   "execution_count": 2,
   "metadata": {},
   "outputs": [],
   "source": [
    "#loading the dataset\n",
    "anime_data = pd.read_csv('DATA/Anime_data.csv')"
   ]
  },
  {
   "cell_type": "code",
   "execution_count": 4,
   "metadata": {},
   "outputs": [
    {
     "data": {
      "text/html": [
       "<div>\n",
       "<style scoped>\n",
       "    .dataframe tbody tr th:only-of-type {\n",
       "        vertical-align: middle;\n",
       "    }\n",
       "\n",
       "    .dataframe tbody tr th {\n",
       "        vertical-align: top;\n",
       "    }\n",
       "\n",
       "    .dataframe thead th {\n",
       "        text-align: right;\n",
       "    }\n",
       "</style>\n",
       "<table border=\"1\" class=\"dataframe\">\n",
       "  <thead>\n",
       "    <tr style=\"text-align: right;\">\n",
       "      <th></th>\n",
       "      <th>Anime_id</th>\n",
       "      <th>Title</th>\n",
       "      <th>Genre</th>\n",
       "      <th>Synopsis</th>\n",
       "      <th>Type</th>\n",
       "      <th>Producer</th>\n",
       "      <th>Studio</th>\n",
       "      <th>Rating</th>\n",
       "      <th>ScoredBy</th>\n",
       "      <th>Popularity</th>\n",
       "      <th>Members</th>\n",
       "      <th>Episodes</th>\n",
       "      <th>Source</th>\n",
       "      <th>Aired</th>\n",
       "      <th>Link</th>\n",
       "    </tr>\n",
       "  </thead>\n",
       "  <tbody>\n",
       "    <tr>\n",
       "      <th>0</th>\n",
       "      <td>1</td>\n",
       "      <td>Cowboy Bebop</td>\n",
       "      <td>['Action', 'Adventure', 'Comedy', 'Drama', 'Sc...</td>\n",
       "      <td>In the year 2071, humanity has colonized sever...</td>\n",
       "      <td>TV</td>\n",
       "      <td>['Bandai Visual']</td>\n",
       "      <td>['Sunrise']</td>\n",
       "      <td>8.81</td>\n",
       "      <td>363889.0</td>\n",
       "      <td>39.0</td>\n",
       "      <td>704490.0</td>\n",
       "      <td>26.0</td>\n",
       "      <td>Original</td>\n",
       "      <td>Apr 3, 1998 to Apr 24, 1999</td>\n",
       "      <td>https://myanimelist.net/anime/1/Cowboy_Bebop</td>\n",
       "    </tr>\n",
       "    <tr>\n",
       "      <th>1</th>\n",
       "      <td>5</td>\n",
       "      <td>Cowboy Bebop: Tengoku no Tobira</td>\n",
       "      <td>['Action', 'Space', 'Drama', 'Mystery', 'Sci-Fi']</td>\n",
       "      <td>Another day, another bounty—such is the life o...</td>\n",
       "      <td>Movie</td>\n",
       "      <td>['Sunrise', 'Bandai Visual']</td>\n",
       "      <td>['Bones']</td>\n",
       "      <td>8.41</td>\n",
       "      <td>111187.0</td>\n",
       "      <td>475.0</td>\n",
       "      <td>179899.0</td>\n",
       "      <td>1.0</td>\n",
       "      <td>Original</td>\n",
       "      <td>Sep 1, 2001</td>\n",
       "      <td>https://myanimelist.net/anime/5/Cowboy_Bebop__...</td>\n",
       "    </tr>\n",
       "    <tr>\n",
       "      <th>2</th>\n",
       "      <td>6</td>\n",
       "      <td>Trigun</td>\n",
       "      <td>['Action', 'Sci-Fi', 'Adventure', 'Comedy', 'D...</td>\n",
       "      <td>Vash the Stampede is the man with a $$60,000,0...</td>\n",
       "      <td>TV</td>\n",
       "      <td>['Victor Entertainment']</td>\n",
       "      <td>['Madhouse']</td>\n",
       "      <td>8.31</td>\n",
       "      <td>197451.0</td>\n",
       "      <td>158.0</td>\n",
       "      <td>372709.0</td>\n",
       "      <td>26.0</td>\n",
       "      <td>Manga</td>\n",
       "      <td>Apr 1, 1998 to Sep 30, 1998</td>\n",
       "      <td>https://myanimelist.net/anime/6/Trigun</td>\n",
       "    </tr>\n",
       "  </tbody>\n",
       "</table>\n",
       "</div>"
      ],
      "text/plain": [
       "   Anime_id                            Title  \\\n",
       "0         1                     Cowboy Bebop   \n",
       "1         5  Cowboy Bebop: Tengoku no Tobira   \n",
       "2         6                           Trigun   \n",
       "\n",
       "                                               Genre  \\\n",
       "0  ['Action', 'Adventure', 'Comedy', 'Drama', 'Sc...   \n",
       "1  ['Action', 'Space', 'Drama', 'Mystery', 'Sci-Fi']   \n",
       "2  ['Action', 'Sci-Fi', 'Adventure', 'Comedy', 'D...   \n",
       "\n",
       "                                            Synopsis   Type  \\\n",
       "0  In the year 2071, humanity has colonized sever...     TV   \n",
       "1  Another day, another bounty—such is the life o...  Movie   \n",
       "2  Vash the Stampede is the man with a $$60,000,0...     TV   \n",
       "\n",
       "                       Producer        Studio  Rating  ScoredBy  Popularity  \\\n",
       "0             ['Bandai Visual']   ['Sunrise']    8.81  363889.0        39.0   \n",
       "1  ['Sunrise', 'Bandai Visual']     ['Bones']    8.41  111187.0       475.0   \n",
       "2      ['Victor Entertainment']  ['Madhouse']    8.31  197451.0       158.0   \n",
       "\n",
       "    Members  Episodes    Source                        Aired  \\\n",
       "0  704490.0      26.0  Original  Apr 3, 1998 to Apr 24, 1999   \n",
       "1  179899.0       1.0  Original                  Sep 1, 2001   \n",
       "2  372709.0      26.0     Manga  Apr 1, 1998 to Sep 30, 1998   \n",
       "\n",
       "                                                Link  \n",
       "0       https://myanimelist.net/anime/1/Cowboy_Bebop  \n",
       "1  https://myanimelist.net/anime/5/Cowboy_Bebop__...  \n",
       "2             https://myanimelist.net/anime/6/Trigun  "
      ]
     },
     "execution_count": 4,
     "metadata": {},
     "output_type": "execute_result"
    }
   ],
   "source": [
    "#viewing the data\n",
    "anime_data.head(3)"
   ]
  },
  {
   "cell_type": "code",
   "execution_count": 5,
   "metadata": {},
   "outputs": [
    {
     "data": {
      "text/plain": [
       "(17002, 15)"
      ]
     },
     "execution_count": 5,
     "metadata": {},
     "output_type": "execute_result"
    }
   ],
   "source": [
    "#checking the shape of the data\n",
    "anime_data.shape"
   ]
  },
  {
   "cell_type": "code",
   "execution_count": 6,
   "metadata": {},
   "outputs": [],
   "source": [
    "#renaming the column names\n",
    "anime_data = anime_data.rename(columns={'Anime_id': 'anime_id', 'Title': 'title','Genre':'genres','Synopsis':'synopsis',\n",
    "                                       'Type':'anime_type','Producer':'producer','Studio':'studio','Rating':'rating','ScoredBy':'scored_by','Popularity':'popularity',\n",
    "                                       'Members':'members','Episodes':'num_of_episodes','Source':'anime_source'})"
   ]
  },
  {
   "cell_type": "code",
   "execution_count": 7,
   "metadata": {},
   "outputs": [
    {
     "data": {
      "text/plain": [
       "anime_id             int64\n",
       "title               object\n",
       "genres              object\n",
       "synopsis            object\n",
       "anime_type          object\n",
       "producer            object\n",
       "studio              object\n",
       "rating             float64\n",
       "scored_by          float64\n",
       "popularity         float64\n",
       "members            float64\n",
       "num_of_episodes    float64\n",
       "anime_source        object\n",
       "Aired               object\n",
       "Link                object\n",
       "dtype: object"
      ]
     },
     "execution_count": 7,
     "metadata": {},
     "output_type": "execute_result"
    }
   ],
   "source": [
    "#checking the datatype of each column\n",
    "anime_data.dtypes"
   ]
  },
  {
   "cell_type": "code",
   "execution_count": 8,
   "metadata": {},
   "outputs": [
    {
     "data": {
      "text/plain": [
       "16737"
      ]
     },
     "execution_count": 8,
     "metadata": {},
     "output_type": "execute_result"
    }
   ],
   "source": [
    "#checking out the number of unique animes\n",
    "len(anime_data['title'].unique())"
   ]
  },
  {
   "cell_type": "code",
   "execution_count": 9,
   "metadata": {},
   "outputs": [],
   "source": [
    "#creating the function to remove the characters\n",
    "import re\n",
    "def clean_up(s):\n",
    "    return re.sub(r\"[^\\sa-zA-Z0-9\\.\\,\\;]\",\"\",str(s))"
   ]
  },
  {
   "cell_type": "code",
   "execution_count": 11,
   "metadata": {},
   "outputs": [],
   "source": [
    "anime_data['title'] = anime_data['title'].apply(clean_up)\n",
    "anime_data['genres'] = anime_data['genres'].apply(clean_up)\n",
    "anime_data['producer'] = anime_data['producer'].apply(clean_up)\n",
    "anime_data['studio'] = anime_data['studio'].apply(clean_up)"
   ]
  },
  {
   "cell_type": "code",
   "execution_count": 12,
   "metadata": {},
   "outputs": [
    {
     "data": {
      "text/html": [
       "<div>\n",
       "<style scoped>\n",
       "    .dataframe tbody tr th:only-of-type {\n",
       "        vertical-align: middle;\n",
       "    }\n",
       "\n",
       "    .dataframe tbody tr th {\n",
       "        vertical-align: top;\n",
       "    }\n",
       "\n",
       "    .dataframe thead th {\n",
       "        text-align: right;\n",
       "    }\n",
       "</style>\n",
       "<table border=\"1\" class=\"dataframe\">\n",
       "  <thead>\n",
       "    <tr style=\"text-align: right;\">\n",
       "      <th></th>\n",
       "      <th>anime_id</th>\n",
       "      <th>title</th>\n",
       "      <th>genres</th>\n",
       "      <th>synopsis</th>\n",
       "      <th>anime_type</th>\n",
       "      <th>producer</th>\n",
       "      <th>studio</th>\n",
       "      <th>rating</th>\n",
       "      <th>scored_by</th>\n",
       "      <th>popularity</th>\n",
       "      <th>members</th>\n",
       "      <th>num_of_episodes</th>\n",
       "      <th>anime_source</th>\n",
       "      <th>Aired</th>\n",
       "      <th>Link</th>\n",
       "    </tr>\n",
       "  </thead>\n",
       "  <tbody>\n",
       "    <tr>\n",
       "      <th>0</th>\n",
       "      <td>1</td>\n",
       "      <td>Cowboy Bebop</td>\n",
       "      <td>Action, Adventure, Comedy, Drama, SciFi, Space</td>\n",
       "      <td>In the year 2071, humanity has colonized sever...</td>\n",
       "      <td>TV</td>\n",
       "      <td>Bandai Visual</td>\n",
       "      <td>Sunrise</td>\n",
       "      <td>8.81</td>\n",
       "      <td>363889.0</td>\n",
       "      <td>39.0</td>\n",
       "      <td>704490.0</td>\n",
       "      <td>26.0</td>\n",
       "      <td>Original</td>\n",
       "      <td>Apr 3, 1998 to Apr 24, 1999</td>\n",
       "      <td>https://myanimelist.net/anime/1/Cowboy_Bebop</td>\n",
       "    </tr>\n",
       "    <tr>\n",
       "      <th>1</th>\n",
       "      <td>5</td>\n",
       "      <td>Cowboy Bebop Tengoku no Tobira</td>\n",
       "      <td>Action, Space, Drama, Mystery, SciFi</td>\n",
       "      <td>Another day, another bounty—such is the life o...</td>\n",
       "      <td>Movie</td>\n",
       "      <td>Sunrise, Bandai Visual</td>\n",
       "      <td>Bones</td>\n",
       "      <td>8.41</td>\n",
       "      <td>111187.0</td>\n",
       "      <td>475.0</td>\n",
       "      <td>179899.0</td>\n",
       "      <td>1.0</td>\n",
       "      <td>Original</td>\n",
       "      <td>Sep 1, 2001</td>\n",
       "      <td>https://myanimelist.net/anime/5/Cowboy_Bebop__...</td>\n",
       "    </tr>\n",
       "  </tbody>\n",
       "</table>\n",
       "</div>"
      ],
      "text/plain": [
       "   anime_id                           title  \\\n",
       "0         1                    Cowboy Bebop   \n",
       "1         5  Cowboy Bebop Tengoku no Tobira   \n",
       "\n",
       "                                           genres  \\\n",
       "0  Action, Adventure, Comedy, Drama, SciFi, Space   \n",
       "1            Action, Space, Drama, Mystery, SciFi   \n",
       "\n",
       "                                            synopsis anime_type  \\\n",
       "0  In the year 2071, humanity has colonized sever...         TV   \n",
       "1  Another day, another bounty—such is the life o...      Movie   \n",
       "\n",
       "                 producer   studio  rating  scored_by  popularity   members  \\\n",
       "0           Bandai Visual  Sunrise    8.81   363889.0        39.0  704490.0   \n",
       "1  Sunrise, Bandai Visual    Bones    8.41   111187.0       475.0  179899.0   \n",
       "\n",
       "   num_of_episodes anime_source                        Aired  \\\n",
       "0             26.0     Original  Apr 3, 1998 to Apr 24, 1999   \n",
       "1              1.0     Original                  Sep 1, 2001   \n",
       "\n",
       "                                                Link  \n",
       "0       https://myanimelist.net/anime/1/Cowboy_Bebop  \n",
       "1  https://myanimelist.net/anime/5/Cowboy_Bebop__...  "
      ]
     },
     "execution_count": 12,
     "metadata": {},
     "output_type": "execute_result"
    }
   ],
   "source": [
    "#viewing the cleaned data\n",
    "anime_data.head(2)"
   ]
  },
  {
   "cell_type": "code",
   "execution_count": 13,
   "metadata": {},
   "outputs": [],
   "source": [
    "#cleaning the data by dropping columns that will not be used\n",
    "anime_data = anime_data.drop(columns=['Aired','Link','num_of_episodes'])"
   ]
  },
  {
   "cell_type": "code",
   "execution_count": 14,
   "metadata": {},
   "outputs": [
    {
     "data": {
      "text/html": [
       "<div>\n",
       "<style scoped>\n",
       "    .dataframe tbody tr th:only-of-type {\n",
       "        vertical-align: middle;\n",
       "    }\n",
       "\n",
       "    .dataframe tbody tr th {\n",
       "        vertical-align: top;\n",
       "    }\n",
       "\n",
       "    .dataframe thead th {\n",
       "        text-align: right;\n",
       "    }\n",
       "</style>\n",
       "<table border=\"1\" class=\"dataframe\">\n",
       "  <thead>\n",
       "    <tr style=\"text-align: right;\">\n",
       "      <th></th>\n",
       "      <th>anime_id</th>\n",
       "      <th>title</th>\n",
       "      <th>genres</th>\n",
       "      <th>synopsis</th>\n",
       "      <th>anime_type</th>\n",
       "      <th>producer</th>\n",
       "      <th>studio</th>\n",
       "      <th>rating</th>\n",
       "      <th>scored_by</th>\n",
       "      <th>popularity</th>\n",
       "      <th>members</th>\n",
       "      <th>anime_source</th>\n",
       "    </tr>\n",
       "  </thead>\n",
       "  <tbody>\n",
       "    <tr>\n",
       "      <th>0</th>\n",
       "      <td>1</td>\n",
       "      <td>Cowboy Bebop</td>\n",
       "      <td>Action, Adventure, Comedy, Drama, SciFi, Space</td>\n",
       "      <td>In the year 2071, humanity has colonized sever...</td>\n",
       "      <td>TV</td>\n",
       "      <td>Bandai Visual</td>\n",
       "      <td>Sunrise</td>\n",
       "      <td>8.81</td>\n",
       "      <td>363889.0</td>\n",
       "      <td>39.0</td>\n",
       "      <td>704490.0</td>\n",
       "      <td>Original</td>\n",
       "    </tr>\n",
       "    <tr>\n",
       "      <th>1</th>\n",
       "      <td>5</td>\n",
       "      <td>Cowboy Bebop Tengoku no Tobira</td>\n",
       "      <td>Action, Space, Drama, Mystery, SciFi</td>\n",
       "      <td>Another day, another bounty—such is the life o...</td>\n",
       "      <td>Movie</td>\n",
       "      <td>Sunrise, Bandai Visual</td>\n",
       "      <td>Bones</td>\n",
       "      <td>8.41</td>\n",
       "      <td>111187.0</td>\n",
       "      <td>475.0</td>\n",
       "      <td>179899.0</td>\n",
       "      <td>Original</td>\n",
       "    </tr>\n",
       "    <tr>\n",
       "      <th>2</th>\n",
       "      <td>6</td>\n",
       "      <td>Trigun</td>\n",
       "      <td>Action, SciFi, Adventure, Comedy, Drama, Shounen</td>\n",
       "      <td>Vash the Stampede is the man with a $$60,000,0...</td>\n",
       "      <td>TV</td>\n",
       "      <td>Victor Entertainment</td>\n",
       "      <td>Madhouse</td>\n",
       "      <td>8.31</td>\n",
       "      <td>197451.0</td>\n",
       "      <td>158.0</td>\n",
       "      <td>372709.0</td>\n",
       "      <td>Manga</td>\n",
       "    </tr>\n",
       "  </tbody>\n",
       "</table>\n",
       "</div>"
      ],
      "text/plain": [
       "   anime_id                           title  \\\n",
       "0         1                    Cowboy Bebop   \n",
       "1         5  Cowboy Bebop Tengoku no Tobira   \n",
       "2         6                          Trigun   \n",
       "\n",
       "                                             genres  \\\n",
       "0    Action, Adventure, Comedy, Drama, SciFi, Space   \n",
       "1              Action, Space, Drama, Mystery, SciFi   \n",
       "2  Action, SciFi, Adventure, Comedy, Drama, Shounen   \n",
       "\n",
       "                                            synopsis anime_type  \\\n",
       "0  In the year 2071, humanity has colonized sever...         TV   \n",
       "1  Another day, another bounty—such is the life o...      Movie   \n",
       "2  Vash the Stampede is the man with a $$60,000,0...         TV   \n",
       "\n",
       "                 producer    studio  rating  scored_by  popularity   members  \\\n",
       "0           Bandai Visual   Sunrise    8.81   363889.0        39.0  704490.0   \n",
       "1  Sunrise, Bandai Visual     Bones    8.41   111187.0       475.0  179899.0   \n",
       "2    Victor Entertainment  Madhouse    8.31   197451.0       158.0  372709.0   \n",
       "\n",
       "  anime_source  \n",
       "0     Original  \n",
       "1     Original  \n",
       "2        Manga  "
      ]
     },
     "execution_count": 14,
     "metadata": {},
     "output_type": "execute_result"
    }
   ],
   "source": [
    "anime_data.head(3)"
   ]
  },
  {
   "cell_type": "code",
   "execution_count": 15,
   "metadata": {},
   "outputs": [
    {
     "data": {
      "text/plain": [
       "anime_id           0\n",
       "title              0\n",
       "genres             0\n",
       "synopsis        1419\n",
       "anime_type       634\n",
       "producer           0\n",
       "studio             0\n",
       "rating          2577\n",
       "scored_by       3775\n",
       "popularity       634\n",
       "members            0\n",
       "anime_source    1927\n",
       "dtype: int64"
      ]
     },
     "execution_count": 15,
     "metadata": {},
     "output_type": "execute_result"
    }
   ],
   "source": [
    "#checking for null values\n",
    "anime_data.isnull().sum()"
   ]
  },
  {
   "cell_type": "code",
   "execution_count": 16,
   "metadata": {},
   "outputs": [],
   "source": [
    "#dropping the rows that have null values for both rating and synopsis\n",
    "anime_data.dropna(subset = ['synopsis','rating'], how = 'all', inplace = True)"
   ]
  },
  {
   "cell_type": "code",
   "execution_count": 17,
   "metadata": {},
   "outputs": [
    {
     "data": {
      "text/plain": [
       "anime_id           0\n",
       "title              0\n",
       "genres             0\n",
       "synopsis         615\n",
       "anime_type       537\n",
       "producer           0\n",
       "studio             0\n",
       "rating          1773\n",
       "scored_by       2984\n",
       "popularity       144\n",
       "members            0\n",
       "anime_source    1830\n",
       "dtype: int64"
      ]
     },
     "execution_count": 17,
     "metadata": {},
     "output_type": "execute_result"
    }
   ],
   "source": [
    "anime_data.isnull().sum()"
   ]
  },
  {
   "cell_type": "markdown",
   "metadata": {},
   "source": [
    "## EDA"
   ]
  },
  {
   "cell_type": "code",
   "execution_count": 19,
   "metadata": {},
   "outputs": [
    {
     "name": "stdout",
     "output_type": "stream",
     "text": [
      "['Action', ' Adventure', ' Comedy', ' Drama', ' SciFi', ' Space', ' Mystery', ' Shounen', ' Magic', ' Police', ' Supernatural', 'Adventure', ' Fantasy', ' Sports', 'Comedy', ' Josei', ' Romance', ' Slice of Life', 'Slice of Life', ' Cars', ' Seinen', 'Drama', ' Horror', ' Psychological', ' Thriller', ' Super Power', ' Martial Arts', ' School', ' Ecchi', ' Vampire', ' Military', ' Historical', ' Dementia', ' Mecha', 'SciFi', ' Demons', ' Samurai', 'Samurai', 'Game', ' Shoujo', ' Harem', ' Music', 'Harem', 'Military', 'Space', ' Shoujo Ai', 'Music', ' Game', 'Mecha', 'Supernatural', ' Shounen Ai', ' Kids', 'Historical', 'Mystery', 'Magic', 'School', ' Hentai', 'Hentai', ' Parody', 'Fantasy', 'Horror', 'Ecchi', 'Kids', 'Sports', ' Yuri', 'Dementia', 'Romance', 'Police', 'Psychological', 'Shounen', 'Demons', 'Parody', ' Yaoi', 'Shoujo', 'Super Power', 'Cars', 'Vampire', 'Martial Arts', 'Yaoi', 'Thriller', 'Seinen', 'Josei', 'nan']\n"
     ]
    }
   ],
   "source": [
    "#obtaining the number of unique genres\n",
    "anime_genres = anime_data['genres'].copy()\n",
    "unique_genres = []\n",
    "for genre in anime_genres:\n",
    "    store = genre.split(',')\n",
    "    for x in store:\n",
    "        if x not in unique_genres:\n",
    "            unique_genres.append(x)\n",
    "print(unique_genres)"
   ]
  },
  {
   "cell_type": "code",
   "execution_count": 20,
   "metadata": {},
   "outputs": [
    {
     "data": {
      "text/plain": [
       "anime_type\n",
       "Movie      2747\n",
       "Music      1089\n",
       "ONA        1353\n",
       "OVA        3770\n",
       "Special    2093\n",
       "TV         4576\n",
       "Unknown      33\n",
       "Name: title, dtype: int64"
      ]
     },
     "execution_count": 20,
     "metadata": {},
     "output_type": "execute_result"
    }
   ],
   "source": [
    "#getting the number of anime under each type\n",
    "anime_data.groupby('anime_type')['title'].count()"
   ]
  },
  {
   "cell_type": "code",
   "execution_count": 21,
   "metadata": {},
   "outputs": [
    {
     "data": {
      "text/plain": [
       "anime_source\n",
       "4-koma manga      227\n",
       "Book               86\n",
       "Card game          52\n",
       "Digital manga      11\n",
       "Game              646\n",
       "Light novel       555\n",
       "Manga            3029\n",
       "Music             354\n",
       "Novel             360\n",
       "Original         3706\n",
       "Other             438\n",
       "Picture book      104\n",
       "Radio               9\n",
       "Unknown          3825\n",
       "Visual novel      800\n",
       "Web manga         166\n",
       "Name: title, dtype: int64"
      ]
     },
     "execution_count": 21,
     "metadata": {},
     "output_type": "execute_result"
    }
   ],
   "source": [
    "#getting the number of anime under each source\n",
    "anime_data.groupby('anime_source')['title'].count()"
   ]
  },
  {
   "cell_type": "code",
   "execution_count": 22,
   "metadata": {},
   "outputs": [
    {
     "data": {
      "text/plain": [
       "producer\n",
       "nan               8588\n",
       "NHK                426\n",
       "Sanrio             147\n",
       "Pink Pineapple     143\n",
       "Bandai Visual      111\n",
       "Name: title, dtype: int64"
      ]
     },
     "execution_count": 22,
     "metadata": {},
     "output_type": "execute_result"
    }
   ],
   "source": [
    "#getting the producer under each source\n",
    "anime_data.groupby('producer')['title'].count().sort_values(ascending=False).head()"
   ]
  },
  {
   "cell_type": "code",
   "execution_count": 23,
   "metadata": {},
   "outputs": [
    {
     "data": {
      "text/plain": [
       "studio\n",
       "nan                                       8310\n",
       "Toei Animation                             642\n",
       "Sunrise                                    398\n",
       "Madhouse                                   282\n",
       "J.C.Staff                                  279\n",
       "                                          ... \n",
       "Passione, Creators in Pack                   1\n",
       "Picograph                                    1\n",
       "Picona                                       1\n",
       "Picture Magic, Rikuentai                     1\n",
       "Nippon Animation, SynergySP, Shirogumi       1\n",
       "Name: title, Length: 772, dtype: int64"
      ]
     },
     "execution_count": 23,
     "metadata": {},
     "output_type": "execute_result"
    }
   ],
   "source": [
    "#getting the number of anime under each studio\n",
    "anime_data.groupby('studio')['title'].count().sort_values(ascending=False)"
   ]
  },
  {
   "cell_type": "code",
   "execution_count": 24,
   "metadata": {},
   "outputs": [
    {
     "data": {
      "text/plain": [
       "<matplotlib.axes._subplots.AxesSubplot at 0x7f1faea4ffd0>"
      ]
     },
     "execution_count": 24,
     "metadata": {},
     "output_type": "execute_result"
    },
    {
     "data": {
      "image/png": "[encoded data removed]",
      "text/plain": [
       "<Figure size 720x288 with 1 Axes>"
      ]
     },
     "metadata": {
      "needs_background": "light"
     },
     "output_type": "display_data"
    }
   ],
   "source": [
    "#plotting the popularity against the people that rated the anime\n",
    "plt.figure(figsize = (10,4))\n",
    "sns.scatterplot(x = \"scored_by\",y = \"popularity\",data = anime_data)"
   ]
  },
  {
   "cell_type": "code",
   "execution_count": 25,
   "metadata": {},
   "outputs": [
    {
     "data": {
      "text/plain": [
       "<matplotlib.axes._subplots.AxesSubplot at 0x7f1fae9ac978>"
      ]
     },
     "execution_count": 25,
     "metadata": {},
     "output_type": "execute_result"
    },
    {
     "data": {
      "image/png": "[encoded data removed]",
      "text/plain": [
       "<Figure size 720x288 with 1 Axes>"
      ]
     },
     "metadata": {
      "needs_background": "light"
     },
     "output_type": "display_data"
    }
   ],
   "source": [
    "#plotting the popularity against the members\n",
    "plt.figure(figsize = (10,4))\n",
    "#plt.xlim(0,200000)\n",
    "sns.scatterplot(x = \"members\",y = \"popularity\",data = anime_data)"
   ]
  },
  {
   "cell_type": "code",
   "execution_count": 26,
   "metadata": {},
   "outputs": [
    {
     "data": {
      "text/plain": [
       "<matplotlib.axes._subplots.AxesSubplot at 0x7f1fae464898>"
      ]
     },
     "execution_count": 26,
     "metadata": {},
     "output_type": "execute_result"
    },
    {
     "data": {
      "image/png": "[encoded data removed]",
      "text/plain": [
       "<Figure size 720x288 with 1 Axes>"
      ]
     },
     "metadata": {
      "needs_background": "light"
     },
     "output_type": "display_data"
    }
   ],
   "source": [
    "#plotting a graph of ratings\n",
    "plt.figure(figsize = (10,4))\n",
    "anime_data['rating'].hist(bins = 50)"
   ]
  },
  {
   "cell_type": "code",
   "execution_count": 27,
   "metadata": {},
   "outputs": [
    {
     "data": {
      "text/plain": [
       "<matplotlib.axes._subplots.AxesSubplot at 0x7f1fae3c7438>"
      ]
     },
     "execution_count": 27,
     "metadata": {},
     "output_type": "execute_result"
    },
    {
     "data": {
      "image/png": "[encoded data removed]",
      "text/plain": [
       "<Figure size 1440x432 with 1 Axes>"
      ]
     },
     "metadata": {
      "needs_background": "light"
     },
     "output_type": "display_data"
    }
   ],
   "source": [
    "#plotting a graph to show how popularity varies with anime_source\n",
    "plt.figure(figsize = (20,6))\n",
    "plt.xticks(rotation = 90)\n",
    "sns.scatterplot(x = \"anime_source\",y = \"popularity\", hue= 'anime_type', data = anime_data)"
   ]
  },
  {
   "cell_type": "markdown",
   "metadata": {},
   "source": [
    "# A recommender system that recommends the highest rated anime to a user"
   ]
  },
  {
   "cell_type": "markdown",
   "metadata": {},
   "source": [
    "Using the Weighted Average Formula AND the members column based on popularity\n",
    "WR = (RV + Cm/V+m) where:\n",
    "- V is the number of votes\n",
    "- m is minimum votes required to be listed\n",
    "- R is rating average of the anime\n",
    "- C is mean vote across whole report"
   ]
  },
  {
   "cell_type": "code",
   "execution_count": 28,
   "metadata": {},
   "outputs": [],
   "source": [
    "#finding the weighted average for each anime\n",
    "V = anime_data['scored_by']                       #number of votes for each anime\n",
    "R = anime_data['rating']                     #average voting rating for each anime\n",
    "C = anime_data['rating'].mean()              #mean vote across the whole report\n",
    "m = anime_data['scored_by'].quantile(0.80)        #minimum votes requires to be among the top \n",
    "\n",
    "anime_data['weighted_avg'] = ((R*V)+(C*m))/(V+m)     #used by imdb to calculate weighted average of movies"
   ]
  },
  {
   "cell_type": "code",
   "execution_count": 29,
   "metadata": {},
   "outputs": [
    {
     "data": {
      "text/html": [
       "<div>\n",
       "<style scoped>\n",
       "    .dataframe tbody tr th:only-of-type {\n",
       "        vertical-align: middle;\n",
       "    }\n",
       "\n",
       "    .dataframe tbody tr th {\n",
       "        vertical-align: top;\n",
       "    }\n",
       "\n",
       "    .dataframe thead th {\n",
       "        text-align: right;\n",
       "    }\n",
       "</style>\n",
       "<table border=\"1\" class=\"dataframe\">\n",
       "  <thead>\n",
       "    <tr style=\"text-align: right;\">\n",
       "      <th></th>\n",
       "      <th>anime_id</th>\n",
       "      <th>title</th>\n",
       "      <th>genres</th>\n",
       "      <th>synopsis</th>\n",
       "      <th>anime_type</th>\n",
       "      <th>producer</th>\n",
       "      <th>studio</th>\n",
       "      <th>rating</th>\n",
       "      <th>scored_by</th>\n",
       "      <th>popularity</th>\n",
       "      <th>members</th>\n",
       "      <th>anime_source</th>\n",
       "      <th>weighted_avg</th>\n",
       "    </tr>\n",
       "  </thead>\n",
       "  <tbody>\n",
       "    <tr>\n",
       "      <th>0</th>\n",
       "      <td>1</td>\n",
       "      <td>Cowboy Bebop</td>\n",
       "      <td>Action, Adventure, Comedy, Drama, SciFi, Space</td>\n",
       "      <td>In the year 2071, humanity has colonized sever...</td>\n",
       "      <td>TV</td>\n",
       "      <td>Bandai Visual</td>\n",
       "      <td>Sunrise</td>\n",
       "      <td>8.81</td>\n",
       "      <td>363889.0</td>\n",
       "      <td>39.0</td>\n",
       "      <td>704490.0</td>\n",
       "      <td>Original</td>\n",
       "      <td>8.762879</td>\n",
       "    </tr>\n",
       "    <tr>\n",
       "      <th>1</th>\n",
       "      <td>5</td>\n",
       "      <td>Cowboy Bebop Tengoku no Tobira</td>\n",
       "      <td>Action, Space, Drama, Mystery, SciFi</td>\n",
       "      <td>Another day, another bounty—such is the life o...</td>\n",
       "      <td>Movie</td>\n",
       "      <td>Sunrise, Bandai Visual</td>\n",
       "      <td>Bones</td>\n",
       "      <td>8.41</td>\n",
       "      <td>111187.0</td>\n",
       "      <td>475.0</td>\n",
       "      <td>179899.0</td>\n",
       "      <td>Original</td>\n",
       "      <td>8.285527</td>\n",
       "    </tr>\n",
       "    <tr>\n",
       "      <th>2</th>\n",
       "      <td>6</td>\n",
       "      <td>Trigun</td>\n",
       "      <td>Action, SciFi, Adventure, Comedy, Drama, Shounen</td>\n",
       "      <td>Vash the Stampede is the man with a $$60,000,0...</td>\n",
       "      <td>TV</td>\n",
       "      <td>Victor Entertainment</td>\n",
       "      <td>Madhouse</td>\n",
       "      <td>8.31</td>\n",
       "      <td>197451.0</td>\n",
       "      <td>158.0</td>\n",
       "      <td>372709.0</td>\n",
       "      <td>Manga</td>\n",
       "      <td>8.241454</td>\n",
       "    </tr>\n",
       "  </tbody>\n",
       "</table>\n",
       "</div>"
      ],
      "text/plain": [
       "   anime_id                           title  \\\n",
       "0         1                    Cowboy Bebop   \n",
       "1         5  Cowboy Bebop Tengoku no Tobira   \n",
       "2         6                          Trigun   \n",
       "\n",
       "                                             genres  \\\n",
       "0    Action, Adventure, Comedy, Drama, SciFi, Space   \n",
       "1              Action, Space, Drama, Mystery, SciFi   \n",
       "2  Action, SciFi, Adventure, Comedy, Drama, Shounen   \n",
       "\n",
       "                                            synopsis anime_type  \\\n",
       "0  In the year 2071, humanity has colonized sever...         TV   \n",
       "1  Another day, another bounty—such is the life o...      Movie   \n",
       "2  Vash the Stampede is the man with a $$60,000,0...         TV   \n",
       "\n",
       "                 producer    studio  rating  scored_by  popularity   members  \\\n",
       "0           Bandai Visual   Sunrise    8.81   363889.0        39.0  704490.0   \n",
       "1  Sunrise, Bandai Visual     Bones    8.41   111187.0       475.0  179899.0   \n",
       "2    Victor Entertainment  Madhouse    8.31   197451.0       158.0  372709.0   \n",
       "\n",
       "  anime_source  weighted_avg  \n",
       "0     Original      8.762879  \n",
       "1     Original      8.285527  \n",
       "2        Manga      8.241454  "
      ]
     },
     "execution_count": 29,
     "metadata": {},
     "output_type": "execute_result"
    }
   ],
   "source": [
    "anime_data.head(3)"
   ]
  },
  {
   "cell_type": "code",
   "execution_count": 30,
   "metadata": {},
   "outputs": [
    {
     "data": {
      "text/html": [
       "<div>\n",
       "<style scoped>\n",
       "    .dataframe tbody tr th:only-of-type {\n",
       "        vertical-align: middle;\n",
       "    }\n",
       "\n",
       "    .dataframe tbody tr th {\n",
       "        vertical-align: top;\n",
       "    }\n",
       "\n",
       "    .dataframe thead th {\n",
       "        text-align: right;\n",
       "    }\n",
       "</style>\n",
       "<table border=\"1\" class=\"dataframe\">\n",
       "  <thead>\n",
       "    <tr style=\"text-align: right;\">\n",
       "      <th></th>\n",
       "      <th>anime_id</th>\n",
       "      <th>title</th>\n",
       "      <th>genres</th>\n",
       "      <th>synopsis</th>\n",
       "      <th>anime_type</th>\n",
       "      <th>producer</th>\n",
       "      <th>studio</th>\n",
       "      <th>rating</th>\n",
       "      <th>scored_by</th>\n",
       "      <th>popularity</th>\n",
       "      <th>members</th>\n",
       "      <th>anime_source</th>\n",
       "      <th>weighted_avg</th>\n",
       "    </tr>\n",
       "  </thead>\n",
       "  <tbody>\n",
       "    <tr>\n",
       "      <th>3634</th>\n",
       "      <td>5114</td>\n",
       "      <td>Fullmetal Alchemist Brotherhood</td>\n",
       "      <td>Action, Military, Adventure, Comedy, Drama, Ma...</td>\n",
       "      <td>\"In order for something to be obtained, someth...</td>\n",
       "      <td>TV</td>\n",
       "      <td>Aniplex, Square Enix, Mainichi Broadcasting Sy...</td>\n",
       "      <td>Bones</td>\n",
       "      <td>9.25</td>\n",
       "      <td>730784.0</td>\n",
       "      <td>4.0</td>\n",
       "      <td>1194518.0</td>\n",
       "      <td>Manga</td>\n",
       "      <td>9.222182</td>\n",
       "    </tr>\n",
       "    <tr>\n",
       "      <th>10110</th>\n",
       "      <td>32281</td>\n",
       "      <td>Kimi no Na wa.</td>\n",
       "      <td>Supernatural, Drama, Romance, School</td>\n",
       "      <td>Mitsuha Miyamizu, a high school girl, yearns t...</td>\n",
       "      <td>Movie</td>\n",
       "      <td>Kadokawa Shoten, Toho, Sound Team Don Juan, La...</td>\n",
       "      <td>CoMix Wave Films</td>\n",
       "      <td>9.19</td>\n",
       "      <td>467437.0</td>\n",
       "      <td>15.0</td>\n",
       "      <td>724490.0</td>\n",
       "      <td>Original</td>\n",
       "      <td>9.147615</td>\n",
       "    </tr>\n",
       "    <tr>\n",
       "      <th>5031</th>\n",
       "      <td>9253</td>\n",
       "      <td>Steins;Gate</td>\n",
       "      <td>Thriller, SciFi</td>\n",
       "      <td>The self-proclaimed mad scientist Rintarou Oka...</td>\n",
       "      <td>TV</td>\n",
       "      <td>Frontier Works, Media Factory, Movic, ATX, Kad...</td>\n",
       "      <td>White Fox</td>\n",
       "      <td>9.14</td>\n",
       "      <td>561405.0</td>\n",
       "      <td>7.0</td>\n",
       "      <td>1005781.0</td>\n",
       "      <td>Visual novel</td>\n",
       "      <td>9.105232</td>\n",
       "    </tr>\n",
       "  </tbody>\n",
       "</table>\n",
       "</div>"
      ],
      "text/plain": [
       "       anime_id                            title  \\\n",
       "3634       5114  Fullmetal Alchemist Brotherhood   \n",
       "10110     32281                   Kimi no Na wa.   \n",
       "5031       9253                      Steins;Gate   \n",
       "\n",
       "                                                  genres  \\\n",
       "3634   Action, Military, Adventure, Comedy, Drama, Ma...   \n",
       "10110               Supernatural, Drama, Romance, School   \n",
       "5031                                     Thriller, SciFi   \n",
       "\n",
       "                                                synopsis anime_type  \\\n",
       "3634   \"In order for something to be obtained, someth...         TV   \n",
       "10110  Mitsuha Miyamizu, a high school girl, yearns t...      Movie   \n",
       "5031   The self-proclaimed mad scientist Rintarou Oka...         TV   \n",
       "\n",
       "                                                producer            studio  \\\n",
       "3634   Aniplex, Square Enix, Mainichi Broadcasting Sy...             Bones   \n",
       "10110  Kadokawa Shoten, Toho, Sound Team Don Juan, La...  CoMix Wave Films   \n",
       "5031   Frontier Works, Media Factory, Movic, ATX, Kad...         White Fox   \n",
       "\n",
       "       rating  scored_by  popularity    members  anime_source  weighted_avg  \n",
       "3634     9.25   730784.0         4.0  1194518.0         Manga      9.222182  \n",
       "10110    9.19   467437.0        15.0   724490.0      Original      9.147615  \n",
       "5031     9.14   561405.0         7.0  1005781.0  Visual novel      9.105232  "
      ]
     },
     "execution_count": 30,
     "metadata": {},
     "output_type": "execute_result"
    }
   ],
   "source": [
    "#recommending the top 10 anime with the highest weighted average\n",
    "total_anime = anime_data.copy()\n",
    "wavg = total_anime.sort_values('weighted_avg', ascending = False)\n",
    "wavg.head(3)"
   ]
  },
  {
   "cell_type": "code",
   "execution_count": 31,
   "metadata": {},
   "outputs": [
    {
     "data": {
      "text/plain": [
       "Text(0, 0.5, 'Anime Title')"
      ]
     },
     "execution_count": 31,
     "metadata": {},
     "output_type": "execute_result"
    },
    {
     "data": {
      "image/png": "[encoded data removed]",
      "text/plain": [
       "<Figure size 1296x576 with 1 Axes>"
      ]
     },
     "metadata": {
      "needs_background": "light"
     },
     "output_type": "display_data"
    }
   ],
   "source": [
    "#plotting the top 10 anime according to weighted average\n",
    "plt.figure(figsize=(18,8))\n",
    "\n",
    "ax = sns.barplot(x = wavg['weighted_avg'].head(10), y = wavg['title'].head(10), data =wavg, palette='dark')\n",
    "\n",
    "plt.title('Best anime by average rating', weight = 'bold')\n",
    "plt.xlabel('Weighted Average Score', weight = 'bold')\n",
    "plt.ylabel('Anime Title', weight = 'bold')\n",
    "\n",
    "#plt.savefig('best_anime using weighted avg.png')"
   ]
  },
  {
   "cell_type": "markdown",
   "metadata": {},
   "source": [
    "# Recommending according to the anime with the largest members"
   ]
  },
  {
   "cell_type": "code",
   "execution_count": 33,
   "metadata": {},
   "outputs": [
    {
     "data": {
      "text/html": [
       "<div>\n",
       "<style scoped>\n",
       "    .dataframe tbody tr th:only-of-type {\n",
       "        vertical-align: middle;\n",
       "    }\n",
       "\n",
       "    .dataframe tbody tr th {\n",
       "        vertical-align: top;\n",
       "    }\n",
       "\n",
       "    .dataframe thead th {\n",
       "        text-align: right;\n",
       "    }\n",
       "</style>\n",
       "<table border=\"1\" class=\"dataframe\">\n",
       "  <thead>\n",
       "    <tr style=\"text-align: right;\">\n",
       "      <th></th>\n",
       "      <th>anime_id</th>\n",
       "      <th>title</th>\n",
       "      <th>genres</th>\n",
       "      <th>synopsis</th>\n",
       "      <th>anime_type</th>\n",
       "      <th>producer</th>\n",
       "      <th>studio</th>\n",
       "      <th>rating</th>\n",
       "      <th>scored_by</th>\n",
       "      <th>popularity</th>\n",
       "      <th>members</th>\n",
       "      <th>anime_source</th>\n",
       "      <th>weighted_avg</th>\n",
       "    </tr>\n",
       "  </thead>\n",
       "  <tbody>\n",
       "    <tr>\n",
       "      <th>1257</th>\n",
       "      <td>1535</td>\n",
       "      <td>Death Note</td>\n",
       "      <td>Mystery, Police, Psychological, Supernatural, ...</td>\n",
       "      <td>A shinigami, as a god of death, can kill any p...</td>\n",
       "      <td>TV</td>\n",
       "      <td>VAP, Konami, Ashi Production, Nippon Televisio...</td>\n",
       "      <td>Madhouse</td>\n",
       "      <td>8.67</td>\n",
       "      <td>1006242.0</td>\n",
       "      <td>1.0</td>\n",
       "      <td>1451708.0</td>\n",
       "      <td>Manga</td>\n",
       "      <td>8.653711</td>\n",
       "    </tr>\n",
       "    <tr>\n",
       "      <th>6383</th>\n",
       "      <td>16498</td>\n",
       "      <td>Shingeki no Kyojin</td>\n",
       "      <td>Action, Military, Mystery, Super Power, Drama,...</td>\n",
       "      <td>Centuries ago, mankind was slaughtered to near...</td>\n",
       "      <td>TV</td>\n",
       "      <td>Production I.G, Dentsu, Mainichi Broadcasting ...</td>\n",
       "      <td>Wit Studio</td>\n",
       "      <td>8.49</td>\n",
       "      <td>936784.0</td>\n",
       "      <td>2.0</td>\n",
       "      <td>1340641.0</td>\n",
       "      <td>Manga</td>\n",
       "      <td>8.473834</td>\n",
       "    </tr>\n",
       "    <tr>\n",
       "      <th>5818</th>\n",
       "      <td>11757</td>\n",
       "      <td>Sword Art Online</td>\n",
       "      <td>Action, Adventure, Fantasy, Game, Romance</td>\n",
       "      <td>In the year 2022, virtual reality has progress...</td>\n",
       "      <td>TV</td>\n",
       "      <td>Aniplex, Genco, DAX Production, ASCII Media Works</td>\n",
       "      <td>A1 Pictures</td>\n",
       "      <td>7.64</td>\n",
       "      <td>913806.0</td>\n",
       "      <td>3.0</td>\n",
       "      <td>1297309.0</td>\n",
       "      <td>Light novel</td>\n",
       "      <td>7.629826</td>\n",
       "    </tr>\n",
       "  </tbody>\n",
       "</table>\n",
       "</div>"
      ],
      "text/plain": [
       "      anime_id               title  \\\n",
       "1257      1535          Death Note   \n",
       "6383     16498  Shingeki no Kyojin   \n",
       "5818     11757    Sword Art Online   \n",
       "\n",
       "                                                 genres  \\\n",
       "1257  Mystery, Police, Psychological, Supernatural, ...   \n",
       "6383  Action, Military, Mystery, Super Power, Drama,...   \n",
       "5818          Action, Adventure, Fantasy, Game, Romance   \n",
       "\n",
       "                                               synopsis anime_type  \\\n",
       "1257  A shinigami, as a god of death, can kill any p...         TV   \n",
       "6383  Centuries ago, mankind was slaughtered to near...         TV   \n",
       "5818  In the year 2022, virtual reality has progress...         TV   \n",
       "\n",
       "                                               producer       studio  rating  \\\n",
       "1257  VAP, Konami, Ashi Production, Nippon Televisio...     Madhouse    8.67   \n",
       "6383  Production I.G, Dentsu, Mainichi Broadcasting ...   Wit Studio    8.49   \n",
       "5818  Aniplex, Genco, DAX Production, ASCII Media Works  A1 Pictures    7.64   \n",
       "\n",
       "      scored_by  popularity    members anime_source  weighted_avg  \n",
       "1257  1006242.0         1.0  1451708.0        Manga      8.653711  \n",
       "6383   936784.0         2.0  1340641.0        Manga      8.473834  \n",
       "5818   913806.0         3.0  1297309.0  Light novel      7.629826  "
      ]
     },
     "execution_count": 33,
     "metadata": {},
     "output_type": "execute_result"
    }
   ],
   "source": [
    "#sorting data according to their popularity\n",
    "anime_members = anime_data.copy()\n",
    "anime_members = anime_members.sort_values('members',ascending = False)\n",
    "anime_members.head(3)"
   ]
  },
  {
   "cell_type": "code",
   "execution_count": 34,
   "metadata": {},
   "outputs": [
    {
     "data": {
      "text/plain": [
       "Text(0, 0.5, 'Anime Title')"
      ]
     },
     "execution_count": 34,
     "metadata": {},
     "output_type": "execute_result"
    },
    {
     "data": {
      "image/png": "[encoded data removed]",
      "text/plain": [
       "<Figure size 1296x576 with 1 Axes>"
      ]
     },
     "metadata": {
      "needs_background": "light"
     },
     "output_type": "display_data"
    }
   ],
   "source": [
    "#plotting the top 10 anime according to their members\n",
    "plt.figure(figsize=(18,8))\n",
    "\n",
    "ax = sns.barplot(x = anime_members['members'].head(10), y = anime_members['title'].head(10), data = anime_members, palette='muted')\n",
    "\n",
    "plt.title('Best anime by number of members', weight = 'bold')\n",
    "plt.xlabel('Number of members', weight = 'bold')\n",
    "plt.ylabel('Anime Title', weight = 'bold')\n",
    "\n",
    "#plt.savefig('best_anime using members.png')"
   ]
  },
  {
   "cell_type": "markdown",
   "metadata": {},
   "source": [
    "# Recommending anime according to their popularity"
   ]
  },
  {
   "cell_type": "code",
   "execution_count": 35,
   "metadata": {},
   "outputs": [
    {
     "data": {
      "text/html": [
       "<div>\n",
       "<style scoped>\n",
       "    .dataframe tbody tr th:only-of-type {\n",
       "        vertical-align: middle;\n",
       "    }\n",
       "\n",
       "    .dataframe tbody tr th {\n",
       "        vertical-align: top;\n",
       "    }\n",
       "\n",
       "    .dataframe thead th {\n",
       "        text-align: right;\n",
       "    }\n",
       "</style>\n",
       "<table border=\"1\" class=\"dataframe\">\n",
       "  <thead>\n",
       "    <tr style=\"text-align: right;\">\n",
       "      <th></th>\n",
       "      <th>anime_id</th>\n",
       "      <th>title</th>\n",
       "      <th>genres</th>\n",
       "      <th>synopsis</th>\n",
       "      <th>anime_type</th>\n",
       "      <th>producer</th>\n",
       "      <th>studio</th>\n",
       "      <th>rating</th>\n",
       "      <th>scored_by</th>\n",
       "      <th>popularity</th>\n",
       "      <th>members</th>\n",
       "      <th>anime_source</th>\n",
       "      <th>weighted_avg</th>\n",
       "    </tr>\n",
       "  </thead>\n",
       "  <tbody>\n",
       "    <tr>\n",
       "      <th>14568</th>\n",
       "      <td>39103</td>\n",
       "      <td>Sanbiki no Kobuta no Koutsuu Anzen</td>\n",
       "      <td>Kids</td>\n",
       "      <td>A traffic safety anime aimed at infants to low...</td>\n",
       "      <td>OVA</td>\n",
       "      <td>nan</td>\n",
       "      <td>nan</td>\n",
       "      <td>1.0</td>\n",
       "      <td>1.0</td>\n",
       "      <td>16288.0</td>\n",
       "      <td>14.0</td>\n",
       "      <td>Other</td>\n",
       "      <td>6.287104</td>\n",
       "    </tr>\n",
       "    <tr>\n",
       "      <th>14615</th>\n",
       "      <td>39155</td>\n",
       "      <td>Kumasan no My Home</td>\n",
       "      <td>Kids</td>\n",
       "      <td>A fire safety anime with animals in a village,...</td>\n",
       "      <td>OVA</td>\n",
       "      <td>nan</td>\n",
       "      <td>nan</td>\n",
       "      <td>1.0</td>\n",
       "      <td>1.0</td>\n",
       "      <td>16264.0</td>\n",
       "      <td>14.0</td>\n",
       "      <td>Original</td>\n",
       "      <td>6.287104</td>\n",
       "    </tr>\n",
       "    <tr>\n",
       "      <th>14606</th>\n",
       "      <td>39146</td>\n",
       "      <td>Chikyuu ni Yasashii Shopping Midorichan to Rec...</td>\n",
       "      <td>Kids</td>\n",
       "      <td>An educational anime explaining what green pur...</td>\n",
       "      <td>OVA</td>\n",
       "      <td>nan</td>\n",
       "      <td>nan</td>\n",
       "      <td>4.0</td>\n",
       "      <td>2.0</td>\n",
       "      <td>16253.0</td>\n",
       "      <td>16.0</td>\n",
       "      <td>Original</td>\n",
       "      <td>6.287207</td>\n",
       "    </tr>\n",
       "  </tbody>\n",
       "</table>\n",
       "</div>"
      ],
      "text/plain": [
       "       anime_id                                              title genres  \\\n",
       "14568     39103                 Sanbiki no Kobuta no Koutsuu Anzen   Kids   \n",
       "14615     39155                                 Kumasan no My Home   Kids   \n",
       "14606     39146  Chikyuu ni Yasashii Shopping Midorichan to Rec...   Kids   \n",
       "\n",
       "                                                synopsis anime_type producer  \\\n",
       "14568  A traffic safety anime aimed at infants to low...        OVA      nan   \n",
       "14615  A fire safety anime with animals in a village,...        OVA      nan   \n",
       "14606  An educational anime explaining what green pur...        OVA      nan   \n",
       "\n",
       "      studio  rating  scored_by  popularity  members anime_source  \\\n",
       "14568    nan     1.0        1.0     16288.0     14.0        Other   \n",
       "14615    nan     1.0        1.0     16264.0     14.0     Original   \n",
       "14606    nan     4.0        2.0     16253.0     16.0     Original   \n",
       "\n",
       "       weighted_avg  \n",
       "14568      6.287104  \n",
       "14615      6.287104  \n",
       "14606      6.287207  "
      ]
     },
     "execution_count": 35,
     "metadata": {},
     "output_type": "execute_result"
    }
   ],
   "source": [
    "#sorting data according to their popularity\n",
    "anime_popular = anime_data.copy()\n",
    "anime_popular = anime_popular.dropna()\n",
    "anime_popular = anime_popular.sort_values('popularity', ascending = False)\n",
    "anime_popular.head(3)"
   ]
  },
  {
   "cell_type": "code",
   "execution_count": 36,
   "metadata": {},
   "outputs": [
    {
     "data": {
      "text/plain": [
       "Text(0, 0.5, 'Anime Title')"
      ]
     },
     "execution_count": 36,
     "metadata": {},
     "output_type": "execute_result"
    },
    {
     "data": {
      "image/png": "[encoded data removed]",
      "text/plain": [
       "<Figure size 1296x576 with 1 Axes>"
      ]
     },
     "metadata": {
      "needs_background": "light"
     },
     "output_type": "display_data"
    }
   ],
   "source": [
    "#plotting the top 10 anime according to their members\n",
    "plt.figure(figsize=(18,8))\n",
    "\n",
    "ax = sns.barplot(x = anime_popular['popularity'].head(10), y = anime_popular['title'].head(10), data = anime_popular, palette='cool')\n",
    "\n",
    "plt.title('Best anime by popularity', weight = 'bold')\n",
    "plt.xlabel('Popularity', weight = 'bold')\n",
    "plt.ylabel('Anime Title', weight = 'bold')\n",
    "\n",
    "#plt.savefig('best_anime using popularity.png')"
   ]
  },
  {
   "cell_type": "markdown",
   "metadata": {},
   "source": [
    "# Recommending Anime according to the weighted ratings, members and popularity"
   ]
  },
  {
   "cell_type": "code",
   "execution_count": 35,
   "metadata": {},
   "outputs": [
    {
     "data": {
      "text/html": [
       "<div>\n",
       "<style scoped>\n",
       "    .dataframe tbody tr th:only-of-type {\n",
       "        vertical-align: middle;\n",
       "    }\n",
       "\n",
       "    .dataframe tbody tr th {\n",
       "        vertical-align: top;\n",
       "    }\n",
       "\n",
       "    .dataframe thead th {\n",
       "        text-align: right;\n",
       "    }\n",
       "</style>\n",
       "<table border=\"1\" class=\"dataframe\">\n",
       "  <thead>\n",
       "    <tr style=\"text-align: right;\">\n",
       "      <th></th>\n",
       "      <th>weighted_avg</th>\n",
       "      <th>popularity</th>\n",
       "      <th>members</th>\n",
       "    </tr>\n",
       "  </thead>\n",
       "  <tbody>\n",
       "    <tr>\n",
       "      <th>0</th>\n",
       "      <td>0.923610</td>\n",
       "      <td>0.002326</td>\n",
       "      <td>0.485284</td>\n",
       "    </tr>\n",
       "    <tr>\n",
       "      <th>1</th>\n",
       "      <td>0.844219</td>\n",
       "      <td>0.029014</td>\n",
       "      <td>0.123922</td>\n",
       "    </tr>\n",
       "    <tr>\n",
       "      <th>2</th>\n",
       "      <td>0.836889</td>\n",
       "      <td>0.009610</td>\n",
       "      <td>0.256738</td>\n",
       "    </tr>\n",
       "    <tr>\n",
       "      <th>3</th>\n",
       "      <td>0.655719</td>\n",
       "      <td>0.078166</td>\n",
       "      <td>0.051587</td>\n",
       "    </tr>\n",
       "    <tr>\n",
       "      <th>4</th>\n",
       "      <td>0.562900</td>\n",
       "      <td>0.242823</td>\n",
       "      <td>0.007747</td>\n",
       "    </tr>\n",
       "  </tbody>\n",
       "</table>\n",
       "</div>"
      ],
      "text/plain": [
       "   weighted_avg  popularity   members\n",
       "0      0.923610    0.002326  0.485284\n",
       "1      0.844219    0.029014  0.123922\n",
       "2      0.836889    0.009610  0.256738\n",
       "3      0.655719    0.078166  0.051587\n",
       "4      0.562900    0.242823  0.007747"
      ]
     },
     "execution_count": 35,
     "metadata": {},
     "output_type": "execute_result"
    }
   ],
   "source": [
    "#recommending movies based on weighted average and popularity\n",
    "#normalizing the weighted average and popularity column\n",
    "\n",
    "from sklearn import preprocessing\n",
    "\n",
    "min_max_scaler = preprocessing.MinMaxScaler()\n",
    "data_scaled = min_max_scaler.fit_transform(anime_data[['weighted_avg','popularity','members']])\n",
    "data_norm = pd.DataFrame(data_scaled, columns = ['weighted_avg','popularity','members'])\n",
    "data_norm.head()"
   ]
  },
  {
   "cell_type": "code",
   "execution_count": 37,
   "metadata": {},
   "outputs": [
    {
     "data": {
      "text/html": [
       "<div>\n",
       "<style scoped>\n",
       "    .dataframe tbody tr th:only-of-type {\n",
       "        vertical-align: middle;\n",
       "    }\n",
       "\n",
       "    .dataframe tbody tr th {\n",
       "        vertical-align: top;\n",
       "    }\n",
       "\n",
       "    .dataframe thead th {\n",
       "        text-align: right;\n",
       "    }\n",
       "</style>\n",
       "<table border=\"1\" class=\"dataframe\">\n",
       "  <thead>\n",
       "    <tr style=\"text-align: right;\">\n",
       "      <th></th>\n",
       "      <th>anime_id</th>\n",
       "      <th>title</th>\n",
       "      <th>genres</th>\n",
       "      <th>synopsis</th>\n",
       "      <th>anime_type</th>\n",
       "      <th>producer</th>\n",
       "      <th>studio</th>\n",
       "      <th>rating</th>\n",
       "      <th>scored_by</th>\n",
       "      <th>popularity</th>\n",
       "      <th>members</th>\n",
       "      <th>anime_source</th>\n",
       "      <th>weighted_avg</th>\n",
       "      <th>norm_weighted_avg</th>\n",
       "      <th>norm_popularity</th>\n",
       "      <th>norm_members</th>\n",
       "      <th>score</th>\n",
       "    </tr>\n",
       "  </thead>\n",
       "  <tbody>\n",
       "    <tr>\n",
       "      <th>3634</th>\n",
       "      <td>5114</td>\n",
       "      <td>Fullmetal Alchemist Brotherhood</td>\n",
       "      <td>Action, Military, Adventure, Comedy, Drama, Ma...</td>\n",
       "      <td>\"In order for something to be obtained, someth...</td>\n",
       "      <td>TV</td>\n",
       "      <td>Aniplex, Square Enix, Mainichi Broadcasting Sy...</td>\n",
       "      <td>Bones</td>\n",
       "      <td>9.25</td>\n",
       "      <td>730784.0</td>\n",
       "      <td>4.0</td>\n",
       "      <td>1194518.0</td>\n",
       "      <td>Manga</td>\n",
       "      <td>9.222182</td>\n",
       "      <td>1.000000</td>\n",
       "      <td>0.000184</td>\n",
       "      <td>0.822836</td>\n",
       "      <td>0.764604</td>\n",
       "    </tr>\n",
       "    <tr>\n",
       "      <th>1257</th>\n",
       "      <td>1535</td>\n",
       "      <td>Death Note</td>\n",
       "      <td>Mystery, Police, Psychological, Supernatural, ...</td>\n",
       "      <td>A shinigami, as a god of death, can kill any p...</td>\n",
       "      <td>TV</td>\n",
       "      <td>VAP, Konami, Ashi Production, Nippon Televisio...</td>\n",
       "      <td>Madhouse</td>\n",
       "      <td>8.67</td>\n",
       "      <td>1006242.0</td>\n",
       "      <td>1.0</td>\n",
       "      <td>1451708.0</td>\n",
       "      <td>Manga</td>\n",
       "      <td>8.653711</td>\n",
       "      <td>0.905454</td>\n",
       "      <td>0.000000</td>\n",
       "      <td>1.000000</td>\n",
       "      <td>0.743272</td>\n",
       "    </tr>\n",
       "  </tbody>\n",
       "</table>\n",
       "</div>"
      ],
      "text/plain": [
       "      anime_id                            title  \\\n",
       "3634      5114  Fullmetal Alchemist Brotherhood   \n",
       "1257      1535                       Death Note   \n",
       "\n",
       "                                                 genres  \\\n",
       "3634  Action, Military, Adventure, Comedy, Drama, Ma...   \n",
       "1257  Mystery, Police, Psychological, Supernatural, ...   \n",
       "\n",
       "                                               synopsis anime_type  \\\n",
       "3634  \"In order for something to be obtained, someth...         TV   \n",
       "1257  A shinigami, as a god of death, can kill any p...         TV   \n",
       "\n",
       "                                               producer    studio  rating  \\\n",
       "3634  Aniplex, Square Enix, Mainichi Broadcasting Sy...     Bones    9.25   \n",
       "1257  VAP, Konami, Ashi Production, Nippon Televisio...  Madhouse    8.67   \n",
       "\n",
       "      scored_by  popularity    members anime_source  weighted_avg  \\\n",
       "3634   730784.0         4.0  1194518.0        Manga      9.222182   \n",
       "1257  1006242.0         1.0  1451708.0        Manga      8.653711   \n",
       "\n",
       "      norm_weighted_avg  norm_popularity  norm_members     score  \n",
       "3634           1.000000         0.000184      0.822836  0.764604  \n",
       "1257           0.905454         0.000000      1.000000  0.743272  "
      ]
     },
     "execution_count": 37,
     "metadata": {},
     "output_type": "execute_result"
    }
   ],
   "source": [
    "#creating a score value that splits scaled weighted_avg and popularity in half\n",
    "anime_data[['norm_weighted_avg','norm_popularity','norm_members']] = data_norm\n",
    "anime_data['score'] = anime_data['norm_weighted_avg']*0.6 + anime_data['norm_popularity']*0.2 + anime_data['norm_members']*0.2\n",
    "data_scored = anime_data.sort_values(['score'], ascending=False)\n",
    "data_scored.head(2)"
   ]
  },
  {
   "cell_type": "code",
   "execution_count": 38,
   "metadata": {},
   "outputs": [
    {
     "data": {
      "text/html": [
       "<div>\n",
       "<style scoped>\n",
       "    .dataframe tbody tr th:only-of-type {\n",
       "        vertical-align: middle;\n",
       "    }\n",
       "\n",
       "    .dataframe tbody tr th {\n",
       "        vertical-align: top;\n",
       "    }\n",
       "\n",
       "    .dataframe thead th {\n",
       "        text-align: right;\n",
       "    }\n",
       "</style>\n",
       "<table border=\"1\" class=\"dataframe\">\n",
       "  <thead>\n",
       "    <tr style=\"text-align: right;\">\n",
       "      <th></th>\n",
       "      <th>title</th>\n",
       "      <th>norm_weighted_avg</th>\n",
       "      <th>norm_popularity</th>\n",
       "      <th>norm_members</th>\n",
       "      <th>score</th>\n",
       "    </tr>\n",
       "  </thead>\n",
       "  <tbody>\n",
       "    <tr>\n",
       "      <th>3634</th>\n",
       "      <td>Fullmetal Alchemist Brotherhood</td>\n",
       "      <td>1.000000</td>\n",
       "      <td>0.000184</td>\n",
       "      <td>0.822836</td>\n",
       "      <td>0.764604</td>\n",
       "    </tr>\n",
       "    <tr>\n",
       "      <th>1257</th>\n",
       "      <td>Death Note</td>\n",
       "      <td>0.905454</td>\n",
       "      <td>0.000000</td>\n",
       "      <td>1.000000</td>\n",
       "      <td>0.743272</td>\n",
       "    </tr>\n",
       "    <tr>\n",
       "      <th>5031</th>\n",
       "      <td>Steins;Gate</td>\n",
       "      <td>0.980549</td>\n",
       "      <td>0.000367</td>\n",
       "      <td>0.692826</td>\n",
       "      <td>0.726968</td>\n",
       "    </tr>\n",
       "    <tr>\n",
       "      <th>6383</th>\n",
       "      <td>Shingeki no Kyojin</td>\n",
       "      <td>0.875537</td>\n",
       "      <td>0.000061</td>\n",
       "      <td>0.923492</td>\n",
       "      <td>0.710033</td>\n",
       "    </tr>\n",
       "    <tr>\n",
       "      <th>10109</th>\n",
       "      <td>Nar Doma Manner Movie</td>\n",
       "      <td>0.987598</td>\n",
       "      <td>0.000857</td>\n",
       "      <td>0.499060</td>\n",
       "      <td>0.692542</td>\n",
       "    </tr>\n",
       "  </tbody>\n",
       "</table>\n",
       "</div>"
      ],
      "text/plain": [
       "                                 title  norm_weighted_avg  norm_popularity  \\\n",
       "3634   Fullmetal Alchemist Brotherhood           1.000000         0.000184   \n",
       "1257                        Death Note           0.905454         0.000000   \n",
       "5031                       Steins;Gate           0.980549         0.000367   \n",
       "6383                Shingeki no Kyojin           0.875537         0.000061   \n",
       "10109            Nar Doma Manner Movie           0.987598         0.000857   \n",
       "\n",
       "       norm_members     score  \n",
       "3634       0.822836  0.764604  \n",
       "1257       1.000000  0.743272  \n",
       "5031       0.692826  0.726968  \n",
       "6383       0.923492  0.710033  \n",
       "10109      0.499060  0.692542  "
      ]
     },
     "execution_count": 38,
     "metadata": {},
     "output_type": "execute_result"
    }
   ],
   "source": [
    "#showing the normalized features and the new score  feature\n",
    "data_scored[['title','norm_weighted_avg','norm_popularity','norm_members','score']].head()"
   ]
  },
  {
   "cell_type": "code",
   "execution_count": 39,
   "metadata": {},
   "outputs": [
    {
     "data": {
      "text/plain": [
       "Text(0, 0.5, 'Movie Title')"
      ]
     },
     "execution_count": 39,
     "metadata": {},
     "output_type": "execute_result"
    },
    {
     "data": {
      "image/png": "[encoded data removed]",
      "text/plain": [
       "<Figure size 1296x576 with 1 Axes>"
      ]
     },
     "metadata": {
      "needs_background": "light"
     },
     "output_type": "display_data"
    }
   ],
   "source": [
    "#plotting the top movies according to an even split between weighted avg and popularity\n",
    "\n",
    "plt.figure(figsize=(18,8))\n",
    "\n",
    "ax = sns.barplot(x = data_scored['score'].head(10), y = data_scored['title'].head(10), data = data_scored, palette='Set2')\n",
    "\n",
    "\n",
    "plt.title('Best anime according to average,popularity and members', weight = 'bold')\n",
    "plt.xlabel('Score', weight = 'bold')\n",
    "plt.ylabel('Movie Title', weight = 'bold')\n",
    "\n",
    "#plt.savefig('scored.png')"
   ]
  },
  {
   "cell_type": "code",
   "execution_count": null,
   "metadata": {},
   "outputs": [],
   "source": []
  }
 ],
 "metadata": {
  "kernelspec": {
   "display_name": "Python 3",
   "language": "python",
   "name": "python3"
  },
  "language_info": {
   "codemirror_mode": {
    "name": "ipython",
    "version": 3
   },
   "file_extension": ".py",
   "mimetype": "text/x-python",
   "name": "python",
   "nbconvert_exporter": "python",
   "pygments_lexer": "ipython3",
   "version": "3.6.9"
  }
 },
 "nbformat": 4,
 "nbformat_minor": 2
}
