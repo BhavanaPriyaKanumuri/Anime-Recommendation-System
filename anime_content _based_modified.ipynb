{
 "cells": [
  {
   "cell_type": "code",
   "execution_count": 1,
   "metadata": {},
   "outputs": [],
   "source": [
    "import pandas as pd\n",
    "import numpy as np"
   ]
  },
  {
   "cell_type": "code",
   "execution_count": 2,
   "metadata": {},
   "outputs": [],
   "source": [
    "#loading the dataset\n",
    "anime_data = pd.read_csv(r'C:\\Users\\JADESOLA\\Documents\\AI\\MadeWithML\\Recommendation system\\datasets\\Anime_cleaned.csv')"
   ]
  },
  {
   "cell_type": "code",
   "execution_count": 3,
   "metadata": {},
   "outputs": [],
   "source": [
    "anime_data = anime_data.rename(columns={'Anime_id': 'anime_id', 'Title': 'title','Genre':'genres','Synopsis':'synopsis',\n",
    "                                       'Type':'anime_type','Producer':'producer','Studio':'studio','Rating':'rating','ScoredBy':'scored_by','Popularity':'popularity',\n",
    "                                       'Members':'members','Episodes':'num_of_episodes','Source':'anime_source'})"
   ]
  },
  {
   "cell_type": "code",
   "execution_count": 4,
   "metadata": {},
   "outputs": [],
   "source": [
    "#creating the function to remove the characters\n",
    "import re\n",
    "def clean_up(s):\n",
    "  new_s = re.sub(r\"[^\\sa-zA-Z0-9\\.\\,\\;]\",\"\",str(s))\n",
    "  return new_s"
   ]
  },
  {
   "cell_type": "code",
   "execution_count": 5,
   "metadata": {},
   "outputs": [],
   "source": [
    "anime_data['title'] = anime_data['title'].apply(clean_up)\n",
    "anime_data['genres'] = anime_data['genres'].apply(clean_up)\n",
    "anime_data['title'] = anime_data['title'].apply(clean_up)\n",
    "anime_data['producer'] = anime_data['producer'].apply(clean_up)\n",
    "anime_data['studio'] = anime_data['studio'].apply(clean_up)\n",
    "anime_data['synopsis'] = anime_data['synopsis'].apply(clean_up)"
   ]
  },
  {
   "cell_type": "code",
   "execution_count": 6,
   "metadata": {},
   "outputs": [
    {
     "data": {
      "text/html": [
       "<div>\n",
       "<style scoped>\n",
       "    .dataframe tbody tr th:only-of-type {\n",
       "        vertical-align: middle;\n",
       "    }\n",
       "\n",
       "    .dataframe tbody tr th {\n",
       "        vertical-align: top;\n",
       "    }\n",
       "\n",
       "    .dataframe thead th {\n",
       "        text-align: right;\n",
       "    }\n",
       "</style>\n",
       "<table border=\"1\" class=\"dataframe\">\n",
       "  <thead>\n",
       "    <tr style=\"text-align: right;\">\n",
       "      <th></th>\n",
       "      <th>anime_id</th>\n",
       "      <th>title</th>\n",
       "      <th>genres</th>\n",
       "      <th>synopsis</th>\n",
       "      <th>anime_type</th>\n",
       "      <th>producer</th>\n",
       "      <th>studio</th>\n",
       "      <th>rating</th>\n",
       "      <th>scored_by</th>\n",
       "      <th>popularity</th>\n",
       "      <th>members</th>\n",
       "      <th>num_of_episodes</th>\n",
       "      <th>anime_source</th>\n",
       "      <th>aired</th>\n",
       "      <th>Link</th>\n",
       "    </tr>\n",
       "  </thead>\n",
       "  <tbody>\n",
       "    <tr>\n",
       "      <th>0</th>\n",
       "      <td>1</td>\n",
       "      <td>Cowboy Bebop</td>\n",
       "      <td>Action,Adventure,Comedy,Drama,SciFi,Space</td>\n",
       "      <td>In the year 2071, humanity has colonized sever...</td>\n",
       "      <td>TV</td>\n",
       "      <td>BandaiVisual</td>\n",
       "      <td>Sunrise</td>\n",
       "      <td>8.81</td>\n",
       "      <td>363889.0</td>\n",
       "      <td>39.0</td>\n",
       "      <td>704490.0</td>\n",
       "      <td>26.0</td>\n",
       "      <td>Original</td>\n",
       "      <td>Apr 3, 1998 to Apr 24, 1999</td>\n",
       "      <td>https://myanimelist.net/anime/1/Cowboy_Bebop</td>\n",
       "    </tr>\n",
       "    <tr>\n",
       "      <th>1</th>\n",
       "      <td>5</td>\n",
       "      <td>Cowboy Bebop Tengoku no Tobira</td>\n",
       "      <td>Action,Space,Drama,Mystery,SciFi</td>\n",
       "      <td>Another day, another bountysuch is the life of...</td>\n",
       "      <td>Movie</td>\n",
       "      <td>Sunrise,BandaiVisual</td>\n",
       "      <td>Bones</td>\n",
       "      <td>8.41</td>\n",
       "      <td>111187.0</td>\n",
       "      <td>475.0</td>\n",
       "      <td>179899.0</td>\n",
       "      <td>1.0</td>\n",
       "      <td>Original</td>\n",
       "      <td>Sep 1, 2001</td>\n",
       "      <td>https://myanimelist.net/anime/5/Cowboy_Bebop__...</td>\n",
       "    </tr>\n",
       "    <tr>\n",
       "      <th>2</th>\n",
       "      <td>6</td>\n",
       "      <td>Trigun</td>\n",
       "      <td>Action,SciFi,Adventure,Comedy,Drama,Shounen</td>\n",
       "      <td>Vash the Stampede is the man with a 60,000,000...</td>\n",
       "      <td>TV</td>\n",
       "      <td>VictorEntertainment</td>\n",
       "      <td>Madhouse</td>\n",
       "      <td>8.31</td>\n",
       "      <td>197451.0</td>\n",
       "      <td>158.0</td>\n",
       "      <td>372709.0</td>\n",
       "      <td>26.0</td>\n",
       "      <td>Manga</td>\n",
       "      <td>Apr 1, 1998 to Sep 30, 1998</td>\n",
       "      <td>https://myanimelist.net/anime/6/Trigun</td>\n",
       "    </tr>\n",
       "  </tbody>\n",
       "</table>\n",
       "</div>"
      ],
      "text/plain": [
       "   anime_id                           title  \\\n",
       "0         1                    Cowboy Bebop   \n",
       "1         5  Cowboy Bebop Tengoku no Tobira   \n",
       "2         6                          Trigun   \n",
       "\n",
       "                                        genres  \\\n",
       "0    Action,Adventure,Comedy,Drama,SciFi,Space   \n",
       "1             Action,Space,Drama,Mystery,SciFi   \n",
       "2  Action,SciFi,Adventure,Comedy,Drama,Shounen   \n",
       "\n",
       "                                            synopsis anime_type  \\\n",
       "0  In the year 2071, humanity has colonized sever...         TV   \n",
       "1  Another day, another bountysuch is the life of...      Movie   \n",
       "2  Vash the Stampede is the man with a 60,000,000...         TV   \n",
       "\n",
       "               producer    studio  rating  scored_by  popularity   members  \\\n",
       "0          BandaiVisual   Sunrise    8.81   363889.0        39.0  704490.0   \n",
       "1  Sunrise,BandaiVisual     Bones    8.41   111187.0       475.0  179899.0   \n",
       "2   VictorEntertainment  Madhouse    8.31   197451.0       158.0  372709.0   \n",
       "\n",
       "   num_of_episodes anime_source                        aired  \\\n",
       "0             26.0     Original  Apr 3, 1998 to Apr 24, 1999   \n",
       "1              1.0     Original                  Sep 1, 2001   \n",
       "2             26.0        Manga  Apr 1, 1998 to Sep 30, 1998   \n",
       "\n",
       "                                                Link  \n",
       "0       https://myanimelist.net/anime/1/Cowboy_Bebop  \n",
       "1  https://myanimelist.net/anime/5/Cowboy_Bebop__...  \n",
       "2             https://myanimelist.net/anime/6/Trigun  "
      ]
     },
     "execution_count": 6,
     "metadata": {},
     "output_type": "execute_result"
    }
   ],
   "source": [
    "anime_data.head(3)"
   ]
  },
  {
   "cell_type": "code",
   "execution_count": 7,
   "metadata": {},
   "outputs": [
    {
     "data": {
      "text/plain": [
       "(15832, 15)"
      ]
     },
     "execution_count": 7,
     "metadata": {},
     "output_type": "execute_result"
    }
   ],
   "source": [
    "anime_data.shape"
   ]
  },
  {
   "cell_type": "code",
   "execution_count": 8,
   "metadata": {},
   "outputs": [
    {
     "data": {
      "text/plain": [
       "anime_id             int64\n",
       "title               object\n",
       "genres              object\n",
       "synopsis            object\n",
       "anime_type          object\n",
       "producer            object\n",
       "studio              object\n",
       "rating             float64\n",
       "scored_by          float64\n",
       "popularity         float64\n",
       "members            float64\n",
       "num_of_episodes    float64\n",
       "anime_source        object\n",
       "aired               object\n",
       "Link                object\n",
       "dtype: object"
      ]
     },
     "execution_count": 8,
     "metadata": {},
     "output_type": "execute_result"
    }
   ],
   "source": [
    "anime_data.dtypes"
   ]
  },
  {
   "cell_type": "code",
   "execution_count": 9,
   "metadata": {},
   "outputs": [
    {
     "data": {
      "text/plain": [
       "anime_id              0\n",
       "title                 0\n",
       "genres                0\n",
       "synopsis              0\n",
       "anime_type          634\n",
       "producer              0\n",
       "studio                0\n",
       "rating             2501\n",
       "scored_by          3700\n",
       "popularity          619\n",
       "members               0\n",
       "num_of_episodes    2825\n",
       "anime_source       1927\n",
       "aired               619\n",
       "Link                619\n",
       "dtype: int64"
      ]
     },
     "execution_count": 9,
     "metadata": {},
     "output_type": "execute_result"
    }
   ],
   "source": [
    "anime_data.isnull().sum()"
   ]
  },
  {
   "cell_type": "code",
   "execution_count": 10,
   "metadata": {},
   "outputs": [],
   "source": [
    "#dropping the null rows\n",
    "anime_data.dropna(axis = 0,how = 'any',inplace=True)"
   ]
  },
  {
   "cell_type": "code",
   "execution_count": 11,
   "metadata": {},
   "outputs": [
    {
     "data": {
      "text/plain": [
       "(11658, 15)"
      ]
     },
     "execution_count": 11,
     "metadata": {},
     "output_type": "execute_result"
    }
   ],
   "source": [
    "anime_data.shape"
   ]
  },
  {
   "cell_type": "markdown",
   "metadata": {},
   "source": [
    "# Content based using genre, producer, source and type"
   ]
  },
  {
   "cell_type": "code",
   "execution_count": 12,
   "metadata": {},
   "outputs": [],
   "source": [
    "# Apply clean_data function to your features.\n",
    "features = ['genres', 'producer', 'studio', 'anime_source','anime_type']\n",
    "\n",
    "for feature in features:\n",
    "    anime_data[feature] = anime_data[feature].apply(clean_up)"
   ]
  },
  {
   "cell_type": "code",
   "execution_count": 13,
   "metadata": {},
   "outputs": [
    {
     "data": {
      "text/html": [
       "<div>\n",
       "<style scoped>\n",
       "    .dataframe tbody tr th:only-of-type {\n",
       "        vertical-align: middle;\n",
       "    }\n",
       "\n",
       "    .dataframe tbody tr th {\n",
       "        vertical-align: top;\n",
       "    }\n",
       "\n",
       "    .dataframe thead th {\n",
       "        text-align: right;\n",
       "    }\n",
       "</style>\n",
       "<table border=\"1\" class=\"dataframe\">\n",
       "  <thead>\n",
       "    <tr style=\"text-align: right;\">\n",
       "      <th></th>\n",
       "      <th>anime_id</th>\n",
       "      <th>title</th>\n",
       "      <th>genres</th>\n",
       "      <th>synopsis</th>\n",
       "      <th>anime_type</th>\n",
       "      <th>producer</th>\n",
       "      <th>studio</th>\n",
       "      <th>rating</th>\n",
       "      <th>scored_by</th>\n",
       "      <th>popularity</th>\n",
       "      <th>members</th>\n",
       "      <th>num_of_episodes</th>\n",
       "      <th>anime_source</th>\n",
       "      <th>aired</th>\n",
       "      <th>Link</th>\n",
       "    </tr>\n",
       "  </thead>\n",
       "  <tbody>\n",
       "    <tr>\n",
       "      <th>0</th>\n",
       "      <td>1</td>\n",
       "      <td>Cowboy Bebop</td>\n",
       "      <td>Action,Adventure,Comedy,Drama,SciFi,Space</td>\n",
       "      <td>In the year 2071, humanity has colonized sever...</td>\n",
       "      <td>TV</td>\n",
       "      <td>BandaiVisual</td>\n",
       "      <td>Sunrise</td>\n",
       "      <td>8.81</td>\n",
       "      <td>363889.0</td>\n",
       "      <td>39.0</td>\n",
       "      <td>704490.0</td>\n",
       "      <td>26.0</td>\n",
       "      <td>Original</td>\n",
       "      <td>Apr 3, 1998 to Apr 24, 1999</td>\n",
       "      <td>https://myanimelist.net/anime/1/Cowboy_Bebop</td>\n",
       "    </tr>\n",
       "    <tr>\n",
       "      <th>1</th>\n",
       "      <td>5</td>\n",
       "      <td>Cowboy Bebop Tengoku no Tobira</td>\n",
       "      <td>Action,Space,Drama,Mystery,SciFi</td>\n",
       "      <td>Another day, another bountysuch is the life of...</td>\n",
       "      <td>Movie</td>\n",
       "      <td>Sunrise,BandaiVisual</td>\n",
       "      <td>Bones</td>\n",
       "      <td>8.41</td>\n",
       "      <td>111187.0</td>\n",
       "      <td>475.0</td>\n",
       "      <td>179899.0</td>\n",
       "      <td>1.0</td>\n",
       "      <td>Original</td>\n",
       "      <td>Sep 1, 2001</td>\n",
       "      <td>https://myanimelist.net/anime/5/Cowboy_Bebop__...</td>\n",
       "    </tr>\n",
       "    <tr>\n",
       "      <th>2</th>\n",
       "      <td>6</td>\n",
       "      <td>Trigun</td>\n",
       "      <td>Action,SciFi,Adventure,Comedy,Drama,Shounen</td>\n",
       "      <td>Vash the Stampede is the man with a 60,000,000...</td>\n",
       "      <td>TV</td>\n",
       "      <td>VictorEntertainment</td>\n",
       "      <td>Madhouse</td>\n",
       "      <td>8.31</td>\n",
       "      <td>197451.0</td>\n",
       "      <td>158.0</td>\n",
       "      <td>372709.0</td>\n",
       "      <td>26.0</td>\n",
       "      <td>Manga</td>\n",
       "      <td>Apr 1, 1998 to Sep 30, 1998</td>\n",
       "      <td>https://myanimelist.net/anime/6/Trigun</td>\n",
       "    </tr>\n",
       "    <tr>\n",
       "      <th>3</th>\n",
       "      <td>7</td>\n",
       "      <td>Witch Hunter Robin</td>\n",
       "      <td>Action,Magic,Police,Supernatural,Drama,Mystery</td>\n",
       "      <td>Witches are individuals with special powers li...</td>\n",
       "      <td>TV</td>\n",
       "      <td>BandaiVisual</td>\n",
       "      <td>Sunrise</td>\n",
       "      <td>7.34</td>\n",
       "      <td>31875.0</td>\n",
       "      <td>1278.0</td>\n",
       "      <td>74889.0</td>\n",
       "      <td>26.0</td>\n",
       "      <td>Original</td>\n",
       "      <td>Jul 2, 2002 to Dec 24, 2002</td>\n",
       "      <td>https://myanimelist.net/anime/7/Witch_Hunter_R...</td>\n",
       "    </tr>\n",
       "    <tr>\n",
       "      <th>4</th>\n",
       "      <td>8</td>\n",
       "      <td>Bouken Ou Beet</td>\n",
       "      <td>Adventure,Fantasy,Shounen,Supernatural</td>\n",
       "      <td>It is the dark century and the people are suff...</td>\n",
       "      <td>TV</td>\n",
       "      <td>nan</td>\n",
       "      <td>Toei Animation</td>\n",
       "      <td>7.04</td>\n",
       "      <td>4757.0</td>\n",
       "      <td>3968.0</td>\n",
       "      <td>11247.0</td>\n",
       "      <td>52.0</td>\n",
       "      <td>Manga</td>\n",
       "      <td>Sep 30, 2004 to Sep 29, 2005</td>\n",
       "      <td>https://myanimelist.net/anime/8/Bouken_Ou_Beet</td>\n",
       "    </tr>\n",
       "  </tbody>\n",
       "</table>\n",
       "</div>"
      ],
      "text/plain": [
       "   anime_id                           title  \\\n",
       "0         1                    Cowboy Bebop   \n",
       "1         5  Cowboy Bebop Tengoku no Tobira   \n",
       "2         6                          Trigun   \n",
       "3         7              Witch Hunter Robin   \n",
       "4         8                  Bouken Ou Beet   \n",
       "\n",
       "                                           genres  \\\n",
       "0       Action,Adventure,Comedy,Drama,SciFi,Space   \n",
       "1                Action,Space,Drama,Mystery,SciFi   \n",
       "2     Action,SciFi,Adventure,Comedy,Drama,Shounen   \n",
       "3  Action,Magic,Police,Supernatural,Drama,Mystery   \n",
       "4          Adventure,Fantasy,Shounen,Supernatural   \n",
       "\n",
       "                                            synopsis anime_type  \\\n",
       "0  In the year 2071, humanity has colonized sever...         TV   \n",
       "1  Another day, another bountysuch is the life of...      Movie   \n",
       "2  Vash the Stampede is the man with a 60,000,000...         TV   \n",
       "3  Witches are individuals with special powers li...         TV   \n",
       "4  It is the dark century and the people are suff...         TV   \n",
       "\n",
       "               producer          studio  rating  scored_by  popularity  \\\n",
       "0          BandaiVisual         Sunrise    8.81   363889.0        39.0   \n",
       "1  Sunrise,BandaiVisual           Bones    8.41   111187.0       475.0   \n",
       "2   VictorEntertainment        Madhouse    8.31   197451.0       158.0   \n",
       "3          BandaiVisual         Sunrise    7.34    31875.0      1278.0   \n",
       "4                   nan  Toei Animation    7.04     4757.0      3968.0   \n",
       "\n",
       "    members  num_of_episodes anime_source                         aired  \\\n",
       "0  704490.0             26.0     Original   Apr 3, 1998 to Apr 24, 1999   \n",
       "1  179899.0              1.0     Original                   Sep 1, 2001   \n",
       "2  372709.0             26.0        Manga   Apr 1, 1998 to Sep 30, 1998   \n",
       "3   74889.0             26.0     Original   Jul 2, 2002 to Dec 24, 2002   \n",
       "4   11247.0             52.0        Manga  Sep 30, 2004 to Sep 29, 2005   \n",
       "\n",
       "                                                Link  \n",
       "0       https://myanimelist.net/anime/1/Cowboy_Bebop  \n",
       "1  https://myanimelist.net/anime/5/Cowboy_Bebop__...  \n",
       "2             https://myanimelist.net/anime/6/Trigun  \n",
       "3  https://myanimelist.net/anime/7/Witch_Hunter_R...  \n",
       "4     https://myanimelist.net/anime/8/Bouken_Ou_Beet  "
      ]
     },
     "execution_count": 13,
     "metadata": {},
     "output_type": "execute_result"
    }
   ],
   "source": [
    "\n",
    "anime_data.head()"
   ]
  },
  {
   "cell_type": "code",
   "execution_count": 14,
   "metadata": {},
   "outputs": [],
   "source": [
    "#creating a function to split the particular columns into lists again\n",
    "def split_columns(x):\n",
    "  return x.split(',')"
   ]
  },
  {
   "cell_type": "code",
   "execution_count": 15,
   "metadata": {},
   "outputs": [],
   "source": [
    "#applying the function to the same set of columns\n",
    "for feature in features:\n",
    "    anime_data[feature] = anime_data[feature].apply(split_columns)"
   ]
  },
  {
   "cell_type": "code",
   "execution_count": 16,
   "metadata": {},
   "outputs": [
    {
     "data": {
      "text/html": [
       "<div>\n",
       "<style scoped>\n",
       "    .dataframe tbody tr th:only-of-type {\n",
       "        vertical-align: middle;\n",
       "    }\n",
       "\n",
       "    .dataframe tbody tr th {\n",
       "        vertical-align: top;\n",
       "    }\n",
       "\n",
       "    .dataframe thead th {\n",
       "        text-align: right;\n",
       "    }\n",
       "</style>\n",
       "<table border=\"1\" class=\"dataframe\">\n",
       "  <thead>\n",
       "    <tr style=\"text-align: right;\">\n",
       "      <th></th>\n",
       "      <th>anime_id</th>\n",
       "      <th>title</th>\n",
       "      <th>genres</th>\n",
       "      <th>synopsis</th>\n",
       "      <th>anime_type</th>\n",
       "      <th>producer</th>\n",
       "      <th>studio</th>\n",
       "      <th>rating</th>\n",
       "      <th>scored_by</th>\n",
       "      <th>popularity</th>\n",
       "      <th>members</th>\n",
       "      <th>num_of_episodes</th>\n",
       "      <th>anime_source</th>\n",
       "      <th>aired</th>\n",
       "      <th>Link</th>\n",
       "    </tr>\n",
       "  </thead>\n",
       "  <tbody>\n",
       "    <tr>\n",
       "      <th>0</th>\n",
       "      <td>1</td>\n",
       "      <td>Cowboy Bebop</td>\n",
       "      <td>[Action, Adventure, Comedy, Drama, SciFi, Space]</td>\n",
       "      <td>In the year 2071, humanity has colonized sever...</td>\n",
       "      <td>[TV]</td>\n",
       "      <td>[BandaiVisual]</td>\n",
       "      <td>[Sunrise]</td>\n",
       "      <td>8.81</td>\n",
       "      <td>363889.0</td>\n",
       "      <td>39.0</td>\n",
       "      <td>704490.0</td>\n",
       "      <td>26.0</td>\n",
       "      <td>[Original]</td>\n",
       "      <td>Apr 3, 1998 to Apr 24, 1999</td>\n",
       "      <td>https://myanimelist.net/anime/1/Cowboy_Bebop</td>\n",
       "    </tr>\n",
       "    <tr>\n",
       "      <th>1</th>\n",
       "      <td>5</td>\n",
       "      <td>Cowboy Bebop Tengoku no Tobira</td>\n",
       "      <td>[Action, Space, Drama, Mystery, SciFi]</td>\n",
       "      <td>Another day, another bountysuch is the life of...</td>\n",
       "      <td>[Movie]</td>\n",
       "      <td>[Sunrise, BandaiVisual]</td>\n",
       "      <td>[Bones]</td>\n",
       "      <td>8.41</td>\n",
       "      <td>111187.0</td>\n",
       "      <td>475.0</td>\n",
       "      <td>179899.0</td>\n",
       "      <td>1.0</td>\n",
       "      <td>[Original]</td>\n",
       "      <td>Sep 1, 2001</td>\n",
       "      <td>https://myanimelist.net/anime/5/Cowboy_Bebop__...</td>\n",
       "    </tr>\n",
       "    <tr>\n",
       "      <th>2</th>\n",
       "      <td>6</td>\n",
       "      <td>Trigun</td>\n",
       "      <td>[Action, SciFi, Adventure, Comedy, Drama, Shou...</td>\n",
       "      <td>Vash the Stampede is the man with a 60,000,000...</td>\n",
       "      <td>[TV]</td>\n",
       "      <td>[VictorEntertainment]</td>\n",
       "      <td>[Madhouse]</td>\n",
       "      <td>8.31</td>\n",
       "      <td>197451.0</td>\n",
       "      <td>158.0</td>\n",
       "      <td>372709.0</td>\n",
       "      <td>26.0</td>\n",
       "      <td>[Manga]</td>\n",
       "      <td>Apr 1, 1998 to Sep 30, 1998</td>\n",
       "      <td>https://myanimelist.net/anime/6/Trigun</td>\n",
       "    </tr>\n",
       "  </tbody>\n",
       "</table>\n",
       "</div>"
      ],
      "text/plain": [
       "   anime_id                           title  \\\n",
       "0         1                    Cowboy Bebop   \n",
       "1         5  Cowboy Bebop Tengoku no Tobira   \n",
       "2         6                          Trigun   \n",
       "\n",
       "                                              genres  \\\n",
       "0   [Action, Adventure, Comedy, Drama, SciFi, Space]   \n",
       "1             [Action, Space, Drama, Mystery, SciFi]   \n",
       "2  [Action, SciFi, Adventure, Comedy, Drama, Shou...   \n",
       "\n",
       "                                            synopsis anime_type  \\\n",
       "0  In the year 2071, humanity has colonized sever...       [TV]   \n",
       "1  Another day, another bountysuch is the life of...    [Movie]   \n",
       "2  Vash the Stampede is the man with a 60,000,000...       [TV]   \n",
       "\n",
       "                  producer      studio  rating  scored_by  popularity  \\\n",
       "0           [BandaiVisual]   [Sunrise]    8.81   363889.0        39.0   \n",
       "1  [Sunrise, BandaiVisual]     [Bones]    8.41   111187.0       475.0   \n",
       "2    [VictorEntertainment]  [Madhouse]    8.31   197451.0       158.0   \n",
       "\n",
       "    members  num_of_episodes anime_source                        aired  \\\n",
       "0  704490.0             26.0   [Original]  Apr 3, 1998 to Apr 24, 1999   \n",
       "1  179899.0              1.0   [Original]                  Sep 1, 2001   \n",
       "2  372709.0             26.0      [Manga]  Apr 1, 1998 to Sep 30, 1998   \n",
       "\n",
       "                                                Link  \n",
       "0       https://myanimelist.net/anime/1/Cowboy_Bebop  \n",
       "1  https://myanimelist.net/anime/5/Cowboy_Bebop__...  \n",
       "2             https://myanimelist.net/anime/6/Trigun  "
      ]
     },
     "execution_count": 16,
     "metadata": {},
     "output_type": "execute_result"
    }
   ],
   "source": [
    "anime_data.head(3)"
   ]
  },
  {
   "cell_type": "code",
   "execution_count": 17,
   "metadata": {},
   "outputs": [],
   "source": [
    "# Function to convert all strings to lower case and strip names of spaces\n",
    "def clean_data(x):\n",
    "    if isinstance(x, list):\n",
    "        return [str.lower(i.replace(\" \", \"\")) for i in x]\n",
    "    else:\n",
    "        #Check if source exists. If not, return empty string\n",
    "        if isinstance(x, str):\n",
    "            return str.lower(x.replace(\" \", \"\"))\n",
    "        else:\n",
    "            return ''"
   ]
  },
  {
   "cell_type": "code",
   "execution_count": 18,
   "metadata": {},
   "outputs": [],
   "source": [
    "#applying the clean_data function\n",
    "for feature in features:\n",
    "    anime_data[feature] = anime_data[feature].apply(clean_data)"
   ]
  },
  {
   "cell_type": "code",
   "execution_count": 19,
   "metadata": {},
   "outputs": [],
   "source": [
    "def create_soup(x):\n",
    "    return ' '.join(x['genres']) + ' ' +' '.join(x['producer']) + ' ' + ' '.join(x['studio']) + ' '+\\\n",
    "                ' '.join(x['anime_source']) + ' '  + ' '.join(x['anime_type'])"
   ]
  },
  {
   "cell_type": "code",
   "execution_count": 20,
   "metadata": {},
   "outputs": [],
   "source": [
    "# Create a new soup feature\n",
    "anime_data['soup'] = anime_data.apply(create_soup, axis=1)"
   ]
  },
  {
   "cell_type": "code",
   "execution_count": 21,
   "metadata": {},
   "outputs": [
    {
     "data": {
      "text/plain": [
       "0    action adventure comedy drama scifi space band...\n",
       "1    action space drama mystery scifi sunrise banda...\n",
       "2    action scifi adventure comedy drama shounen vi...\n",
       "3    action magic police supernatural drama mystery...\n",
       "4    adventure fantasy shounen supernatural nan toe...\n",
       "Name: soup, dtype: object"
      ]
     },
     "execution_count": 21,
     "metadata": {},
     "output_type": "execute_result"
    }
   ],
   "source": [
    "anime_data['soup'].head()"
   ]
  },
  {
   "cell_type": "code",
   "execution_count": 22,
   "metadata": {},
   "outputs": [],
   "source": [
    "# Import CountVectorizer and create the count matrix\n",
    "from sklearn.feature_extraction.text import CountVectorizer\n",
    "\n",
    "count = CountVectorizer(stop_words='english')\n",
    "count_matrix = count.fit_transform(anime_data['soup'])"
   ]
  },
  {
   "cell_type": "markdown",
   "metadata": {},
   "source": [
    "We make use of the CountVectorizer library. This is to ensure there is no down weighting of any of the elemnets. Even if appeared more than once it will be considered. This will give us a matrix where each column represents a word in the overview vocabulary (all the words that appear in at least one document), and each row represents an anime, as before."
   ]
  },
  {
   "cell_type": "code",
   "execution_count": 23,
   "metadata": {},
   "outputs": [
    {
     "data": {
      "text/plain": [
       "(11658, 1251)"
      ]
     },
     "execution_count": 23,
     "metadata": {},
     "output_type": "execute_result"
    }
   ],
   "source": [
    "count_matrix.shape"
   ]
  },
  {
   "cell_type": "markdown",
   "metadata": {},
   "source": [
    "From the above, there are 1251 vocabularies in the metadata that you fed to it.\n",
    "Next, we will use the cosine_similarity to measure the distance between the embeddings."
   ]
  },
  {
   "cell_type": "markdown",
   "metadata": {},
   "source": [
    "We create a function to get top 10 similar animes, based on it's features"
   ]
  },
  {
   "cell_type": "code",
   "execution_count": 24,
   "metadata": {},
   "outputs": [],
   "source": [
    "# Compute the Cosine Similarity matrix based on the count_matrix\n",
    "from sklearn.metrics.pairwise import cosine_similarity\n",
    "\n",
    "cosine_sim1 = cosine_similarity(count_matrix, count_matrix)"
   ]
  },
  {
   "cell_type": "markdown",
   "metadata": {},
   "source": [
    "We create a function to get top 10 similar animes, based on it's features"
   ]
  },
  {
   "cell_type": "code",
   "execution_count": 25,
   "metadata": {},
   "outputs": [],
   "source": [
    "#Construct a reverse map of indices and anime titles\n",
    "indices = pd.Series(anime_data.index, index=anime_data['title']).drop_duplicates()"
   ]
  },
  {
   "cell_type": "code",
   "execution_count": 26,
   "metadata": {},
   "outputs": [
    {
     "data": {
      "text/plain": [
       "title\n",
       "Cowboy Bebop                      0\n",
       "Cowboy Bebop Tengoku no Tobira    1\n",
       "Trigun                            2\n",
       "Witch Hunter Robin                3\n",
       "Bouken Ou Beet                    4\n",
       "dtype: int64"
      ]
     },
     "execution_count": 26,
     "metadata": {},
     "output_type": "execute_result"
    }
   ],
   "source": [
    "indices.head()"
   ]
  },
  {
   "cell_type": "code",
   "execution_count": 85,
   "metadata": {},
   "outputs": [],
   "source": [
    "# Function that takes in anime title as input and outputs most similar anime\n",
    "def get_recommendations(title, cosine_sim=cosine_sim1):\n",
    "    # Get the index of the anime that matches the title\n",
    "    idx = indices[title]\n",
    "    \n",
    "    # Get the pairwsie similarity scores of all anime with that anime\n",
    "    sim_scores = list(enumerate(cosine_sim[idx]))\n",
    "    \n",
    "    # Sort the anime based on the similarity scores\n",
    "    sim_scores = sorted(sim_scores, key=lambda x: x[1], reverse=True)\n",
    "    \n",
    "    # Get the scores of the 25 most similar anime\n",
    "    sim_scores = sim_scores[1:26]\n",
    "    \n",
    "    #converting the sim_scores to a dictionary\n",
    "    dict_scores = dict(sim_scores)\n",
    "    \n",
    "    # Get the anime indices\n",
    "    #anime_indices = [i for i in dict_scores]\n",
    "    #print(anime_indices)\n",
    "\n",
    "    #ensuring recommendations don't have the same name with title input\n",
    "    final_indices = []\n",
    "    for i in dict_scores:\n",
    "        if title not in anime_data['title'].iloc[i]:\n",
    "            final_indices.append(i)\n",
    "        else:\n",
    "            pass\n",
    "   \n",
    "    # Return the top 10 most similar anime\n",
    "    final_indices = final_indices[0:11]\n",
    "    return anime_data[['title','genres']].iloc[final_indices]"
   ]
  },
  {
   "cell_type": "code",
   "execution_count": 87,
   "metadata": {},
   "outputs": [
    {
     "name": "stdout",
     "output_type": "stream",
     "text": [
      "                                   title  \\\n",
      "239                               Bleach   \n",
      "212                       Rekka no Honoo   \n",
      "9171                    D.Grayman Hallow   \n",
      "10599     Boruto Jump Festa 2016 Special   \n",
      "3453                     Dragon Ball Kai   \n",
      "6799                Dragon Ball Kai 2014   \n",
      "10300                       Black Clover   \n",
      "1333   Bleach Movie 1 Memories of Nobody   \n",
      "2423                  Asobot Senki Gokuu   \n",
      "5572              Ninkuu Knife no Bohyou   \n",
      "11449   Boku no Hero Academia 3rd Season   \n",
      "\n",
      "                                                  genres  \n",
      "239    [action, adventure, comedy, superpower, supern...  \n",
      "212    [action, adventure, martialarts, shounen, supe...  \n",
      "9171    [action, adventure, superpower, demons, shounen]  \n",
      "10599  [action, adventure, comedy, superpower, martia...  \n",
      "3453   [action, adventure, comedy, fantasy, martialar...  \n",
      "6799   [action, adventure, comedy, fantasy, martialar...  \n",
      "10300          [action, comedy, magic, fantasy, shounen]  \n",
      "1333                     [action, adventure, superpower]  \n",
      "2423         [action, scifi, adventure, comedy, shounen]  \n",
      "5572   [action, adventure, comedy, martialarts, shounen]  \n",
      "11449      [action, comedy, school, shounen, superpower]  \n"
     ]
    }
   ],
   "source": [
    "recommendations = get_recommendations('Naruto')\n",
    "print(recommendations)"
   ]
  },
  {
   "cell_type": "markdown",
   "metadata": {},
   "source": [
    "# Recommendation based on storyline"
   ]
  },
  {
   "cell_type": "code",
   "execution_count": 44,
   "metadata": {},
   "outputs": [
    {
     "data": {
      "text/plain": [
       "0    In the year 2071, humanity has colonized sever...\n",
       "1    Another day, another bountysuch is the life of...\n",
       "2    Vash the Stampede is the man with a 60,000,000...\n",
       "3    Witches are individuals with special powers li...\n",
       "4    It is the dark century and the people are suff...\n",
       "Name: synopsis, dtype: object"
      ]
     },
     "execution_count": 44,
     "metadata": {},
     "output_type": "execute_result"
    }
   ],
   "source": [
    "anime_data['synopsis'].head()"
   ]
  },
  {
   "cell_type": "markdown",
   "metadata": {},
   "source": [
    "Applying vectorization to the plot summary to get other similar animes, using tf-idf vectorizer"
   ]
  },
  {
   "cell_type": "code",
   "execution_count": 46,
   "metadata": {},
   "outputs": [
    {
     "data": {
      "text/plain": [
       "(11658, 26977)"
      ]
     },
     "execution_count": 46,
     "metadata": {},
     "output_type": "execute_result"
    }
   ],
   "source": [
    "#converting the synopsis column to word vector\n",
    "from sklearn.feature_extraction.text import TfidfVectorizer\n",
    "\n",
    "# Using Abhishek Thakur's arguments for TF-IDF\n",
    "tfv = TfidfVectorizer(min_df=3,  max_features=None, \n",
    "            strip_accents='unicode', analyzer='word',token_pattern=r'\\w{1,}',\n",
    "            ngram_range=(1, 3), use_idf=1,smooth_idf=1,sublinear_tf=1,\n",
    "            stop_words = 'english')\n",
    "\n",
    "# Filling NaNs with empty string\n",
    "anime_data['synopsis'] = anime_data['synopsis'].fillna('')\n",
    "\n",
    "# Fitting the TF-IDF on the 'overview' text\n",
    "tfv_matrix = tfv.fit_transform(anime_data['synopsis'])\n",
    "\n",
    "tfv_matrix.shape"
   ]
  },
  {
   "cell_type": "markdown",
   "metadata": {},
   "source": [
    "With this matrix in hand, we compute similarity scores using cosine similarity"
   ]
  },
  {
   "cell_type": "code",
   "execution_count": 49,
   "metadata": {},
   "outputs": [],
   "source": [
    "#calculating similarity scores\n",
    "from sklearn.metrics.pairwise import linear_kernel\n",
    "\n",
    "# Compute the cosine similarity matrix using linear kernel\n",
    "cos_sim2 = linear_kernel(tfv_matrix, tfv_matrix)"
   ]
  },
  {
   "cell_type": "markdown",
   "metadata": {},
   "source": [
    "We define a function that takes in an anime title as an input and outputs a list of the 10 most similar animes. Firstly, for this, you need a reverse mapping of anime titles and DataFrame "
   ]
  },
  {
   "cell_type": "code",
   "execution_count": 50,
   "metadata": {},
   "outputs": [],
   "source": [
    "# Reverse mapping of indices and movie titles\n",
    "indices = pd.Series(anime_data.index, index=anime_data['title']).drop_duplicates()"
   ]
  },
  {
   "cell_type": "code",
   "execution_count": 66,
   "metadata": {},
   "outputs": [
    {
     "data": {
      "text/html": [
       "<div>\n",
       "<style scoped>\n",
       "    .dataframe tbody tr th:only-of-type {\n",
       "        vertical-align: middle;\n",
       "    }\n",
       "\n",
       "    .dataframe tbody tr th {\n",
       "        vertical-align: top;\n",
       "    }\n",
       "\n",
       "    .dataframe thead th {\n",
       "        text-align: right;\n",
       "    }\n",
       "</style>\n",
       "<table border=\"1\" class=\"dataframe\">\n",
       "  <thead>\n",
       "    <tr style=\"text-align: right;\">\n",
       "      <th></th>\n",
       "      <th>title</th>\n",
       "      <th>genres</th>\n",
       "    </tr>\n",
       "  </thead>\n",
       "  <tbody>\n",
       "    <tr>\n",
       "      <th>11320</th>\n",
       "      <td>Sylvanian Families Mini Story</td>\n",
       "      <td>[kids, sliceoflife]</td>\n",
       "    </tr>\n",
       "    <tr>\n",
       "      <th>1003</th>\n",
       "      <td>Saint Seiya Saishuu Seisen no Senshitachi</td>\n",
       "      <td>[adventure, scifi, shounen]</td>\n",
       "    </tr>\n",
       "    <tr>\n",
       "      <th>149</th>\n",
       "      <td>Mononoke Hime</td>\n",
       "      <td>[action, adventure, fantasy]</td>\n",
       "    </tr>\n",
       "    <tr>\n",
       "      <th>157</th>\n",
       "      <td>Tactics</td>\n",
       "      <td>[mystery, comedy, historical, demons, supernat...</td>\n",
       "    </tr>\n",
       "    <tr>\n",
       "      <th>5648</th>\n",
       "      <td>Higurashi no Naku Koro ni Kaku Outbreak</td>\n",
       "      <td>[horror, mystery, psychological, thriller]</td>\n",
       "    </tr>\n",
       "    <tr>\n",
       "      <th>9198</th>\n",
       "      <td>Mayoiga</td>\n",
       "      <td>[mystery, comedy, horror, psychological, drama]</td>\n",
       "    </tr>\n",
       "    <tr>\n",
       "      <th>6659</th>\n",
       "      <td>Toukiden The Age of Demons  Introduction</td>\n",
       "      <td>[action, demons]</td>\n",
       "    </tr>\n",
       "    <tr>\n",
       "      <th>7770</th>\n",
       "      <td>Bakemono no Ko</td>\n",
       "      <td>[adventure, supernatural]</td>\n",
       "    </tr>\n",
       "    <tr>\n",
       "      <th>5529</th>\n",
       "      <td>Kamisama no Inai Nichiyoubi</td>\n",
       "      <td>[fantasy, mystery]</td>\n",
       "    </tr>\n",
       "    <tr>\n",
       "      <th>7925</th>\n",
       "      <td>Paniponi</td>\n",
       "      <td>[sliceoflife, kids]</td>\n",
       "    </tr>\n",
       "    <tr>\n",
       "      <th>11918</th>\n",
       "      <td>Yoninme no Ousama</td>\n",
       "      <td>[music, kids]</td>\n",
       "    </tr>\n",
       "  </tbody>\n",
       "</table>\n",
       "</div>"
      ],
      "text/plain": [
       "                                           title  \\\n",
       "11320              Sylvanian Families Mini Story   \n",
       "1003   Saint Seiya Saishuu Seisen no Senshitachi   \n",
       "149                                Mononoke Hime   \n",
       "157                                      Tactics   \n",
       "5648     Higurashi no Naku Koro ni Kaku Outbreak   \n",
       "9198                                     Mayoiga   \n",
       "6659    Toukiden The Age of Demons  Introduction   \n",
       "7770                              Bakemono no Ko   \n",
       "5529                 Kamisama no Inai Nichiyoubi   \n",
       "7925                                    Paniponi   \n",
       "11918                          Yoninme no Ousama   \n",
       "\n",
       "                                                  genres  \n",
       "11320                                [kids, sliceoflife]  \n",
       "1003                         [adventure, scifi, shounen]  \n",
       "149                         [action, adventure, fantasy]  \n",
       "157    [mystery, comedy, historical, demons, supernat...  \n",
       "5648          [horror, mystery, psychological, thriller]  \n",
       "9198     [mystery, comedy, horror, psychological, drama]  \n",
       "6659                                    [action, demons]  \n",
       "7770                           [adventure, supernatural]  \n",
       "5529                                  [fantasy, mystery]  \n",
       "7925                                 [sliceoflife, kids]  \n",
       "11918                                      [music, kids]  "
      ]
     },
     "execution_count": 66,
     "metadata": {},
     "output_type": "execute_result"
    }
   ],
   "source": [
    "get_recommendations('Naruto', cos_sim2) #based on storyline"
   ]
  },
  {
   "cell_type": "code",
   "execution_count": 69,
   "metadata": {},
   "outputs": [],
   "source": [
    "#writing a function to get recommendations using both storyline and features based on 50% for both\n",
    "def get_recommendations_both(title, cos_sim1, cos_sim2):\n",
    "    # Get the index of the movie that matches the title\n",
    "    idx = indices[title]\n",
    "\n",
    "    # Get the pairwsie similarity scores of all anime using similarity1\n",
    "    sim_scores1 = list(enumerate(cos_sim1[idx]))\n",
    "\n",
    "    # Get the pairwsie similarity scores of all anime using similarity1\n",
    "    sim_scores2 = list(enumerate(cos_sim2[idx]))\n",
    "\n",
    "    #Getting the average of both similarity scores\n",
    "    sim_scores_avg = [(sim_scores1[i][0],(sim_scores1[i][1] + sim_scores2[i][1])/2) for i in range(len(sim_scores1))]\n",
    "\n",
    "    # Sort the movies based on the similarity scores\n",
    "    sim_scores_avg = sorted(sim_scores_avg, key=lambda x: x[1], reverse=True)\n",
    "\n",
    "    #Get the scores of the 10 most similar movies\n",
    "    sim_scores_avg = sim_scores_avg[1:26]\n",
    "\n",
    "    #Get the movie indices\n",
    "    anime_indices = [i[0] for i in sim_scores_avg]\n",
    "      \n",
    "    #ensuring recommendations don't have the same name with title input\n",
    "    final_indices = []\n",
    "    for i in anime_indices:\n",
    "        if title not in anime_data['title'].iloc[i]:\n",
    "            final_indices.append(i)\n",
    "        else:\n",
    "            pass\n",
    "\n",
    "    # Return the top 10 most similar anime\n",
    "    final_indices = final_indices[0:11]\n",
    "    return anime_data[['title','genres']].iloc[final_indices]\n"
   ]
  },
  {
   "cell_type": "code",
   "execution_count": 70,
   "metadata": {},
   "outputs": [
    {
     "data": {
      "text/html": [
       "<div>\n",
       "<style scoped>\n",
       "    .dataframe tbody tr th:only-of-type {\n",
       "        vertical-align: middle;\n",
       "    }\n",
       "\n",
       "    .dataframe tbody tr th {\n",
       "        vertical-align: top;\n",
       "    }\n",
       "\n",
       "    .dataframe thead th {\n",
       "        text-align: right;\n",
       "    }\n",
       "</style>\n",
       "<table border=\"1\" class=\"dataframe\">\n",
       "  <thead>\n",
       "    <tr style=\"text-align: right;\">\n",
       "      <th></th>\n",
       "      <th>title</th>\n",
       "      <th>genres</th>\n",
       "    </tr>\n",
       "  </thead>\n",
       "  <tbody>\n",
       "    <tr>\n",
       "      <th>239</th>\n",
       "      <td>Bleach</td>\n",
       "      <td>[action, adventure, comedy, superpower, supern...</td>\n",
       "    </tr>\n",
       "    <tr>\n",
       "      <th>9171</th>\n",
       "      <td>D.Grayman Hallow</td>\n",
       "      <td>[action, adventure, superpower, demons, shounen]</td>\n",
       "    </tr>\n",
       "    <tr>\n",
       "      <th>212</th>\n",
       "      <td>Rekka no Honoo</td>\n",
       "      <td>[action, adventure, martialarts, shounen, supe...</td>\n",
       "    </tr>\n",
       "    <tr>\n",
       "      <th>10599</th>\n",
       "      <td>Boruto Jump Festa 2016 Special</td>\n",
       "      <td>[action, adventure, comedy, superpower, martia...</td>\n",
       "    </tr>\n",
       "    <tr>\n",
       "      <th>10300</th>\n",
       "      <td>Black Clover</td>\n",
       "      <td>[action, comedy, magic, fantasy, shounen]</td>\n",
       "    </tr>\n",
       "    <tr>\n",
       "      <th>3453</th>\n",
       "      <td>Dragon Ball Kai</td>\n",
       "      <td>[action, adventure, comedy, fantasy, martialar...</td>\n",
       "    </tr>\n",
       "    <tr>\n",
       "      <th>5572</th>\n",
       "      <td>Ninkuu Knife no Bohyou</td>\n",
       "      <td>[action, adventure, comedy, martialarts, shounen]</td>\n",
       "    </tr>\n",
       "    <tr>\n",
       "      <th>6799</th>\n",
       "      <td>Dragon Ball Kai 2014</td>\n",
       "      <td>[action, adventure, comedy, fantasy, martialar...</td>\n",
       "    </tr>\n",
       "    <tr>\n",
       "      <th>11449</th>\n",
       "      <td>Boku no Hero Academia 3rd Season</td>\n",
       "      <td>[action, comedy, school, shounen, superpower]</td>\n",
       "    </tr>\n",
       "    <tr>\n",
       "      <th>8480</th>\n",
       "      <td>Dragon Ball Super</td>\n",
       "      <td>[action, adventure, comedy, fantasy, martialar...</td>\n",
       "    </tr>\n",
       "    <tr>\n",
       "      <th>2423</th>\n",
       "      <td>Asobot Senki Gokuu</td>\n",
       "      <td>[action, scifi, adventure, comedy, shounen]</td>\n",
       "    </tr>\n",
       "  </tbody>\n",
       "</table>\n",
       "</div>"
      ],
      "text/plain": [
       "                                  title  \\\n",
       "239                              Bleach   \n",
       "9171                   D.Grayman Hallow   \n",
       "212                      Rekka no Honoo   \n",
       "10599    Boruto Jump Festa 2016 Special   \n",
       "10300                      Black Clover   \n",
       "3453                    Dragon Ball Kai   \n",
       "5572             Ninkuu Knife no Bohyou   \n",
       "6799               Dragon Ball Kai 2014   \n",
       "11449  Boku no Hero Academia 3rd Season   \n",
       "8480                  Dragon Ball Super   \n",
       "2423                 Asobot Senki Gokuu   \n",
       "\n",
       "                                                  genres  \n",
       "239    [action, adventure, comedy, superpower, supern...  \n",
       "9171    [action, adventure, superpower, demons, shounen]  \n",
       "212    [action, adventure, martialarts, shounen, supe...  \n",
       "10599  [action, adventure, comedy, superpower, martia...  \n",
       "10300          [action, comedy, magic, fantasy, shounen]  \n",
       "3453   [action, adventure, comedy, fantasy, martialar...  \n",
       "5572   [action, adventure, comedy, martialarts, shounen]  \n",
       "6799   [action, adventure, comedy, fantasy, martialar...  \n",
       "11449      [action, comedy, school, shounen, superpower]  \n",
       "8480   [action, adventure, comedy, fantasy, martialar...  \n",
       "2423         [action, scifi, adventure, comedy, shounen]  "
      ]
     },
     "execution_count": 70,
     "metadata": {},
     "output_type": "execute_result"
    }
   ],
   "source": [
    "get_recommendations_both('Naruto',cosine_sim1,cos_sim2)"
   ]
  },
  {
   "cell_type": "code",
   "execution_count": null,
   "metadata": {},
   "outputs": [],
   "source": []
  }
 ],
 "metadata": {
  "kernelspec": {
   "display_name": "Python 3",
   "language": "python",
   "name": "python3"
  },
  "language_info": {
   "codemirror_mode": {
    "name": "ipython",
    "version": 3
   },
   "file_extension": ".py",
   "mimetype": "text/x-python",
   "name": "python",
   "nbconvert_exporter": "python",
   "pygments_lexer": "ipython3",
   "version": "3.7.1"
  }
 },
 "nbformat": 4,
 "nbformat_minor": 2
}
