{
  "nbformat": 4,
  "nbformat_minor": 0,
  "metadata": {
    "colab": {
      "name": "anime_correlation.ipynb",
      "provenance": []
    },
    "kernelspec": {
      "name": "python3",
      "display_name": "Python 3"
    }
  },
  "cells": [
    {
      "cell_type": "markdown",
      "metadata": {
        "id": "J3Wc0KJxaTMs",
        "colab_type": "text"
      },
      "source": [
        "### Simple Reccommedations"
      ]
    },
    {
      "cell_type": "markdown",
      "metadata": {
        "id": "XEQFDw08fpzQ",
        "colab_type": "text"
      },
      "source": [
        "Importing necessary libraries"
      ]
    },
    {
      "cell_type": "code",
      "metadata": {
        "id": "_xGMvvA49FN0",
        "colab_type": "code",
        "colab": {}
      },
      "source": [
        "import pandas as pd\n",
        "import numpy as np"
      ],
      "execution_count": 152,
      "outputs": []
    },
    {
      "cell_type": "code",
      "metadata": {
        "id": "WCtYTi_k9vpB",
        "colab_type": "code",
        "colab": {
          "base_uri": "https://localhost:8080/",
          "height": 204
        },
        "outputId": "a3993580-2925-4f35-f366-a68ce9178ad7"
      },
      "source": [
        "anime = pd.read_csv('/content/drive/My Drive/anime data/anime.csv')\n",
        "anime.head()"
      ],
      "execution_count": 153,
      "outputs": [
        {
          "output_type": "execute_result",
          "data": {
            "text/html": [
              "<div>\n",
              "<style scoped>\n",
              "    .dataframe tbody tr th:only-of-type {\n",
              "        vertical-align: middle;\n",
              "    }\n",
              "\n",
              "    .dataframe tbody tr th {\n",
              "        vertical-align: top;\n",
              "    }\n",
              "\n",
              "    .dataframe thead th {\n",
              "        text-align: right;\n",
              "    }\n",
              "</style>\n",
              "<table border=\"1\" class=\"dataframe\">\n",
              "  <thead>\n",
              "    <tr style=\"text-align: right;\">\n",
              "      <th></th>\n",
              "      <th>anime_id</th>\n",
              "      <th>name</th>\n",
              "      <th>genre</th>\n",
              "      <th>type</th>\n",
              "      <th>episodes</th>\n",
              "      <th>rating</th>\n",
              "      <th>members</th>\n",
              "    </tr>\n",
              "  </thead>\n",
              "  <tbody>\n",
              "    <tr>\n",
              "      <th>0</th>\n",
              "      <td>32281</td>\n",
              "      <td>Kimi no Na wa.</td>\n",
              "      <td>Drama, Romance, School, Supernatural</td>\n",
              "      <td>Movie</td>\n",
              "      <td>1</td>\n",
              "      <td>9.37</td>\n",
              "      <td>200630</td>\n",
              "    </tr>\n",
              "    <tr>\n",
              "      <th>1</th>\n",
              "      <td>5114</td>\n",
              "      <td>Fullmetal Alchemist: Brotherhood</td>\n",
              "      <td>Action, Adventure, Drama, Fantasy, Magic, Mili...</td>\n",
              "      <td>TV</td>\n",
              "      <td>64</td>\n",
              "      <td>9.26</td>\n",
              "      <td>793665</td>\n",
              "    </tr>\n",
              "    <tr>\n",
              "      <th>2</th>\n",
              "      <td>28977</td>\n",
              "      <td>Gintama°</td>\n",
              "      <td>Action, Comedy, Historical, Parody, Samurai, S...</td>\n",
              "      <td>TV</td>\n",
              "      <td>51</td>\n",
              "      <td>9.25</td>\n",
              "      <td>114262</td>\n",
              "    </tr>\n",
              "    <tr>\n",
              "      <th>3</th>\n",
              "      <td>9253</td>\n",
              "      <td>Steins;Gate</td>\n",
              "      <td>Sci-Fi, Thriller</td>\n",
              "      <td>TV</td>\n",
              "      <td>24</td>\n",
              "      <td>9.17</td>\n",
              "      <td>673572</td>\n",
              "    </tr>\n",
              "    <tr>\n",
              "      <th>4</th>\n",
              "      <td>9969</td>\n",
              "      <td>Gintama&amp;#039;</td>\n",
              "      <td>Action, Comedy, Historical, Parody, Samurai, S...</td>\n",
              "      <td>TV</td>\n",
              "      <td>51</td>\n",
              "      <td>9.16</td>\n",
              "      <td>151266</td>\n",
              "    </tr>\n",
              "  </tbody>\n",
              "</table>\n",
              "</div>"
            ],
            "text/plain": [
              "   anime_id                              name  ... rating members\n",
              "0     32281                    Kimi no Na wa.  ...   9.37  200630\n",
              "1      5114  Fullmetal Alchemist: Brotherhood  ...   9.26  793665\n",
              "2     28977                          Gintama°  ...   9.25  114262\n",
              "3      9253                       Steins;Gate  ...   9.17  673572\n",
              "4      9969                     Gintama&#039;  ...   9.16  151266\n",
              "\n",
              "[5 rows x 7 columns]"
            ]
          },
          "metadata": {
            "tags": []
          },
          "execution_count": 153
        }
      ]
    },
    {
      "cell_type": "markdown",
      "metadata": {
        "id": "NbjbUQi4go7x",
        "colab_type": "text"
      },
      "source": [
        "Cleaning up the name column from non-alphanumeric characters\n"
      ]
    },
    {
      "cell_type": "code",
      "metadata": {
        "id": "AbSiLXeMjBUT",
        "colab_type": "code",
        "colab": {
          "base_uri": "https://localhost:8080/",
          "height": 153
        },
        "outputId": "793df911-1a12-4d6a-8fa0-c712323bce7d"
      },
      "source": [
        "anime.dtypes"
      ],
      "execution_count": 154,
      "outputs": [
        {
          "output_type": "execute_result",
          "data": {
            "text/plain": [
              "anime_id      int64\n",
              "name         object\n",
              "genre        object\n",
              "type         object\n",
              "episodes     object\n",
              "rating      float64\n",
              "members       int64\n",
              "dtype: object"
            ]
          },
          "metadata": {
            "tags": []
          },
          "execution_count": 154
        }
      ]
    },
    {
      "cell_type": "code",
      "metadata": {
        "id": "dTQ7QlJpjHVg",
        "colab_type": "code",
        "colab": {}
      },
      "source": [
        "#converting the name column into string datatype\n",
        "anime['name'] = anime['name'].astype('str')"
      ],
      "execution_count": 155,
      "outputs": []
    },
    {
      "cell_type": "code",
      "metadata": {
        "id": "c1NOSjNEgn0s",
        "colab_type": "code",
        "colab": {}
      },
      "source": [
        "#creating the function to remove the characters\n",
        "import re\n",
        "def clean_up(s):\n",
        "  new_s = re.sub(r\"[^\\sa-zA-Z0-9\\.\\,\\;]\",\"\",str(s))\n",
        "  return new_s\n"
      ],
      "execution_count": 156,
      "outputs": []
    },
    {
      "cell_type": "code",
      "metadata": {
        "id": "bFAqNu_0i3qu",
        "colab_type": "code",
        "colab": {}
      },
      "source": [
        "anime['name'] = anime['name'].apply(clean_up)"
      ],
      "execution_count": 157,
      "outputs": []
    },
    {
      "cell_type": "code",
      "metadata": {
        "id": "DjVjzZyMkR1O",
        "colab_type": "code",
        "colab": {
          "base_uri": "https://localhost:8080/",
          "height": 204
        },
        "outputId": "9d08f477-7d6f-4604-d658-03e1cf76f6f5"
      },
      "source": [
        "#after clean-up\n",
        "anime.head()"
      ],
      "execution_count": 158,
      "outputs": [
        {
          "output_type": "execute_result",
          "data": {
            "text/html": [
              "<div>\n",
              "<style scoped>\n",
              "    .dataframe tbody tr th:only-of-type {\n",
              "        vertical-align: middle;\n",
              "    }\n",
              "\n",
              "    .dataframe tbody tr th {\n",
              "        vertical-align: top;\n",
              "    }\n",
              "\n",
              "    .dataframe thead th {\n",
              "        text-align: right;\n",
              "    }\n",
              "</style>\n",
              "<table border=\"1\" class=\"dataframe\">\n",
              "  <thead>\n",
              "    <tr style=\"text-align: right;\">\n",
              "      <th></th>\n",
              "      <th>anime_id</th>\n",
              "      <th>name</th>\n",
              "      <th>genre</th>\n",
              "      <th>type</th>\n",
              "      <th>episodes</th>\n",
              "      <th>rating</th>\n",
              "      <th>members</th>\n",
              "    </tr>\n",
              "  </thead>\n",
              "  <tbody>\n",
              "    <tr>\n",
              "      <th>0</th>\n",
              "      <td>32281</td>\n",
              "      <td>Kimi no Na wa.</td>\n",
              "      <td>Drama, Romance, School, Supernatural</td>\n",
              "      <td>Movie</td>\n",
              "      <td>1</td>\n",
              "      <td>9.37</td>\n",
              "      <td>200630</td>\n",
              "    </tr>\n",
              "    <tr>\n",
              "      <th>1</th>\n",
              "      <td>5114</td>\n",
              "      <td>Fullmetal Alchemist Brotherhood</td>\n",
              "      <td>Action, Adventure, Drama, Fantasy, Magic, Mili...</td>\n",
              "      <td>TV</td>\n",
              "      <td>64</td>\n",
              "      <td>9.26</td>\n",
              "      <td>793665</td>\n",
              "    </tr>\n",
              "    <tr>\n",
              "      <th>2</th>\n",
              "      <td>28977</td>\n",
              "      <td>Gintama</td>\n",
              "      <td>Action, Comedy, Historical, Parody, Samurai, S...</td>\n",
              "      <td>TV</td>\n",
              "      <td>51</td>\n",
              "      <td>9.25</td>\n",
              "      <td>114262</td>\n",
              "    </tr>\n",
              "    <tr>\n",
              "      <th>3</th>\n",
              "      <td>9253</td>\n",
              "      <td>Steins;Gate</td>\n",
              "      <td>Sci-Fi, Thriller</td>\n",
              "      <td>TV</td>\n",
              "      <td>24</td>\n",
              "      <td>9.17</td>\n",
              "      <td>673572</td>\n",
              "    </tr>\n",
              "    <tr>\n",
              "      <th>4</th>\n",
              "      <td>9969</td>\n",
              "      <td>Gintama039;</td>\n",
              "      <td>Action, Comedy, Historical, Parody, Samurai, S...</td>\n",
              "      <td>TV</td>\n",
              "      <td>51</td>\n",
              "      <td>9.16</td>\n",
              "      <td>151266</td>\n",
              "    </tr>\n",
              "  </tbody>\n",
              "</table>\n",
              "</div>"
            ],
            "text/plain": [
              "   anime_id                             name  ... rating members\n",
              "0     32281                   Kimi no Na wa.  ...   9.37  200630\n",
              "1      5114  Fullmetal Alchemist Brotherhood  ...   9.26  793665\n",
              "2     28977                          Gintama  ...   9.25  114262\n",
              "3      9253                      Steins;Gate  ...   9.17  673572\n",
              "4      9969                      Gintama039;  ...   9.16  151266\n",
              "\n",
              "[5 rows x 7 columns]"
            ]
          },
          "metadata": {
            "tags": []
          },
          "execution_count": 158
        }
      ]
    },
    {
      "cell_type": "code",
      "metadata": {
        "id": "vpdhj-ky9vmV",
        "colab_type": "code",
        "colab": {
          "base_uri": "https://localhost:8080/",
          "height": 204
        },
        "outputId": "2c17fa07-20da-4558-9486-a3f9af3b6d7e"
      },
      "source": [
        "ratings = pd.read_csv('/content/drive/My Drive/anime data/rating.csv')\n",
        "ratings.head()"
      ],
      "execution_count": 190,
      "outputs": [
        {
          "output_type": "execute_result",
          "data": {
            "text/html": [
              "<div>\n",
              "<style scoped>\n",
              "    .dataframe tbody tr th:only-of-type {\n",
              "        vertical-align: middle;\n",
              "    }\n",
              "\n",
              "    .dataframe tbody tr th {\n",
              "        vertical-align: top;\n",
              "    }\n",
              "\n",
              "    .dataframe thead th {\n",
              "        text-align: right;\n",
              "    }\n",
              "</style>\n",
              "<table border=\"1\" class=\"dataframe\">\n",
              "  <thead>\n",
              "    <tr style=\"text-align: right;\">\n",
              "      <th></th>\n",
              "      <th>user_id</th>\n",
              "      <th>anime_id</th>\n",
              "      <th>rating</th>\n",
              "    </tr>\n",
              "  </thead>\n",
              "  <tbody>\n",
              "    <tr>\n",
              "      <th>0</th>\n",
              "      <td>1</td>\n",
              "      <td>20</td>\n",
              "      <td>-1</td>\n",
              "    </tr>\n",
              "    <tr>\n",
              "      <th>1</th>\n",
              "      <td>1</td>\n",
              "      <td>24</td>\n",
              "      <td>-1</td>\n",
              "    </tr>\n",
              "    <tr>\n",
              "      <th>2</th>\n",
              "      <td>1</td>\n",
              "      <td>79</td>\n",
              "      <td>-1</td>\n",
              "    </tr>\n",
              "    <tr>\n",
              "      <th>3</th>\n",
              "      <td>1</td>\n",
              "      <td>226</td>\n",
              "      <td>-1</td>\n",
              "    </tr>\n",
              "    <tr>\n",
              "      <th>4</th>\n",
              "      <td>1</td>\n",
              "      <td>241</td>\n",
              "      <td>-1</td>\n",
              "    </tr>\n",
              "  </tbody>\n",
              "</table>\n",
              "</div>"
            ],
            "text/plain": [
              "   user_id  anime_id  rating\n",
              "0        1        20      -1\n",
              "1        1        24      -1\n",
              "2        1        79      -1\n",
              "3        1       226      -1\n",
              "4        1       241      -1"
            ]
          },
          "metadata": {
            "tags": []
          },
          "execution_count": 190
        }
      ]
    },
    {
      "cell_type": "code",
      "metadata": {
        "id": "Y5zMftE4XBM-",
        "colab_type": "code",
        "colab": {
          "base_uri": "https://localhost:8080/",
          "height": 34
        },
        "outputId": "d5174cfb-8ea2-4849-8e11-e42321da8e46"
      },
      "source": [
        "len(ratings)"
      ],
      "execution_count": 191,
      "outputs": [
        {
          "output_type": "execute_result",
          "data": {
            "text/plain": [
              "7813737"
            ]
          },
          "metadata": {
            "tags": []
          },
          "execution_count": 191
        }
      ]
    },
    {
      "cell_type": "code",
      "metadata": {
        "id": "K7-RPMWgWmoS",
        "colab_type": "code",
        "colab": {
          "base_uri": "https://localhost:8080/",
          "height": 34
        },
        "outputId": "896ef5fc-44f5-4fb0-c01b-2a80dfde1b98"
      },
      "source": [
        "#dropping all rows with rating value of -1. ie. the user_id did not rate the anime\n",
        "ratings = ratings[ratings['rating'] != -1]\n",
        "len(ratings)"
      ],
      "execution_count": 192,
      "outputs": [
        {
          "output_type": "execute_result",
          "data": {
            "text/plain": [
              "6337241"
            ]
          },
          "metadata": {
            "tags": []
          },
          "execution_count": 192
        }
      ]
    },
    {
      "cell_type": "code",
      "metadata": {
        "id": "tJNAVSDO9vi9",
        "colab_type": "code",
        "colab": {
          "base_uri": "https://localhost:8080/",
          "height": 34
        },
        "outputId": "48c918d0-e7a7-46d8-c626-20f3b9a80abd"
      },
      "source": [
        "anime.shape"
      ],
      "execution_count": 163,
      "outputs": [
        {
          "output_type": "execute_result",
          "data": {
            "text/plain": [
              "(12294, 7)"
            ]
          },
          "metadata": {
            "tags": []
          },
          "execution_count": 163
        }
      ]
    },
    {
      "cell_type": "code",
      "metadata": {
        "id": "0z9Dp-Fw9vgS",
        "colab_type": "code",
        "colab": {
          "base_uri": "https://localhost:8080/",
          "height": 34
        },
        "outputId": "ad987f3d-8d81-48fd-946f-00719c516832"
      },
      "source": [
        "ratings.shape"
      ],
      "execution_count": 164,
      "outputs": [
        {
          "output_type": "execute_result",
          "data": {
            "text/plain": [
              "(6337241, 3)"
            ]
          },
          "metadata": {
            "tags": []
          },
          "execution_count": 164
        }
      ]
    },
    {
      "cell_type": "code",
      "metadata": {
        "id": "FY25J8II9vdv",
        "colab_type": "code",
        "colab": {}
      },
      "source": [
        "#renaming rating in anime df rating to average rating\n",
        "anime.rename(columns={'rating':'average_rating'}, inplace=True)"
      ],
      "execution_count": 165,
      "outputs": []
    },
    {
      "cell_type": "code",
      "metadata": {
        "id": "GaB5eEVZ9va2",
        "colab_type": "code",
        "colab": {
          "base_uri": "https://localhost:8080/",
          "height": 204
        },
        "outputId": "1ba8576d-338e-4884-9bd8-da51aec83c9d"
      },
      "source": [
        "anime.head()"
      ],
      "execution_count": 166,
      "outputs": [
        {
          "output_type": "execute_result",
          "data": {
            "text/html": [
              "<div>\n",
              "<style scoped>\n",
              "    .dataframe tbody tr th:only-of-type {\n",
              "        vertical-align: middle;\n",
              "    }\n",
              "\n",
              "    .dataframe tbody tr th {\n",
              "        vertical-align: top;\n",
              "    }\n",
              "\n",
              "    .dataframe thead th {\n",
              "        text-align: right;\n",
              "    }\n",
              "</style>\n",
              "<table border=\"1\" class=\"dataframe\">\n",
              "  <thead>\n",
              "    <tr style=\"text-align: right;\">\n",
              "      <th></th>\n",
              "      <th>anime_id</th>\n",
              "      <th>name</th>\n",
              "      <th>genre</th>\n",
              "      <th>type</th>\n",
              "      <th>episodes</th>\n",
              "      <th>average_rating</th>\n",
              "      <th>members</th>\n",
              "    </tr>\n",
              "  </thead>\n",
              "  <tbody>\n",
              "    <tr>\n",
              "      <th>0</th>\n",
              "      <td>32281</td>\n",
              "      <td>Kimi no Na wa.</td>\n",
              "      <td>Drama, Romance, School, Supernatural</td>\n",
              "      <td>Movie</td>\n",
              "      <td>1</td>\n",
              "      <td>9.37</td>\n",
              "      <td>200630</td>\n",
              "    </tr>\n",
              "    <tr>\n",
              "      <th>1</th>\n",
              "      <td>5114</td>\n",
              "      <td>Fullmetal Alchemist Brotherhood</td>\n",
              "      <td>Action, Adventure, Drama, Fantasy, Magic, Mili...</td>\n",
              "      <td>TV</td>\n",
              "      <td>64</td>\n",
              "      <td>9.26</td>\n",
              "      <td>793665</td>\n",
              "    </tr>\n",
              "    <tr>\n",
              "      <th>2</th>\n",
              "      <td>28977</td>\n",
              "      <td>Gintama</td>\n",
              "      <td>Action, Comedy, Historical, Parody, Samurai, S...</td>\n",
              "      <td>TV</td>\n",
              "      <td>51</td>\n",
              "      <td>9.25</td>\n",
              "      <td>114262</td>\n",
              "    </tr>\n",
              "    <tr>\n",
              "      <th>3</th>\n",
              "      <td>9253</td>\n",
              "      <td>Steins;Gate</td>\n",
              "      <td>Sci-Fi, Thriller</td>\n",
              "      <td>TV</td>\n",
              "      <td>24</td>\n",
              "      <td>9.17</td>\n",
              "      <td>673572</td>\n",
              "    </tr>\n",
              "    <tr>\n",
              "      <th>4</th>\n",
              "      <td>9969</td>\n",
              "      <td>Gintama039;</td>\n",
              "      <td>Action, Comedy, Historical, Parody, Samurai, S...</td>\n",
              "      <td>TV</td>\n",
              "      <td>51</td>\n",
              "      <td>9.16</td>\n",
              "      <td>151266</td>\n",
              "    </tr>\n",
              "  </tbody>\n",
              "</table>\n",
              "</div>"
            ],
            "text/plain": [
              "   anime_id                             name  ... average_rating members\n",
              "0     32281                   Kimi no Na wa.  ...           9.37  200630\n",
              "1      5114  Fullmetal Alchemist Brotherhood  ...           9.26  793665\n",
              "2     28977                          Gintama  ...           9.25  114262\n",
              "3      9253                      Steins;Gate  ...           9.17  673572\n",
              "4      9969                      Gintama039;  ...           9.16  151266\n",
              "\n",
              "[5 rows x 7 columns]"
            ]
          },
          "metadata": {
            "tags": []
          },
          "execution_count": 166
        }
      ]
    },
    {
      "cell_type": "markdown",
      "metadata": {
        "id": "nEFKkcosk1Ee",
        "colab_type": "text"
      },
      "source": [
        "## Merging both the anime and rating dataframes"
      ]
    },
    {
      "cell_type": "markdown",
      "metadata": {
        "id": "3IVQDX6_lFIZ",
        "colab_type": "text"
      },
      "source": [
        "### Important points to grasp about the datasets\n",
        "In the anime.csv file, **anime_id** is **unique** for each row.\n",
        "In the rating.csv file, **anime_id** is **unique**, but **user_id** is **not unique**. \n",
        "When we merge both, **user_id** becomes **unique**, and anime_id is no longer."
      ]
    },
    {
      "cell_type": "code",
      "metadata": {
        "id": "MvNdT0n29vYX",
        "colab_type": "code",
        "colab": {}
      },
      "source": [
        "#we merge based on anime_id cus they're both common in the 2 dataframes\n",
        "df_merged = pd.merge(ratings,anime,on='anime_id')"
      ],
      "execution_count": 193,
      "outputs": []
    },
    {
      "cell_type": "code",
      "metadata": {
        "id": "45-kPl8_9vVz",
        "colab_type": "code",
        "colab": {
          "base_uri": "https://localhost:8080/",
          "height": 34
        },
        "outputId": "0aaae065-c017-4e93-b720-dc675532e530"
      },
      "source": [
        "df_merged.shape"
      ],
      "execution_count": 194,
      "outputs": [
        {
          "output_type": "execute_result",
          "data": {
            "text/plain": [
              "(6337239, 9)"
            ]
          },
          "metadata": {
            "tags": []
          },
          "execution_count": 194
        }
      ]
    },
    {
      "cell_type": "code",
      "metadata": {
        "id": "EVi2ijlC9vTb",
        "colab_type": "code",
        "colab": {
          "base_uri": "https://localhost:8080/",
          "height": 142
        },
        "outputId": "2ffa32f9-f665-46dc-9b7d-e4cdc99cfb19"
      },
      "source": [
        "df_merged.head(3) "
      ],
      "execution_count": 196,
      "outputs": [
        {
          "output_type": "execute_result",
          "data": {
            "text/html": [
              "<div>\n",
              "<style scoped>\n",
              "    .dataframe tbody tr th:only-of-type {\n",
              "        vertical-align: middle;\n",
              "    }\n",
              "\n",
              "    .dataframe tbody tr th {\n",
              "        vertical-align: top;\n",
              "    }\n",
              "\n",
              "    .dataframe thead th {\n",
              "        text-align: right;\n",
              "    }\n",
              "</style>\n",
              "<table border=\"1\" class=\"dataframe\">\n",
              "  <thead>\n",
              "    <tr style=\"text-align: right;\">\n",
              "      <th></th>\n",
              "      <th>user_id</th>\n",
              "      <th>anime_id</th>\n",
              "      <th>rating</th>\n",
              "      <th>name</th>\n",
              "      <th>genre</th>\n",
              "      <th>type</th>\n",
              "      <th>episodes</th>\n",
              "      <th>average_rating</th>\n",
              "      <th>members</th>\n",
              "    </tr>\n",
              "  </thead>\n",
              "  <tbody>\n",
              "    <tr>\n",
              "      <th>0</th>\n",
              "      <td>1</td>\n",
              "      <td>8074</td>\n",
              "      <td>10</td>\n",
              "      <td>Highschool of the Dead</td>\n",
              "      <td>Action, Ecchi, Horror, Supernatural</td>\n",
              "      <td>TV</td>\n",
              "      <td>12</td>\n",
              "      <td>7.46</td>\n",
              "      <td>535892</td>\n",
              "    </tr>\n",
              "    <tr>\n",
              "      <th>1</th>\n",
              "      <td>3</td>\n",
              "      <td>8074</td>\n",
              "      <td>6</td>\n",
              "      <td>Highschool of the Dead</td>\n",
              "      <td>Action, Ecchi, Horror, Supernatural</td>\n",
              "      <td>TV</td>\n",
              "      <td>12</td>\n",
              "      <td>7.46</td>\n",
              "      <td>535892</td>\n",
              "    </tr>\n",
              "    <tr>\n",
              "      <th>2</th>\n",
              "      <td>5</td>\n",
              "      <td>8074</td>\n",
              "      <td>2</td>\n",
              "      <td>Highschool of the Dead</td>\n",
              "      <td>Action, Ecchi, Horror, Supernatural</td>\n",
              "      <td>TV</td>\n",
              "      <td>12</td>\n",
              "      <td>7.46</td>\n",
              "      <td>535892</td>\n",
              "    </tr>\n",
              "  </tbody>\n",
              "</table>\n",
              "</div>"
            ],
            "text/plain": [
              "   user_id  anime_id  rating  ... episodes average_rating members\n",
              "0        1      8074      10  ...       12           7.46  535892\n",
              "1        3      8074       6  ...       12           7.46  535892\n",
              "2        5      8074       2  ...       12           7.46  535892\n",
              "\n",
              "[3 rows x 9 columns]"
            ]
          },
          "metadata": {
            "tags": []
          },
          "execution_count": 196
        }
      ]
    },
    {
      "cell_type": "markdown",
      "metadata": {
        "id": "9_wZPSJAarIo",
        "colab_type": "text"
      },
      "source": [
        "#### Note that: There are 69,600 unique user ids and 9,926 unique anime ids"
      ]
    },
    {
      "cell_type": "code",
      "metadata": {
        "id": "Tbal773FaY_J",
        "colab_type": "code",
        "colab": {
          "base_uri": "https://localhost:8080/",
          "height": 34
        },
        "outputId": "8134b038-32a0-4fd7-b2cc-9eab6a6aedf5"
      },
      "source": [
        "#unique user ids\n",
        "len(df_merged['user_id'].unique())"
      ],
      "execution_count": 201,
      "outputs": [
        {
          "output_type": "execute_result",
          "data": {
            "text/plain": [
              "69600"
            ]
          },
          "metadata": {
            "tags": []
          },
          "execution_count": 201
        }
      ]
    },
    {
      "cell_type": "code",
      "metadata": {
        "id": "FUe9z3z1a33d",
        "colab_type": "code",
        "colab": {
          "base_uri": "https://localhost:8080/",
          "height": 34
        },
        "outputId": "36bc7880-7e84-4775-d368-08b49573173f"
      },
      "source": [
        "#unique anime ids\n",
        "len(df_merged['anime_id'].unique())"
      ],
      "execution_count": 202,
      "outputs": [
        {
          "output_type": "execute_result",
          "data": {
            "text/plain": [
              "9926"
            ]
          },
          "metadata": {
            "tags": []
          },
          "execution_count": 202
        }
      ]
    },
    {
      "cell_type": "code",
      "metadata": {
        "id": "4op1k578-OXq",
        "colab_type": "code",
        "colab": {}
      },
      "source": [
        "#shuffling the dataframe\n",
        "df_merged = df_merged.sample(n=len(df_merged), random_state=42)"
      ],
      "execution_count": 203,
      "outputs": []
    },
    {
      "cell_type": "code",
      "metadata": {
        "id": "oKSmddRmrYbn",
        "colab_type": "code",
        "colab": {}
      },
      "source": [
        "#we're going to use only 200,000 of the dataset to avoid RAM issues\n",
        "df_merged = df_merged[:200000]"
      ],
      "execution_count": 204,
      "outputs": []
    },
    {
      "cell_type": "code",
      "metadata": {
        "id": "SxLRcOwQfc_1",
        "colab_type": "code",
        "colab": {
          "base_uri": "https://localhost:8080/",
          "height": 204
        },
        "outputId": "9b4f9554-0fd2-42be-9c4f-52886476672e"
      },
      "source": [
        "#checking out the new head of the dataframe after shuffling\n",
        "df_merged.head()"
      ],
      "execution_count": 205,
      "outputs": [
        {
          "output_type": "execute_result",
          "data": {
            "text/html": [
              "<div>\n",
              "<style scoped>\n",
              "    .dataframe tbody tr th:only-of-type {\n",
              "        vertical-align: middle;\n",
              "    }\n",
              "\n",
              "    .dataframe tbody tr th {\n",
              "        vertical-align: top;\n",
              "    }\n",
              "\n",
              "    .dataframe thead th {\n",
              "        text-align: right;\n",
              "    }\n",
              "</style>\n",
              "<table border=\"1\" class=\"dataframe\">\n",
              "  <thead>\n",
              "    <tr style=\"text-align: right;\">\n",
              "      <th></th>\n",
              "      <th>user_id</th>\n",
              "      <th>anime_id</th>\n",
              "      <th>rating</th>\n",
              "      <th>name</th>\n",
              "      <th>genre</th>\n",
              "      <th>type</th>\n",
              "      <th>episodes</th>\n",
              "      <th>average_rating</th>\n",
              "      <th>members</th>\n",
              "    </tr>\n",
              "  </thead>\n",
              "  <tbody>\n",
              "    <tr>\n",
              "      <th>5589647</th>\n",
              "      <td>33460</td>\n",
              "      <td>238</td>\n",
              "      <td>9</td>\n",
              "      <td>Rekka no Honoo</td>\n",
              "      <td>Action, Adventure, Martial Arts, Shounen, Supe...</td>\n",
              "      <td>TV</td>\n",
              "      <td>42</td>\n",
              "      <td>7.44</td>\n",
              "      <td>35258</td>\n",
              "    </tr>\n",
              "    <tr>\n",
              "      <th>1898051</th>\n",
              "      <td>56212</td>\n",
              "      <td>17895</td>\n",
              "      <td>9</td>\n",
              "      <td>Golden Time</td>\n",
              "      <td>Comedy, Romance, Seinen</td>\n",
              "      <td>TV</td>\n",
              "      <td>24</td>\n",
              "      <td>7.92</td>\n",
              "      <td>273191</td>\n",
              "    </tr>\n",
              "    <tr>\n",
              "      <th>1215622</th>\n",
              "      <td>11329</td>\n",
              "      <td>5680</td>\n",
              "      <td>7</td>\n",
              "      <td>KOn</td>\n",
              "      <td>Comedy, Music, School, Slice of Life</td>\n",
              "      <td>TV</td>\n",
              "      <td>13</td>\n",
              "      <td>7.87</td>\n",
              "      <td>386048</td>\n",
              "    </tr>\n",
              "    <tr>\n",
              "      <th>4476341</th>\n",
              "      <td>50678</td>\n",
              "      <td>5630</td>\n",
              "      <td>10</td>\n",
              "      <td>Higashi no Eden</td>\n",
              "      <td>Action, Comedy, Drama, Mystery, Romance, Sci-F...</td>\n",
              "      <td>TV</td>\n",
              "      <td>11</td>\n",
              "      <td>8.03</td>\n",
              "      <td>276593</td>\n",
              "    </tr>\n",
              "    <tr>\n",
              "      <th>77210</th>\n",
              "      <td>6265</td>\n",
              "      <td>20</td>\n",
              "      <td>8</td>\n",
              "      <td>Naruto</td>\n",
              "      <td>Action, Comedy, Martial Arts, Shounen, Super P...</td>\n",
              "      <td>TV</td>\n",
              "      <td>220</td>\n",
              "      <td>7.81</td>\n",
              "      <td>683297</td>\n",
              "    </tr>\n",
              "  </tbody>\n",
              "</table>\n",
              "</div>"
            ],
            "text/plain": [
              "         user_id  anime_id  rating  ... episodes average_rating members\n",
              "5589647    33460       238       9  ...       42           7.44   35258\n",
              "1898051    56212     17895       9  ...       24           7.92  273191\n",
              "1215622    11329      5680       7  ...       13           7.87  386048\n",
              "4476341    50678      5630      10  ...       11           8.03  276593\n",
              "77210       6265        20       8  ...      220           7.81  683297\n",
              "\n",
              "[5 rows x 9 columns]"
            ]
          },
          "metadata": {
            "tags": []
          },
          "execution_count": 205
        }
      ]
    },
    {
      "cell_type": "markdown",
      "metadata": {
        "id": "o5g8vkft-QzP",
        "colab_type": "text"
      },
      "source": [
        "### EDA - Visualizing Imports"
      ]
    },
    {
      "cell_type": "code",
      "metadata": {
        "id": "u4KaKOaQ-OUm",
        "colab_type": "code",
        "colab": {}
      },
      "source": [
        "import matplotlib.pyplot as plt\n",
        "import seaborn as sns\n",
        "sns.set_style('white')\n",
        "%matplotlib inline"
      ],
      "execution_count": 206,
      "outputs": []
    },
    {
      "cell_type": "markdown",
      "metadata": {
        "id": "0J9BOyyK-ce8",
        "colab_type": "text"
      },
      "source": [
        "Creating ratings dataframe with number of ratings"
      ]
    },
    {
      "cell_type": "code",
      "metadata": {
        "id": "3wfxiBlY-gNZ",
        "colab_type": "code",
        "colab": {
          "base_uri": "https://localhost:8080/",
          "height": 136
        },
        "outputId": "b29cb399-7a83-46fc-dd83-80e5f4dbfd9b"
      },
      "source": [
        "#getting the number of users that voted for each anime (ie the number of times each anime_id appeared in the dataframe)\n",
        "df_merged.groupby('name')['members'].count().sort_values(ascending=False).head()"
      ],
      "execution_count": 175,
      "outputs": [
        {
          "output_type": "execute_result",
          "data": {
            "text/plain": [
              "name\n",
              "Death Note                        1086\n",
              "Sword Art Online                   830\n",
              "Shingeki no Kyojin                 802\n",
              "Elfen Lied                         765\n",
              "Code Geass Hangyaku no Lelouch     745\n",
              "Name: members, dtype: int64"
            ]
          },
          "metadata": {
            "tags": []
          },
          "execution_count": 175
        }
      ]
    },
    {
      "cell_type": "markdown",
      "metadata": {
        "id": "PwLZhk16sdbT",
        "colab_type": "text"
      },
      "source": [
        "Creating a dataframe of anime name with the count of their ratings "
      ]
    },
    {
      "cell_type": "code",
      "metadata": {
        "id": "Nh3fCiAE-gE9",
        "colab_type": "code",
        "colab": {
          "base_uri": "https://localhost:8080/",
          "height": 235
        },
        "outputId": "fcf38674-10f8-4451-e5e2-b80b43475568"
      },
      "source": [
        "new_df = pd.DataFrame(df_merged.groupby('name')['members'].count())\n",
        "new_df.rename(columns={'members':'count of votes'}, inplace=True)\n",
        "new_df.head()"
      ],
      "execution_count": 207,
      "outputs": [
        {
          "output_type": "execute_result",
          "data": {
            "text/html": [
              "<div>\n",
              "<style scoped>\n",
              "    .dataframe tbody tr th:only-of-type {\n",
              "        vertical-align: middle;\n",
              "    }\n",
              "\n",
              "    .dataframe tbody tr th {\n",
              "        vertical-align: top;\n",
              "    }\n",
              "\n",
              "    .dataframe thead th {\n",
              "        text-align: right;\n",
              "    }\n",
              "</style>\n",
              "<table border=\"1\" class=\"dataframe\">\n",
              "  <thead>\n",
              "    <tr style=\"text-align: right;\">\n",
              "      <th></th>\n",
              "      <th>count of votes</th>\n",
              "    </tr>\n",
              "    <tr>\n",
              "      <th>name</th>\n",
              "      <th></th>\n",
              "    </tr>\n",
              "  </thead>\n",
              "  <tbody>\n",
              "    <tr>\n",
              "      <th></th>\n",
              "      <td>1</td>\n",
              "    </tr>\n",
              "    <tr>\n",
              "      <th>.hackG.U. Returner</th>\n",
              "      <td>19</td>\n",
              "    </tr>\n",
              "    <tr>\n",
              "      <th>.hackG.U. Trilogy</th>\n",
              "      <td>28</td>\n",
              "    </tr>\n",
              "    <tr>\n",
              "      <th>.hackG.U. Trilogy Parody Mode</th>\n",
              "      <td>3</td>\n",
              "    </tr>\n",
              "    <tr>\n",
              "      <th>.hackGift</th>\n",
              "      <td>28</td>\n",
              "    </tr>\n",
              "  </tbody>\n",
              "</table>\n",
              "</div>"
            ],
            "text/plain": [
              "                               count of votes\n",
              "name                                         \n",
              "                                            1\n",
              ".hackG.U. Returner                         19\n",
              ".hackG.U. Trilogy                          28\n",
              ".hackG.U. Trilogy Parody Mode               3\n",
              ".hackGift                                  28"
            ]
          },
          "metadata": {
            "tags": []
          },
          "execution_count": 207
        }
      ]
    },
    {
      "cell_type": "markdown",
      "metadata": {
        "id": "xRmI4BJmsvKH",
        "colab_type": "text"
      },
      "source": [
        "Merge the above dataframe to df_merged"
      ]
    },
    {
      "cell_type": "code",
      "metadata": {
        "id": "a0uqnFtN-gCC",
        "colab_type": "code",
        "colab": {}
      },
      "source": [
        "#we merge based on name cus they're both common in the 2 dataframes\n",
        "df_merged = pd.merge(new_df,df_merged,on='name')"
      ],
      "execution_count": 208,
      "outputs": []
    },
    {
      "cell_type": "code",
      "metadata": {
        "id": "-HLeOgts4qbO",
        "colab_type": "code",
        "colab": {
          "base_uri": "https://localhost:8080/",
          "height": 204
        },
        "outputId": "3a9722e6-2264-4f4f-a7b0-7111e64166d5"
      },
      "source": [
        "df_merged.head()"
      ],
      "execution_count": 209,
      "outputs": [
        {
          "output_type": "execute_result",
          "data": {
            "text/html": [
              "<div>\n",
              "<style scoped>\n",
              "    .dataframe tbody tr th:only-of-type {\n",
              "        vertical-align: middle;\n",
              "    }\n",
              "\n",
              "    .dataframe tbody tr th {\n",
              "        vertical-align: top;\n",
              "    }\n",
              "\n",
              "    .dataframe thead th {\n",
              "        text-align: right;\n",
              "    }\n",
              "</style>\n",
              "<table border=\"1\" class=\"dataframe\">\n",
              "  <thead>\n",
              "    <tr style=\"text-align: right;\">\n",
              "      <th></th>\n",
              "      <th>name</th>\n",
              "      <th>count of votes</th>\n",
              "      <th>user_id</th>\n",
              "      <th>anime_id</th>\n",
              "      <th>rating</th>\n",
              "      <th>genre</th>\n",
              "      <th>type</th>\n",
              "      <th>episodes</th>\n",
              "      <th>average_rating</th>\n",
              "      <th>members</th>\n",
              "    </tr>\n",
              "  </thead>\n",
              "  <tbody>\n",
              "    <tr>\n",
              "      <th>0</th>\n",
              "      <td></td>\n",
              "      <td>1</td>\n",
              "      <td>53492</td>\n",
              "      <td>31687</td>\n",
              "      <td>2</td>\n",
              "      <td>Dementia, Music</td>\n",
              "      <td>ONA</td>\n",
              "      <td>1</td>\n",
              "      <td>4.22</td>\n",
              "      <td>448</td>\n",
              "    </tr>\n",
              "    <tr>\n",
              "      <th>1</th>\n",
              "      <td>.hackG.U. Returner</td>\n",
              "      <td>19</td>\n",
              "      <td>29806</td>\n",
              "      <td>2928</td>\n",
              "      <td>5</td>\n",
              "      <td>Adventure, Drama, Fantasy, Game, Magic, Sci-Fi</td>\n",
              "      <td>OVA</td>\n",
              "      <td>1</td>\n",
              "      <td>6.91</td>\n",
              "      <td>15412</td>\n",
              "    </tr>\n",
              "    <tr>\n",
              "      <th>2</th>\n",
              "      <td>.hackG.U. Returner</td>\n",
              "      <td>19</td>\n",
              "      <td>19012</td>\n",
              "      <td>2928</td>\n",
              "      <td>10</td>\n",
              "      <td>Adventure, Drama, Fantasy, Game, Magic, Sci-Fi</td>\n",
              "      <td>OVA</td>\n",
              "      <td>1</td>\n",
              "      <td>6.91</td>\n",
              "      <td>15412</td>\n",
              "    </tr>\n",
              "    <tr>\n",
              "      <th>3</th>\n",
              "      <td>.hackG.U. Returner</td>\n",
              "      <td>19</td>\n",
              "      <td>27678</td>\n",
              "      <td>2928</td>\n",
              "      <td>7</td>\n",
              "      <td>Adventure, Drama, Fantasy, Game, Magic, Sci-Fi</td>\n",
              "      <td>OVA</td>\n",
              "      <td>1</td>\n",
              "      <td>6.91</td>\n",
              "      <td>15412</td>\n",
              "    </tr>\n",
              "    <tr>\n",
              "      <th>4</th>\n",
              "      <td>.hackG.U. Returner</td>\n",
              "      <td>19</td>\n",
              "      <td>41798</td>\n",
              "      <td>2928</td>\n",
              "      <td>7</td>\n",
              "      <td>Adventure, Drama, Fantasy, Game, Magic, Sci-Fi</td>\n",
              "      <td>OVA</td>\n",
              "      <td>1</td>\n",
              "      <td>6.91</td>\n",
              "      <td>15412</td>\n",
              "    </tr>\n",
              "  </tbody>\n",
              "</table>\n",
              "</div>"
            ],
            "text/plain": [
              "                 name  count of votes  ...  average_rating  members\n",
              "0                                   1  ...            4.22      448\n",
              "1  .hackG.U. Returner              19  ...            6.91    15412\n",
              "2  .hackG.U. Returner              19  ...            6.91    15412\n",
              "3  .hackG.U. Returner              19  ...            6.91    15412\n",
              "4  .hackG.U. Returner              19  ...            6.91    15412\n",
              "\n",
              "[5 rows x 10 columns]"
            ]
          },
          "metadata": {
            "tags": []
          },
          "execution_count": 209
        }
      ]
    },
    {
      "cell_type": "markdown",
      "metadata": {
        "id": "qejz1NW9-stF",
        "colab_type": "text"
      },
      "source": [
        "Plotting histogram wrt number of ratings"
      ]
    },
    {
      "cell_type": "code",
      "metadata": {
        "id": "hOyYu3MW-pVQ",
        "colab_type": "code",
        "colab": {
          "base_uri": "https://localhost:8080/",
          "height": 282
        },
        "outputId": "ab3cf975-9a6e-449f-dde5-f0ef1b0f1cc8"
      },
      "source": [
        "#x-axis is number of votes, y-axis is frquency\n",
        "plt.figure(figsize=(10,4))\n",
        "df_merged['count of votes'].hist(bins=70)"
      ],
      "execution_count": 210,
      "outputs": [
        {
          "output_type": "execute_result",
          "data": {
            "text/plain": [
              "<matplotlib.axes._subplots.AxesSubplot at 0x7fd881d104e0>"
            ]
          },
          "metadata": {
            "tags": []
          },
          "execution_count": 210
        },
        {
          "output_type": "display_data",
          "data": {
            "image/png": "[encoded data removed]",
            "text/plain": [
              "<Figure size 720x288 with 1 Axes>"
            ]
          },
          "metadata": {
            "tags": [],
            "needs_background": "light"
          }
        }
      ]
    },
    {
      "cell_type": "code",
      "metadata": {
        "id": "DB4WwxaQ-pPG",
        "colab_type": "code",
        "colab": {
          "base_uri": "https://localhost:8080/",
          "height": 282
        },
        "outputId": "0a5275a5-79ba-4c74-ddaf-df7d1bd167d4"
      },
      "source": [
        "#x-axis is average rating and y-axis is frequenct of the rating\n",
        "plt.figure(figsize=(10,4))\n",
        "df_merged['average_rating'].hist(bins=70)"
      ],
      "execution_count": 211,
      "outputs": [
        {
          "output_type": "execute_result",
          "data": {
            "text/plain": [
              "<matplotlib.axes._subplots.AxesSubplot at 0x7fd8823df5f8>"
            ]
          },
          "metadata": {
            "tags": []
          },
          "execution_count": 211
        },
        {
          "output_type": "display_data",
          "data": {
            "image/png": "[encoded data removed]",
            "text/plain": [
              "<Figure size 720x288 with 1 Axes>"
            ]
          },
          "metadata": {
            "tags": [],
            "needs_background": "light"
          }
        }
      ]
    },
    {
      "cell_type": "markdown",
      "metadata": {
        "id": "mdMXiTyF2bkQ",
        "colab_type": "text"
      },
      "source": [
        "Uing the Weighted Average Formula AND the members column based on popularity\n",
        "WR = (vR + mC/v+m) where:\n",
        "- v is the number of votes\n",
        "- m is minimum votes required to be listed\n",
        "- R is rating average of the anime\n",
        "- C is mean vote across whole report"
      ]
    },
    {
      "cell_type": "code",
      "metadata": {
        "id": "EU3aC8xm8hgO",
        "colab_type": "code",
        "colab": {
          "base_uri": "https://localhost:8080/",
          "height": 142
        },
        "outputId": "e84f0895-0a7b-47ab-8f68-e4741c518f08"
      },
      "source": [
        "#looking at the member table column before normalizing (we have a range of 0-1,000,000)\n",
        "df_merged.head(3)"
      ],
      "execution_count": 213,
      "outputs": [
        {
          "output_type": "execute_result",
          "data": {
            "text/html": [
              "<div>\n",
              "<style scoped>\n",
              "    .dataframe tbody tr th:only-of-type {\n",
              "        vertical-align: middle;\n",
              "    }\n",
              "\n",
              "    .dataframe tbody tr th {\n",
              "        vertical-align: top;\n",
              "    }\n",
              "\n",
              "    .dataframe thead th {\n",
              "        text-align: right;\n",
              "    }\n",
              "</style>\n",
              "<table border=\"1\" class=\"dataframe\">\n",
              "  <thead>\n",
              "    <tr style=\"text-align: right;\">\n",
              "      <th></th>\n",
              "      <th>name</th>\n",
              "      <th>count of votes</th>\n",
              "      <th>user_id</th>\n",
              "      <th>anime_id</th>\n",
              "      <th>rating</th>\n",
              "      <th>genre</th>\n",
              "      <th>type</th>\n",
              "      <th>episodes</th>\n",
              "      <th>average_rating</th>\n",
              "      <th>members</th>\n",
              "    </tr>\n",
              "  </thead>\n",
              "  <tbody>\n",
              "    <tr>\n",
              "      <th>0</th>\n",
              "      <td></td>\n",
              "      <td>1</td>\n",
              "      <td>53492</td>\n",
              "      <td>31687</td>\n",
              "      <td>2</td>\n",
              "      <td>Dementia, Music</td>\n",
              "      <td>ONA</td>\n",
              "      <td>1</td>\n",
              "      <td>4.22</td>\n",
              "      <td>448</td>\n",
              "    </tr>\n",
              "    <tr>\n",
              "      <th>1</th>\n",
              "      <td>.hackG.U. Returner</td>\n",
              "      <td>19</td>\n",
              "      <td>29806</td>\n",
              "      <td>2928</td>\n",
              "      <td>5</td>\n",
              "      <td>Adventure, Drama, Fantasy, Game, Magic, Sci-Fi</td>\n",
              "      <td>OVA</td>\n",
              "      <td>1</td>\n",
              "      <td>6.91</td>\n",
              "      <td>15412</td>\n",
              "    </tr>\n",
              "    <tr>\n",
              "      <th>2</th>\n",
              "      <td>.hackG.U. Returner</td>\n",
              "      <td>19</td>\n",
              "      <td>19012</td>\n",
              "      <td>2928</td>\n",
              "      <td>10</td>\n",
              "      <td>Adventure, Drama, Fantasy, Game, Magic, Sci-Fi</td>\n",
              "      <td>OVA</td>\n",
              "      <td>1</td>\n",
              "      <td>6.91</td>\n",
              "      <td>15412</td>\n",
              "    </tr>\n",
              "  </tbody>\n",
              "</table>\n",
              "</div>"
            ],
            "text/plain": [
              "                 name  count of votes  ...  average_rating  members\n",
              "0                                   1  ...            4.22      448\n",
              "1  .hackG.U. Returner              19  ...            6.91    15412\n",
              "2  .hackG.U. Returner              19  ...            6.91    15412\n",
              "\n",
              "[3 rows x 10 columns]"
            ]
          },
          "metadata": {
            "tags": []
          },
          "execution_count": 213
        }
      ]
    },
    {
      "cell_type": "code",
      "metadata": {
        "id": "KTHvbSCl89Pz",
        "colab_type": "code",
        "colab": {
          "base_uri": "https://localhost:8080/",
          "height": 34
        },
        "outputId": "68355e43-0f53-4e24-bd19-dc54ada83d65"
      },
      "source": [
        "df_merged.members.max()"
      ],
      "execution_count": 214,
      "outputs": [
        {
          "output_type": "execute_result",
          "data": {
            "text/plain": [
              "1013917"
            ]
          },
          "metadata": {
            "tags": []
          },
          "execution_count": 214
        }
      ]
    },
    {
      "cell_type": "code",
      "metadata": {
        "id": "EfzUMYCC669h",
        "colab_type": "code",
        "colab": {}
      },
      "source": [
        "#normalizing the members column to a scale of 0-10\n",
        "from sklearn import preprocessing\n",
        "\n",
        "x = df_merged['members'].values #returns a numpy array\n",
        "x = x.reshape(-1,1)\n",
        "min_max_scaler = preprocessing.MinMaxScaler(feature_range=(0,10))\n",
        "x_scaled = min_max_scaler.fit_transform(x)\n",
        "df_merged['members'] = pd.DataFrame(x_scaled)"
      ],
      "execution_count": 215,
      "outputs": []
    },
    {
      "cell_type": "code",
      "metadata": {
        "id": "4W2nAc5U78_-",
        "colab_type": "code",
        "colab": {
          "base_uri": "https://localhost:8080/",
          "height": 142
        },
        "outputId": "5024a43e-9ee7-434d-8fff-2d0ac84d4231"
      },
      "source": [
        "#after normalizing, we have a scale of 0-10\n",
        "df_merged.head(3)"
      ],
      "execution_count": 222,
      "outputs": [
        {
          "output_type": "execute_result",
          "data": {
            "text/html": [
              "<div>\n",
              "<style scoped>\n",
              "    .dataframe tbody tr th:only-of-type {\n",
              "        vertical-align: middle;\n",
              "    }\n",
              "\n",
              "    .dataframe tbody tr th {\n",
              "        vertical-align: top;\n",
              "    }\n",
              "\n",
              "    .dataframe thead th {\n",
              "        text-align: right;\n",
              "    }\n",
              "</style>\n",
              "<table border=\"1\" class=\"dataframe\">\n",
              "  <thead>\n",
              "    <tr style=\"text-align: right;\">\n",
              "      <th></th>\n",
              "      <th>name</th>\n",
              "      <th>count of votes</th>\n",
              "      <th>user_id</th>\n",
              "      <th>anime_id</th>\n",
              "      <th>rating</th>\n",
              "      <th>genre</th>\n",
              "      <th>type</th>\n",
              "      <th>episodes</th>\n",
              "      <th>average_rating</th>\n",
              "      <th>members</th>\n",
              "    </tr>\n",
              "  </thead>\n",
              "  <tbody>\n",
              "    <tr>\n",
              "      <th>0</th>\n",
              "      <td></td>\n",
              "      <td>1</td>\n",
              "      <td>53492</td>\n",
              "      <td>31687</td>\n",
              "      <td>2</td>\n",
              "      <td>Dementia, Music</td>\n",
              "      <td>ONA</td>\n",
              "      <td>1</td>\n",
              "      <td>4.22</td>\n",
              "      <td>0.004073</td>\n",
              "    </tr>\n",
              "    <tr>\n",
              "      <th>1</th>\n",
              "      <td>.hackG.U. Returner</td>\n",
              "      <td>19</td>\n",
              "      <td>29806</td>\n",
              "      <td>2928</td>\n",
              "      <td>5</td>\n",
              "      <td>Adventure, Drama, Fantasy, Game, Magic, Sci-Fi</td>\n",
              "      <td>OVA</td>\n",
              "      <td>1</td>\n",
              "      <td>6.91</td>\n",
              "      <td>0.151665</td>\n",
              "    </tr>\n",
              "    <tr>\n",
              "      <th>2</th>\n",
              "      <td>.hackG.U. Returner</td>\n",
              "      <td>19</td>\n",
              "      <td>19012</td>\n",
              "      <td>2928</td>\n",
              "      <td>10</td>\n",
              "      <td>Adventure, Drama, Fantasy, Game, Magic, Sci-Fi</td>\n",
              "      <td>OVA</td>\n",
              "      <td>1</td>\n",
              "      <td>6.91</td>\n",
              "      <td>0.151665</td>\n",
              "    </tr>\n",
              "  </tbody>\n",
              "</table>\n",
              "</div>"
            ],
            "text/plain": [
              "                 name  count of votes  ...  average_rating   members\n",
              "0                                   1  ...            4.22  0.004073\n",
              "1  .hackG.U. Returner              19  ...            6.91  0.151665\n",
              "2  .hackG.U. Returner              19  ...            6.91  0.151665\n",
              "\n",
              "[3 rows x 10 columns]"
            ]
          },
          "metadata": {
            "tags": []
          },
          "execution_count": 222
        }
      ]
    },
    {
      "cell_type": "code",
      "metadata": {
        "id": "Qwk6xGzHNv1e",
        "colab_type": "code",
        "colab": {
          "base_uri": "https://localhost:8080/",
          "height": 34
        },
        "outputId": "b8a38832-bca8-43cc-a1fa-7d4192bd7fe3"
      },
      "source": [
        "# Calculate the mean vote of average rating column\n",
        "C = df_merged['average_rating'].mean()\n",
        "C"
      ],
      "execution_count": 217,
      "outputs": [
        {
          "output_type": "execute_result",
          "data": {
            "text/plain": [
              "7.675886900001207"
            ]
          },
          "metadata": {
            "tags": []
          },
          "execution_count": 217
        }
      ]
    },
    {
      "cell_type": "markdown",
      "metadata": {
        "id": "I_lwSZ0J53bw",
        "colab_type": "text"
      },
      "source": [
        "Calculating the number of votes, m, received by a movie in the 90th percentile."
      ]
    },
    {
      "cell_type": "code",
      "metadata": {
        "id": "7ilKahiW5wdI",
        "colab_type": "code",
        "colab": {
          "base_uri": "https://localhost:8080/",
          "height": 34
        },
        "outputId": "f36a54b1-77c4-4c1e-f46d-6194ec29b6d0"
      },
      "source": [
        "m = df_merged['count of votes'].quantile(0.90)\n",
        "print(m)"
      ],
      "execution_count": 218,
      "outputs": [
        {
          "output_type": "stream",
          "text": [
            "427.0\n"
          ],
          "name": "stdout"
        }
      ]
    },
    {
      "cell_type": "markdown",
      "metadata": {
        "id": "nX1J63nD6J43",
        "colab_type": "text"
      },
      "source": [
        "using m to filter out anime qualified for the model. ie anime with rating count >= m"
      ]
    },
    {
      "cell_type": "code",
      "metadata": {
        "id": "7njl4QpQ6DTN",
        "colab_type": "code",
        "colab": {
          "base_uri": "https://localhost:8080/",
          "height": 34
        },
        "outputId": "db235e49-cd9c-4f7a-b70f-98566ad169e7"
      },
      "source": [
        "q_anime = df_merged.copy().loc[df_merged['count of votes'] >= m]\n",
        "q_anime.shape"
      ],
      "execution_count": 259,
      "outputs": [
        {
          "output_type": "execute_result",
          "data": {
            "text/plain": [
              "(20341, 10)"
            ]
          },
          "metadata": {
            "tags": []
          },
          "execution_count": 259
        }
      ]
    },
    {
      "cell_type": "code",
      "metadata": {
        "id": "pQP7bZIF6iTZ",
        "colab_type": "code",
        "colab": {
          "base_uri": "https://localhost:8080/",
          "height": 34
        },
        "outputId": "7f7d9b1c-512c-4211-8bd2-a26d66a07df3"
      },
      "source": [
        "df_merged.shape"
      ],
      "execution_count": 260,
      "outputs": [
        {
          "output_type": "execute_result",
          "data": {
            "text/plain": [
              "(200000, 10)"
            ]
          },
          "metadata": {
            "tags": []
          },
          "execution_count": 260
        }
      ]
    },
    {
      "cell_type": "code",
      "metadata": {
        "id": "dJayNrpi6mHi",
        "colab_type": "code",
        "colab": {}
      },
      "source": [
        "# Function that computes the weighted rating of each movie\n",
        "def weighted_rating(x, m=m, C=C):\n",
        "    v = x['count of votes']\n",
        "    R = x['average_rating']\n",
        "    P = x['members']\n",
        "    # Calculation based on the IMDB formula\n",
        "    return (0.5*(v/(v+m) * R) + (m/(m+v) * C)) + (0.5*(P))"
      ],
      "execution_count": 261,
      "outputs": []
    },
    {
      "cell_type": "code",
      "metadata": {
        "id": "G12AOluD9YiI",
        "colab_type": "code",
        "colab": {}
      },
      "source": [
        "#Define a feature 'score' and calculate its value with `weighted_rating()`\n",
        "q_anime['score'] = q_anime.apply(weighted_rating, axis=1) "
      ],
      "execution_count": 262,
      "outputs": []
    },
    {
      "cell_type": "code",
      "metadata": {
        "id": "IarUcARX9hnr",
        "colab_type": "code",
        "colab": {
          "base_uri": "https://localhost:8080/",
          "height": 669
        },
        "outputId": "f8d53c98-bdd1-44e6-cace-81f922c3cbaf"
      },
      "source": [
        "#Sort anime based on score calculated above\n",
        "\n",
        "q_anime = q_anime.sort_values('score', ascending=False)\n",
        "q_anime = q_anime.drop_duplicates(subset=['name'])\n",
        "\n",
        "#Print the top 15 movies\n",
        "q_anime[['name', 'count of votes', 'average_rating', 'score']].head(20)"
      ],
      "execution_count": 269,
      "outputs": [
        {
          "output_type": "execute_result",
          "data": {
            "text/html": [
              "<div>\n",
              "<style scoped>\n",
              "    .dataframe tbody tr th:only-of-type {\n",
              "        vertical-align: middle;\n",
              "    }\n",
              "\n",
              "    .dataframe tbody tr th {\n",
              "        vertical-align: top;\n",
              "    }\n",
              "\n",
              "    .dataframe thead th {\n",
              "        text-align: right;\n",
              "    }\n",
              "</style>\n",
              "<table border=\"1\" class=\"dataframe\">\n",
              "  <thead>\n",
              "    <tr style=\"text-align: right;\">\n",
              "      <th></th>\n",
              "      <th>name</th>\n",
              "      <th>count of votes</th>\n",
              "      <th>average_rating</th>\n",
              "      <th>score</th>\n",
              "    </tr>\n",
              "  </thead>\n",
              "  <tbody>\n",
              "    <tr>\n",
              "      <th>41234</th>\n",
              "      <td>Death Note</td>\n",
              "      <td>1086</td>\n",
              "      <td>8.71</td>\n",
              "      <td>10.292223</td>\n",
              "    </tr>\n",
              "    <tr>\n",
              "      <th>164295</th>\n",
              "      <td>Shingeki no Kyojin</td>\n",
              "      <td>802</td>\n",
              "      <td>8.54</td>\n",
              "      <td>9.872948</td>\n",
              "    </tr>\n",
              "    <tr>\n",
              "      <th>60562</th>\n",
              "      <td>Fullmetal Alchemist Brotherhood</td>\n",
              "      <td>659</td>\n",
              "      <td>9.26</td>\n",
              "      <td>9.741418</td>\n",
              "    </tr>\n",
              "    <tr>\n",
              "      <th>175169</th>\n",
              "      <td>Sword Art Online</td>\n",
              "      <td>830</td>\n",
              "      <td>7.83</td>\n",
              "      <td>9.596751</td>\n",
              "    </tr>\n",
              "    <tr>\n",
              "      <th>171062</th>\n",
              "      <td>Steins;Gate</td>\n",
              "      <td>548</td>\n",
              "      <td>9.17</td>\n",
              "      <td>9.260225</td>\n",
              "    </tr>\n",
              "    <tr>\n",
              "      <th>33322</th>\n",
              "      <td>Code Geass Hangyaku no Lelouch</td>\n",
              "      <td>745</td>\n",
              "      <td>8.83</td>\n",
              "      <td>9.129677</td>\n",
              "    </tr>\n",
              "    <tr>\n",
              "      <th>6623</th>\n",
              "      <td>Angel Beats</td>\n",
              "      <td>725</td>\n",
              "      <td>8.39</td>\n",
              "      <td>9.024892</td>\n",
              "    </tr>\n",
              "    <tr>\n",
              "      <th>119460</th>\n",
              "      <td>Mirai Nikki TV</td>\n",
              "      <td>570</td>\n",
              "      <td>8.07</td>\n",
              "      <td>8.835123</td>\n",
              "    </tr>\n",
              "    <tr>\n",
              "      <th>183213</th>\n",
              "      <td>Tokyo Ghoul</td>\n",
              "      <td>474</td>\n",
              "      <td>8.07</td>\n",
              "      <td>8.808277</td>\n",
              "    </tr>\n",
              "    <tr>\n",
              "      <th>131869</th>\n",
              "      <td>No Game No Life</td>\n",
              "      <td>508</td>\n",
              "      <td>8.47</td>\n",
              "      <td>8.776449</td>\n",
              "    </tr>\n",
              "    <tr>\n",
              "      <th>125855</th>\n",
              "      <td>Naruto</td>\n",
              "      <td>724</td>\n",
              "      <td>7.81</td>\n",
              "      <td>8.673464</td>\n",
              "    </tr>\n",
              "    <tr>\n",
              "      <th>178461</th>\n",
              "      <td>Tengen Toppa Gurren Lagann</td>\n",
              "      <td>519</td>\n",
              "      <td>8.78</td>\n",
              "      <td>8.649262</td>\n",
              "    </tr>\n",
              "    <tr>\n",
              "      <th>185548</th>\n",
              "      <td>Toradora</td>\n",
              "      <td>730</td>\n",
              "      <td>8.45</td>\n",
              "      <td>8.624099</td>\n",
              "    </tr>\n",
              "    <tr>\n",
              "      <th>34137</th>\n",
              "      <td>Code Geass Hangyaku no Lelouch R2</td>\n",
              "      <td>652</td>\n",
              "      <td>8.98</td>\n",
              "      <td>8.575820</td>\n",
              "    </tr>\n",
              "    <tr>\n",
              "      <th>169682</th>\n",
              "      <td>Soul Eater</td>\n",
              "      <td>530</td>\n",
              "      <td>8.08</td>\n",
              "      <td>8.523310</td>\n",
              "    </tr>\n",
              "    <tr>\n",
              "      <th>59898</th>\n",
              "      <td>Fullmetal Alchemist</td>\n",
              "      <td>664</td>\n",
              "      <td>8.33</td>\n",
              "      <td>8.499750</td>\n",
              "    </tr>\n",
              "    <tr>\n",
              "      <th>49968</th>\n",
              "      <td>Durarara</td>\n",
              "      <td>530</td>\n",
              "      <td>8.38</td>\n",
              "      <td>8.489243</td>\n",
              "    </tr>\n",
              "    <tr>\n",
              "      <th>9653</th>\n",
              "      <td>Ao no Exorcist</td>\n",
              "      <td>552</td>\n",
              "      <td>7.92</td>\n",
              "      <td>8.459693</td>\n",
              "    </tr>\n",
              "    <tr>\n",
              "      <th>31114</th>\n",
              "      <td>Clannad</td>\n",
              "      <td>580</td>\n",
              "      <td>8.30</td>\n",
              "      <td>8.439570</td>\n",
              "    </tr>\n",
              "    <tr>\n",
              "      <th>51217</th>\n",
              "      <td>Elfen Lied</td>\n",
              "      <td>765</td>\n",
              "      <td>7.85</td>\n",
              "      <td>8.343345</td>\n",
              "    </tr>\n",
              "  </tbody>\n",
              "</table>\n",
              "</div>"
            ],
            "text/plain": [
              "                                     name  ...      score\n",
              "41234                          Death Note  ...  10.292223\n",
              "164295                 Shingeki no Kyojin  ...   9.872948\n",
              "60562     Fullmetal Alchemist Brotherhood  ...   9.741418\n",
              "175169                   Sword Art Online  ...   9.596751\n",
              "171062                        Steins;Gate  ...   9.260225\n",
              "33322      Code Geass Hangyaku no Lelouch  ...   9.129677\n",
              "6623                          Angel Beats  ...   9.024892\n",
              "119460                     Mirai Nikki TV  ...   8.835123\n",
              "183213                        Tokyo Ghoul  ...   8.808277\n",
              "131869                    No Game No Life  ...   8.776449\n",
              "125855                             Naruto  ...   8.673464\n",
              "178461         Tengen Toppa Gurren Lagann  ...   8.649262\n",
              "185548                           Toradora  ...   8.624099\n",
              "34137   Code Geass Hangyaku no Lelouch R2  ...   8.575820\n",
              "169682                         Soul Eater  ...   8.523310\n",
              "59898                 Fullmetal Alchemist  ...   8.499750\n",
              "49968                            Durarara  ...   8.489243\n",
              "9653                       Ao no Exorcist  ...   8.459693\n",
              "31114                             Clannad  ...   8.439570\n",
              "51217                          Elfen Lied  ...   8.343345\n",
              "\n",
              "[20 rows x 4 columns]"
            ]
          },
          "metadata": {
            "tags": []
          },
          "execution_count": 269
        }
      ]
    },
    {
      "cell_type": "code",
      "metadata": {
        "id": "VvA5hokkfaWc",
        "colab_type": "code",
        "colab": {}
      },
      "source": [
        ""
      ],
      "execution_count": null,
      "outputs": []
    }
  ]
}