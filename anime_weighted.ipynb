{
  "nbformat": 4,
  "nbformat_minor": 0,
  "metadata": {
    "colab": {
      "name": "anime_correlation.ipynb",
      "provenance": []
    },
    "kernelspec": {
      "name": "python3",
      "display_name": "Python 3"
    }
  },
  "cells": [
    {
      "cell_type": "markdown",
      "metadata": {
        "id": "J3Wc0KJxaTMs",
        "colab_type": "text"
      },
      "source": [
        "### Simple Reccommedations"
      ]
    },
    {
      "cell_type": "markdown",
      "metadata": {
        "id": "XEQFDw08fpzQ",
        "colab_type": "text"
      },
      "source": [
        "Importing necessary libraries"
      ]
    },
    {
      "cell_type": "code",
      "metadata": {
        "id": "_xGMvvA49FN0",
        "colab_type": "code",
        "colab": {}
      },
      "source": [
        "import pandas as pd\n",
        "import numpy as np"
      ],
      "execution_count": 77,
      "outputs": []
    },
    {
      "cell_type": "code",
      "metadata": {
        "id": "WCtYTi_k9vpB",
        "colab_type": "code",
        "colab": {
          "base_uri": "https://localhost:8080/",
          "height": 204
        },
        "outputId": "8a9a30b1-e249-403e-e321-b0a50aa2cf39"
      },
      "source": [
        "anime = pd.read_csv('/content/drive/My Drive/anime data/anime.csv')\n",
        "anime.head()"
      ],
      "execution_count": 78,
      "outputs": [
        {
          "output_type": "execute_result",
          "data": {
            "text/html": [
              "<div>\n",
              "<style scoped>\n",
              "    .dataframe tbody tr th:only-of-type {\n",
              "        vertical-align: middle;\n",
              "    }\n",
              "\n",
              "    .dataframe tbody tr th {\n",
              "        vertical-align: top;\n",
              "    }\n",
              "\n",
              "    .dataframe thead th {\n",
              "        text-align: right;\n",
              "    }\n",
              "</style>\n",
              "<table border=\"1\" class=\"dataframe\">\n",
              "  <thead>\n",
              "    <tr style=\"text-align: right;\">\n",
              "      <th></th>\n",
              "      <th>anime_id</th>\n",
              "      <th>name</th>\n",
              "      <th>genre</th>\n",
              "      <th>type</th>\n",
              "      <th>episodes</th>\n",
              "      <th>rating</th>\n",
              "      <th>members</th>\n",
              "    </tr>\n",
              "  </thead>\n",
              "  <tbody>\n",
              "    <tr>\n",
              "      <th>0</th>\n",
              "      <td>32281</td>\n",
              "      <td>Kimi no Na wa.</td>\n",
              "      <td>Drama, Romance, School, Supernatural</td>\n",
              "      <td>Movie</td>\n",
              "      <td>1</td>\n",
              "      <td>9.37</td>\n",
              "      <td>200630</td>\n",
              "    </tr>\n",
              "    <tr>\n",
              "      <th>1</th>\n",
              "      <td>5114</td>\n",
              "      <td>Fullmetal Alchemist: Brotherhood</td>\n",
              "      <td>Action, Adventure, Drama, Fantasy, Magic, Mili...</td>\n",
              "      <td>TV</td>\n",
              "      <td>64</td>\n",
              "      <td>9.26</td>\n",
              "      <td>793665</td>\n",
              "    </tr>\n",
              "    <tr>\n",
              "      <th>2</th>\n",
              "      <td>28977</td>\n",
              "      <td>Gintama°</td>\n",
              "      <td>Action, Comedy, Historical, Parody, Samurai, S...</td>\n",
              "      <td>TV</td>\n",
              "      <td>51</td>\n",
              "      <td>9.25</td>\n",
              "      <td>114262</td>\n",
              "    </tr>\n",
              "    <tr>\n",
              "      <th>3</th>\n",
              "      <td>9253</td>\n",
              "      <td>Steins;Gate</td>\n",
              "      <td>Sci-Fi, Thriller</td>\n",
              "      <td>TV</td>\n",
              "      <td>24</td>\n",
              "      <td>9.17</td>\n",
              "      <td>673572</td>\n",
              "    </tr>\n",
              "    <tr>\n",
              "      <th>4</th>\n",
              "      <td>9969</td>\n",
              "      <td>Gintama&amp;#039;</td>\n",
              "      <td>Action, Comedy, Historical, Parody, Samurai, S...</td>\n",
              "      <td>TV</td>\n",
              "      <td>51</td>\n",
              "      <td>9.16</td>\n",
              "      <td>151266</td>\n",
              "    </tr>\n",
              "  </tbody>\n",
              "</table>\n",
              "</div>"
            ],
            "text/plain": [
              "   anime_id                              name  ... rating members\n",
              "0     32281                    Kimi no Na wa.  ...   9.37  200630\n",
              "1      5114  Fullmetal Alchemist: Brotherhood  ...   9.26  793665\n",
              "2     28977                          Gintama°  ...   9.25  114262\n",
              "3      9253                       Steins;Gate  ...   9.17  673572\n",
              "4      9969                     Gintama&#039;  ...   9.16  151266\n",
              "\n",
              "[5 rows x 7 columns]"
            ]
          },
          "metadata": {
            "tags": []
          },
          "execution_count": 78
        }
      ]
    },
    {
      "cell_type": "markdown",
      "metadata": {
        "id": "NbjbUQi4go7x",
        "colab_type": "text"
      },
      "source": [
        "Cleaning up the name column from non-alphanumeric characters\n"
      ]
    },
    {
      "cell_type": "code",
      "metadata": {
        "id": "AbSiLXeMjBUT",
        "colab_type": "code",
        "colab": {
          "base_uri": "https://localhost:8080/",
          "height": 153
        },
        "outputId": "bb9bb00b-cb76-4c4b-dd3c-6c16513f3232"
      },
      "source": [
        "anime.dtypes"
      ],
      "execution_count": 79,
      "outputs": [
        {
          "output_type": "execute_result",
          "data": {
            "text/plain": [
              "anime_id      int64\n",
              "name         object\n",
              "genre        object\n",
              "type         object\n",
              "episodes     object\n",
              "rating      float64\n",
              "members       int64\n",
              "dtype: object"
            ]
          },
          "metadata": {
            "tags": []
          },
          "execution_count": 79
        }
      ]
    },
    {
      "cell_type": "code",
      "metadata": {
        "id": "dTQ7QlJpjHVg",
        "colab_type": "code",
        "colab": {}
      },
      "source": [
        "#converting the name column into string datatype\n",
        "anime['name'] = anime['name'].astype('str')"
      ],
      "execution_count": 80,
      "outputs": []
    },
    {
      "cell_type": "code",
      "metadata": {
        "id": "c1NOSjNEgn0s",
        "colab_type": "code",
        "colab": {}
      },
      "source": [
        "#creating the function to remove the characters\n",
        "import re\n",
        "def clean_up(s):\n",
        "  new_s = re.sub(r\"[^\\sa-zA-Z0-9\\.\\,\\;]\",\"\",str(s))\n",
        "  return new_s\n"
      ],
      "execution_count": 81,
      "outputs": []
    },
    {
      "cell_type": "code",
      "metadata": {
        "id": "bFAqNu_0i3qu",
        "colab_type": "code",
        "colab": {}
      },
      "source": [
        "anime['name'] = anime['name'].apply(clean_up)"
      ],
      "execution_count": 82,
      "outputs": []
    },
    {
      "cell_type": "code",
      "metadata": {
        "id": "DjVjzZyMkR1O",
        "colab_type": "code",
        "colab": {
          "base_uri": "https://localhost:8080/",
          "height": 204
        },
        "outputId": "0924ad2a-5085-47d7-ce93-7cd570a9509a"
      },
      "source": [
        "#after clean-up\n",
        "anime.head()"
      ],
      "execution_count": 83,
      "outputs": [
        {
          "output_type": "execute_result",
          "data": {
            "text/html": [
              "<div>\n",
              "<style scoped>\n",
              "    .dataframe tbody tr th:only-of-type {\n",
              "        vertical-align: middle;\n",
              "    }\n",
              "\n",
              "    .dataframe tbody tr th {\n",
              "        vertical-align: top;\n",
              "    }\n",
              "\n",
              "    .dataframe thead th {\n",
              "        text-align: right;\n",
              "    }\n",
              "</style>\n",
              "<table border=\"1\" class=\"dataframe\">\n",
              "  <thead>\n",
              "    <tr style=\"text-align: right;\">\n",
              "      <th></th>\n",
              "      <th>anime_id</th>\n",
              "      <th>name</th>\n",
              "      <th>genre</th>\n",
              "      <th>type</th>\n",
              "      <th>episodes</th>\n",
              "      <th>rating</th>\n",
              "      <th>members</th>\n",
              "    </tr>\n",
              "  </thead>\n",
              "  <tbody>\n",
              "    <tr>\n",
              "      <th>0</th>\n",
              "      <td>32281</td>\n",
              "      <td>Kimi no Na wa.</td>\n",
              "      <td>Drama, Romance, School, Supernatural</td>\n",
              "      <td>Movie</td>\n",
              "      <td>1</td>\n",
              "      <td>9.37</td>\n",
              "      <td>200630</td>\n",
              "    </tr>\n",
              "    <tr>\n",
              "      <th>1</th>\n",
              "      <td>5114</td>\n",
              "      <td>Fullmetal Alchemist Brotherhood</td>\n",
              "      <td>Action, Adventure, Drama, Fantasy, Magic, Mili...</td>\n",
              "      <td>TV</td>\n",
              "      <td>64</td>\n",
              "      <td>9.26</td>\n",
              "      <td>793665</td>\n",
              "    </tr>\n",
              "    <tr>\n",
              "      <th>2</th>\n",
              "      <td>28977</td>\n",
              "      <td>Gintama</td>\n",
              "      <td>Action, Comedy, Historical, Parody, Samurai, S...</td>\n",
              "      <td>TV</td>\n",
              "      <td>51</td>\n",
              "      <td>9.25</td>\n",
              "      <td>114262</td>\n",
              "    </tr>\n",
              "    <tr>\n",
              "      <th>3</th>\n",
              "      <td>9253</td>\n",
              "      <td>Steins;Gate</td>\n",
              "      <td>Sci-Fi, Thriller</td>\n",
              "      <td>TV</td>\n",
              "      <td>24</td>\n",
              "      <td>9.17</td>\n",
              "      <td>673572</td>\n",
              "    </tr>\n",
              "    <tr>\n",
              "      <th>4</th>\n",
              "      <td>9969</td>\n",
              "      <td>Gintama039;</td>\n",
              "      <td>Action, Comedy, Historical, Parody, Samurai, S...</td>\n",
              "      <td>TV</td>\n",
              "      <td>51</td>\n",
              "      <td>9.16</td>\n",
              "      <td>151266</td>\n",
              "    </tr>\n",
              "  </tbody>\n",
              "</table>\n",
              "</div>"
            ],
            "text/plain": [
              "   anime_id                             name  ... rating members\n",
              "0     32281                   Kimi no Na wa.  ...   9.37  200630\n",
              "1      5114  Fullmetal Alchemist Brotherhood  ...   9.26  793665\n",
              "2     28977                          Gintama  ...   9.25  114262\n",
              "3      9253                      Steins;Gate  ...   9.17  673572\n",
              "4      9969                      Gintama039;  ...   9.16  151266\n",
              "\n",
              "[5 rows x 7 columns]"
            ]
          },
          "metadata": {
            "tags": []
          },
          "execution_count": 83
        }
      ]
    },
    {
      "cell_type": "code",
      "metadata": {
        "id": "vpdhj-ky9vmV",
        "colab_type": "code",
        "colab": {
          "base_uri": "https://localhost:8080/",
          "height": 204
        },
        "outputId": "5c6940d9-01b8-4188-d04c-6d8e9c59efc4"
      },
      "source": [
        "ratings = pd.read_csv('/content/drive/My Drive/anime data/rating.csv')\n",
        "ratings.head()"
      ],
      "execution_count": 84,
      "outputs": [
        {
          "output_type": "execute_result",
          "data": {
            "text/html": [
              "<div>\n",
              "<style scoped>\n",
              "    .dataframe tbody tr th:only-of-type {\n",
              "        vertical-align: middle;\n",
              "    }\n",
              "\n",
              "    .dataframe tbody tr th {\n",
              "        vertical-align: top;\n",
              "    }\n",
              "\n",
              "    .dataframe thead th {\n",
              "        text-align: right;\n",
              "    }\n",
              "</style>\n",
              "<table border=\"1\" class=\"dataframe\">\n",
              "  <thead>\n",
              "    <tr style=\"text-align: right;\">\n",
              "      <th></th>\n",
              "      <th>user_id</th>\n",
              "      <th>anime_id</th>\n",
              "      <th>rating</th>\n",
              "    </tr>\n",
              "  </thead>\n",
              "  <tbody>\n",
              "    <tr>\n",
              "      <th>0</th>\n",
              "      <td>1</td>\n",
              "      <td>20</td>\n",
              "      <td>-1</td>\n",
              "    </tr>\n",
              "    <tr>\n",
              "      <th>1</th>\n",
              "      <td>1</td>\n",
              "      <td>24</td>\n",
              "      <td>-1</td>\n",
              "    </tr>\n",
              "    <tr>\n",
              "      <th>2</th>\n",
              "      <td>1</td>\n",
              "      <td>79</td>\n",
              "      <td>-1</td>\n",
              "    </tr>\n",
              "    <tr>\n",
              "      <th>3</th>\n",
              "      <td>1</td>\n",
              "      <td>226</td>\n",
              "      <td>-1</td>\n",
              "    </tr>\n",
              "    <tr>\n",
              "      <th>4</th>\n",
              "      <td>1</td>\n",
              "      <td>241</td>\n",
              "      <td>-1</td>\n",
              "    </tr>\n",
              "  </tbody>\n",
              "</table>\n",
              "</div>"
            ],
            "text/plain": [
              "   user_id  anime_id  rating\n",
              "0        1        20      -1\n",
              "1        1        24      -1\n",
              "2        1        79      -1\n",
              "3        1       226      -1\n",
              "4        1       241      -1"
            ]
          },
          "metadata": {
            "tags": []
          },
          "execution_count": 84
        }
      ]
    },
    {
      "cell_type": "code",
      "metadata": {
        "id": "tJNAVSDO9vi9",
        "colab_type": "code",
        "colab": {
          "base_uri": "https://localhost:8080/",
          "height": 34
        },
        "outputId": "3bee1812-46ab-45d5-c082-901a888ae950"
      },
      "source": [
        "anime.shape"
      ],
      "execution_count": 85,
      "outputs": [
        {
          "output_type": "execute_result",
          "data": {
            "text/plain": [
              "(12294, 7)"
            ]
          },
          "metadata": {
            "tags": []
          },
          "execution_count": 85
        }
      ]
    },
    {
      "cell_type": "code",
      "metadata": {
        "id": "0z9Dp-Fw9vgS",
        "colab_type": "code",
        "colab": {
          "base_uri": "https://localhost:8080/",
          "height": 34
        },
        "outputId": "c539c7ee-a28f-4e59-9a3a-9badc26cb376"
      },
      "source": [
        "ratings.shape"
      ],
      "execution_count": 86,
      "outputs": [
        {
          "output_type": "execute_result",
          "data": {
            "text/plain": [
              "(7813737, 3)"
            ]
          },
          "metadata": {
            "tags": []
          },
          "execution_count": 86
        }
      ]
    },
    {
      "cell_type": "code",
      "metadata": {
        "id": "FY25J8II9vdv",
        "colab_type": "code",
        "colab": {}
      },
      "source": [
        "#renaming rating in anime df rating to average rating\n",
        "anime.rename(columns={'rating':'average_rating'}, inplace=True)"
      ],
      "execution_count": 87,
      "outputs": []
    },
    {
      "cell_type": "code",
      "metadata": {
        "id": "GaB5eEVZ9va2",
        "colab_type": "code",
        "colab": {
          "base_uri": "https://localhost:8080/",
          "height": 255
        },
        "outputId": "d5f568f8-04b2-4f18-ff9b-9c0c4be81931"
      },
      "source": [
        "anime.head()"
      ],
      "execution_count": 88,
      "outputs": [
        {
          "output_type": "execute_result",
          "data": {
            "text/html": [
              "<div>\n",
              "<style scoped>\n",
              "    .dataframe tbody tr th:only-of-type {\n",
              "        vertical-align: middle;\n",
              "    }\n",
              "\n",
              "    .dataframe tbody tr th {\n",
              "        vertical-align: top;\n",
              "    }\n",
              "\n",
              "    .dataframe thead th {\n",
              "        text-align: right;\n",
              "    }\n",
              "</style>\n",
              "<table border=\"1\" class=\"dataframe\">\n",
              "  <thead>\n",
              "    <tr style=\"text-align: right;\">\n",
              "      <th></th>\n",
              "      <th>anime_id</th>\n",
              "      <th>name</th>\n",
              "      <th>genre</th>\n",
              "      <th>type</th>\n",
              "      <th>episodes</th>\n",
              "      <th>average_rating</th>\n",
              "      <th>members</th>\n",
              "    </tr>\n",
              "  </thead>\n",
              "  <tbody>\n",
              "    <tr>\n",
              "      <th>0</th>\n",
              "      <td>32281</td>\n",
              "      <td>Kimi no Na wa.</td>\n",
              "      <td>Drama, Romance, School, Supernatural</td>\n",
              "      <td>Movie</td>\n",
              "      <td>1</td>\n",
              "      <td>9.37</td>\n",
              "      <td>200630</td>\n",
              "    </tr>\n",
              "    <tr>\n",
              "      <th>1</th>\n",
              "      <td>5114</td>\n",
              "      <td>Fullmetal Alchemist Brotherhood</td>\n",
              "      <td>Action, Adventure, Drama, Fantasy, Magic, Mili...</td>\n",
              "      <td>TV</td>\n",
              "      <td>64</td>\n",
              "      <td>9.26</td>\n",
              "      <td>793665</td>\n",
              "    </tr>\n",
              "    <tr>\n",
              "      <th>2</th>\n",
              "      <td>28977</td>\n",
              "      <td>Gintama</td>\n",
              "      <td>Action, Comedy, Historical, Parody, Samurai, S...</td>\n",
              "      <td>TV</td>\n",
              "      <td>51</td>\n",
              "      <td>9.25</td>\n",
              "      <td>114262</td>\n",
              "    </tr>\n",
              "    <tr>\n",
              "      <th>3</th>\n",
              "      <td>9253</td>\n",
              "      <td>Steins;Gate</td>\n",
              "      <td>Sci-Fi, Thriller</td>\n",
              "      <td>TV</td>\n",
              "      <td>24</td>\n",
              "      <td>9.17</td>\n",
              "      <td>673572</td>\n",
              "    </tr>\n",
              "    <tr>\n",
              "      <th>4</th>\n",
              "      <td>9969</td>\n",
              "      <td>Gintama039;</td>\n",
              "      <td>Action, Comedy, Historical, Parody, Samurai, S...</td>\n",
              "      <td>TV</td>\n",
              "      <td>51</td>\n",
              "      <td>9.16</td>\n",
              "      <td>151266</td>\n",
              "    </tr>\n",
              "  </tbody>\n",
              "</table>\n",
              "</div>"
            ],
            "text/plain": [
              "   anime_id                             name  ... average_rating members\n",
              "0     32281                   Kimi no Na wa.  ...           9.37  200630\n",
              "1      5114  Fullmetal Alchemist Brotherhood  ...           9.26  793665\n",
              "2     28977                          Gintama  ...           9.25  114262\n",
              "3      9253                      Steins;Gate  ...           9.17  673572\n",
              "4      9969                      Gintama039;  ...           9.16  151266\n",
              "\n",
              "[5 rows x 7 columns]"
            ]
          },
          "metadata": {
            "tags": []
          },
          "execution_count": 88
        }
      ]
    },
    {
      "cell_type": "markdown",
      "metadata": {
        "id": "nEFKkcosk1Ee",
        "colab_type": "text"
      },
      "source": [
        "## Merging both the anime and rating dataframes"
      ]
    },
    {
      "cell_type": "markdown",
      "metadata": {
        "id": "3IVQDX6_lFIZ",
        "colab_type": "text"
      },
      "source": [
        "### Important points to grasp about the datasets\n",
        "In the anime.csv file, **anime_id** is **unique** for each row.\n",
        "In the rating.csv file, **anime_id** is **unique**, but **user_id** is **not unique**. \n",
        "When we merge both, **user_id** becomes **unique**, and anime_id is no longer."
      ]
    },
    {
      "cell_type": "code",
      "metadata": {
        "id": "MvNdT0n29vYX",
        "colab_type": "code",
        "colab": {}
      },
      "source": [
        "#we merge based on anime_id cus they're both common in the 2 dataframes\n",
        "df_merged = pd.merge(ratings,anime,on='anime_id')"
      ],
      "execution_count": 89,
      "outputs": []
    },
    {
      "cell_type": "code",
      "metadata": {
        "id": "45-kPl8_9vVz",
        "colab_type": "code",
        "colab": {
          "base_uri": "https://localhost:8080/",
          "height": 34
        },
        "outputId": "e4f96572-f437-4b51-8043-70f0e4618f43"
      },
      "source": [
        "df_merged.shape"
      ],
      "execution_count": 90,
      "outputs": [
        {
          "output_type": "execute_result",
          "data": {
            "text/plain": [
              "(7813727, 9)"
            ]
          },
          "metadata": {
            "tags": []
          },
          "execution_count": 90
        }
      ]
    },
    {
      "cell_type": "code",
      "metadata": {
        "id": "EVi2ijlC9vTb",
        "colab_type": "code",
        "colab": {
          "base_uri": "https://localhost:8080/",
          "height": 289
        },
        "outputId": "e99e84d9-12f6-4cb4-bc23-385224a1c4f0"
      },
      "source": [
        "df_merged.head() "
      ],
      "execution_count": 91,
      "outputs": [
        {
          "output_type": "execute_result",
          "data": {
            "text/html": [
              "<div>\n",
              "<style scoped>\n",
              "    .dataframe tbody tr th:only-of-type {\n",
              "        vertical-align: middle;\n",
              "    }\n",
              "\n",
              "    .dataframe tbody tr th {\n",
              "        vertical-align: top;\n",
              "    }\n",
              "\n",
              "    .dataframe thead th {\n",
              "        text-align: right;\n",
              "    }\n",
              "</style>\n",
              "<table border=\"1\" class=\"dataframe\">\n",
              "  <thead>\n",
              "    <tr style=\"text-align: right;\">\n",
              "      <th></th>\n",
              "      <th>user_id</th>\n",
              "      <th>anime_id</th>\n",
              "      <th>rating</th>\n",
              "      <th>name</th>\n",
              "      <th>genre</th>\n",
              "      <th>type</th>\n",
              "      <th>episodes</th>\n",
              "      <th>average_rating</th>\n",
              "      <th>members</th>\n",
              "    </tr>\n",
              "  </thead>\n",
              "  <tbody>\n",
              "    <tr>\n",
              "      <th>0</th>\n",
              "      <td>1</td>\n",
              "      <td>20</td>\n",
              "      <td>-1</td>\n",
              "      <td>Naruto</td>\n",
              "      <td>Action, Comedy, Martial Arts, Shounen, Super P...</td>\n",
              "      <td>TV</td>\n",
              "      <td>220</td>\n",
              "      <td>7.81</td>\n",
              "      <td>683297</td>\n",
              "    </tr>\n",
              "    <tr>\n",
              "      <th>1</th>\n",
              "      <td>3</td>\n",
              "      <td>20</td>\n",
              "      <td>8</td>\n",
              "      <td>Naruto</td>\n",
              "      <td>Action, Comedy, Martial Arts, Shounen, Super P...</td>\n",
              "      <td>TV</td>\n",
              "      <td>220</td>\n",
              "      <td>7.81</td>\n",
              "      <td>683297</td>\n",
              "    </tr>\n",
              "    <tr>\n",
              "      <th>2</th>\n",
              "      <td>5</td>\n",
              "      <td>20</td>\n",
              "      <td>6</td>\n",
              "      <td>Naruto</td>\n",
              "      <td>Action, Comedy, Martial Arts, Shounen, Super P...</td>\n",
              "      <td>TV</td>\n",
              "      <td>220</td>\n",
              "      <td>7.81</td>\n",
              "      <td>683297</td>\n",
              "    </tr>\n",
              "    <tr>\n",
              "      <th>3</th>\n",
              "      <td>6</td>\n",
              "      <td>20</td>\n",
              "      <td>-1</td>\n",
              "      <td>Naruto</td>\n",
              "      <td>Action, Comedy, Martial Arts, Shounen, Super P...</td>\n",
              "      <td>TV</td>\n",
              "      <td>220</td>\n",
              "      <td>7.81</td>\n",
              "      <td>683297</td>\n",
              "    </tr>\n",
              "    <tr>\n",
              "      <th>4</th>\n",
              "      <td>10</td>\n",
              "      <td>20</td>\n",
              "      <td>-1</td>\n",
              "      <td>Naruto</td>\n",
              "      <td>Action, Comedy, Martial Arts, Shounen, Super P...</td>\n",
              "      <td>TV</td>\n",
              "      <td>220</td>\n",
              "      <td>7.81</td>\n",
              "      <td>683297</td>\n",
              "    </tr>\n",
              "  </tbody>\n",
              "</table>\n",
              "</div>"
            ],
            "text/plain": [
              "   user_id  anime_id  rating    name  ... type episodes average_rating  members\n",
              "0        1        20      -1  Naruto  ...   TV      220           7.81   683297\n",
              "1        3        20       8  Naruto  ...   TV      220           7.81   683297\n",
              "2        5        20       6  Naruto  ...   TV      220           7.81   683297\n",
              "3        6        20      -1  Naruto  ...   TV      220           7.81   683297\n",
              "4       10        20      -1  Naruto  ...   TV      220           7.81   683297\n",
              "\n",
              "[5 rows x 9 columns]"
            ]
          },
          "metadata": {
            "tags": []
          },
          "execution_count": 91
        }
      ]
    },
    {
      "cell_type": "code",
      "metadata": {
        "id": "4op1k578-OXq",
        "colab_type": "code",
        "colab": {}
      },
      "source": [
        "#shuffling the dataframe\n",
        "df_merged = df_merged.sample(n=len(df_merged), random_state=42)"
      ],
      "execution_count": 92,
      "outputs": []
    },
    {
      "cell_type": "code",
      "metadata": {
        "id": "oKSmddRmrYbn",
        "colab_type": "code",
        "colab": {}
      },
      "source": [
        "#we're going to use only 200,000 of the dataset to avoid RAM issues\n",
        "df_merged = df_merged[:200000]"
      ],
      "execution_count": 93,
      "outputs": []
    },
    {
      "cell_type": "code",
      "metadata": {
        "id": "SxLRcOwQfc_1",
        "colab_type": "code",
        "colab": {
          "base_uri": "https://localhost:8080/",
          "height": 374
        },
        "outputId": "d637ffd0-86c9-44a7-d06d-09cf29456088"
      },
      "source": [
        "#checking out the new head of the dataframe after shuffling\n",
        "df_merged.head()"
      ],
      "execution_count": 94,
      "outputs": [
        {
          "output_type": "execute_result",
          "data": {
            "text/html": [
              "<div>\n",
              "<style scoped>\n",
              "    .dataframe tbody tr th:only-of-type {\n",
              "        vertical-align: middle;\n",
              "    }\n",
              "\n",
              "    .dataframe tbody tr th {\n",
              "        vertical-align: top;\n",
              "    }\n",
              "\n",
              "    .dataframe thead th {\n",
              "        text-align: right;\n",
              "    }\n",
              "</style>\n",
              "<table border=\"1\" class=\"dataframe\">\n",
              "  <thead>\n",
              "    <tr style=\"text-align: right;\">\n",
              "      <th></th>\n",
              "      <th>user_id</th>\n",
              "      <th>anime_id</th>\n",
              "      <th>rating</th>\n",
              "      <th>name</th>\n",
              "      <th>genre</th>\n",
              "      <th>type</th>\n",
              "      <th>episodes</th>\n",
              "      <th>average_rating</th>\n",
              "      <th>members</th>\n",
              "    </tr>\n",
              "  </thead>\n",
              "  <tbody>\n",
              "    <tr>\n",
              "      <th>2375120</th>\n",
              "      <td>6155</td>\n",
              "      <td>5081</td>\n",
              "      <td>7</td>\n",
              "      <td>Bakemonogatari</td>\n",
              "      <td>Mystery, Romance, Supernatural, Vampire</td>\n",
              "      <td>TV</td>\n",
              "      <td>15</td>\n",
              "      <td>8.39</td>\n",
              "      <td>482268</td>\n",
              "    </tr>\n",
              "    <tr>\n",
              "      <th>3188893</th>\n",
              "      <td>67150</td>\n",
              "      <td>59</td>\n",
              "      <td>7</td>\n",
              "      <td>Chobits</td>\n",
              "      <td>Comedy, Drama, Ecchi, Romance, Sci-Fi, Seinen</td>\n",
              "      <td>TV</td>\n",
              "      <td>26</td>\n",
              "      <td>7.57</td>\n",
              "      <td>266846</td>\n",
              "    </tr>\n",
              "    <tr>\n",
              "      <th>4769282</th>\n",
              "      <td>19614</td>\n",
              "      <td>7311</td>\n",
              "      <td>9</td>\n",
              "      <td>Suzumiya Haruhi no Shoushitsu</td>\n",
              "      <td>Comedy, Mystery, Romance, School, Sci-Fi, Supe...</td>\n",
              "      <td>Movie</td>\n",
              "      <td>1</td>\n",
              "      <td>8.81</td>\n",
              "      <td>240297</td>\n",
              "    </tr>\n",
              "    <tr>\n",
              "      <th>6887031</th>\n",
              "      <td>38937</td>\n",
              "      <td>158</td>\n",
              "      <td>7</td>\n",
              "      <td>Mariasama ga Miteru</td>\n",
              "      <td>Drama, Romance, Shoujo, Shoujo Ai, Slice of Life</td>\n",
              "      <td>TV</td>\n",
              "      <td>13</td>\n",
              "      <td>7.48</td>\n",
              "      <td>33989</td>\n",
              "    </tr>\n",
              "    <tr>\n",
              "      <th>1397707</th>\n",
              "      <td>27133</td>\n",
              "      <td>9989</td>\n",
              "      <td>8</td>\n",
              "      <td>Ano Hi Mita Hana no Namae wo Bokutachi wa Mada...</td>\n",
              "      <td>Drama, Slice of Life, Supernatural</td>\n",
              "      <td>TV</td>\n",
              "      <td>11</td>\n",
              "      <td>8.62</td>\n",
              "      <td>463835</td>\n",
              "    </tr>\n",
              "  </tbody>\n",
              "</table>\n",
              "</div>"
            ],
            "text/plain": [
              "         user_id  anime_id  rating  ... episodes average_rating members\n",
              "2375120     6155      5081       7  ...       15           8.39  482268\n",
              "3188893    67150        59       7  ...       26           7.57  266846\n",
              "4769282    19614      7311       9  ...        1           8.81  240297\n",
              "6887031    38937       158       7  ...       13           7.48   33989\n",
              "1397707    27133      9989       8  ...       11           8.62  463835\n",
              "\n",
              "[5 rows x 9 columns]"
            ]
          },
          "metadata": {
            "tags": []
          },
          "execution_count": 94
        }
      ]
    },
    {
      "cell_type": "markdown",
      "metadata": {
        "id": "o5g8vkft-QzP",
        "colab_type": "text"
      },
      "source": [
        "### EDA - Visualizing Imports"
      ]
    },
    {
      "cell_type": "code",
      "metadata": {
        "id": "u4KaKOaQ-OUm",
        "colab_type": "code",
        "colab": {}
      },
      "source": [
        "import matplotlib.pyplot as plt\n",
        "import seaborn as sns\n",
        "sns.set_style('white')\n",
        "%matplotlib inline"
      ],
      "execution_count": 95,
      "outputs": []
    },
    {
      "cell_type": "markdown",
      "metadata": {
        "id": "0J9BOyyK-ce8",
        "colab_type": "text"
      },
      "source": [
        "Creating ratings dataframe with average rating and number of ratings"
      ]
    },
    {
      "cell_type": "code",
      "metadata": {
        "id": "sBYmhvBv-OR1",
        "colab_type": "code",
        "colab": {
          "base_uri": "https://localhost:8080/",
          "height": 136
        },
        "outputId": "69e6e65e-e05c-46e5-c05f-e9600b7da2ce"
      },
      "source": [
        "#getting the average rating of each anime and sorting in descending order\n",
        "df_merged.groupby('name')['average_rating'].mean().sort_values(ascending=False).head()"
      ],
      "execution_count": 96,
      "outputs": [
        {
          "output_type": "execute_result",
          "data": {
            "text/plain": [
              "name\n",
              "Kimi no Na wa.                                            9.37\n",
              "Fullmetal Alchemist Brotherhood                           9.26\n",
              "Steins;Gate                                               9.17\n",
              "Gintama039;                                               9.16\n",
              "Haikyuu Karasuno Koukou VS Shiratorizawa Gakuen Koukou    9.15\n",
              "Name: average_rating, dtype: float64"
            ]
          },
          "metadata": {
            "tags": []
          },
          "execution_count": 96
        }
      ]
    },
    {
      "cell_type": "code",
      "metadata": {
        "id": "3wfxiBlY-gNZ",
        "colab_type": "code",
        "colab": {
          "base_uri": "https://localhost:8080/",
          "height": 136
        },
        "outputId": "39ff8986-491f-46b5-8bb7-06b105d1f27c"
      },
      "source": [
        "#getting the number of users that voted (ie the number of times each anime_id appeared in the dataframe)\n",
        "df_merged.groupby('name')['members'].count().sort_values(ascending=False).head()"
      ],
      "execution_count": 97,
      "outputs": [
        {
          "output_type": "execute_result",
          "data": {
            "text/plain": [
              "name\n",
              "Death Note                        969\n",
              "Sword Art Online                  815\n",
              "Angel Beats                       771\n",
              "Shingeki no Kyojin                758\n",
              "Code Geass Hangyaku no Lelouch    706\n",
              "Name: members, dtype: int64"
            ]
          },
          "metadata": {
            "tags": []
          },
          "execution_count": 97
        }
      ]
    },
    {
      "cell_type": "markdown",
      "metadata": {
        "id": "PwLZhk16sdbT",
        "colab_type": "text"
      },
      "source": [
        "Creating a dataframe of anime name and the count of their ratings"
      ]
    },
    {
      "cell_type": "code",
      "metadata": {
        "id": "Nh3fCiAE-gE9",
        "colab_type": "code",
        "colab": {
          "base_uri": "https://localhost:8080/",
          "height": 235
        },
        "outputId": "9b6f0342-c0b4-4e12-a99b-6ed6cc7cd515"
      },
      "source": [
        "new_df = pd.DataFrame(df_merged.groupby('name')['members'].count())\n",
        "new_df.rename(columns={'members':'count of votes'}, inplace=True)\n",
        "new_df.head()"
      ],
      "execution_count": 98,
      "outputs": [
        {
          "output_type": "execute_result",
          "data": {
            "text/html": [
              "<div>\n",
              "<style scoped>\n",
              "    .dataframe tbody tr th:only-of-type {\n",
              "        vertical-align: middle;\n",
              "    }\n",
              "\n",
              "    .dataframe tbody tr th {\n",
              "        vertical-align: top;\n",
              "    }\n",
              "\n",
              "    .dataframe thead th {\n",
              "        text-align: right;\n",
              "    }\n",
              "</style>\n",
              "<table border=\"1\" class=\"dataframe\">\n",
              "  <thead>\n",
              "    <tr style=\"text-align: right;\">\n",
              "      <th></th>\n",
              "      <th>count of votes</th>\n",
              "    </tr>\n",
              "    <tr>\n",
              "      <th>name</th>\n",
              "      <th></th>\n",
              "    </tr>\n",
              "  </thead>\n",
              "  <tbody>\n",
              "    <tr>\n",
              "      <th>.hackG.U. Returner</th>\n",
              "      <td>21</td>\n",
              "    </tr>\n",
              "    <tr>\n",
              "      <th>.hackG.U. Trilogy</th>\n",
              "      <td>22</td>\n",
              "    </tr>\n",
              "    <tr>\n",
              "      <th>.hackG.U. Trilogy Parody Mode</th>\n",
              "      <td>11</td>\n",
              "    </tr>\n",
              "    <tr>\n",
              "      <th>.hackGift</th>\n",
              "      <td>24</td>\n",
              "    </tr>\n",
              "    <tr>\n",
              "      <th>.hackIntermezzo</th>\n",
              "      <td>25</td>\n",
              "    </tr>\n",
              "  </tbody>\n",
              "</table>\n",
              "</div>"
            ],
            "text/plain": [
              "                               count of votes\n",
              "name                                         \n",
              ".hackG.U. Returner                         21\n",
              ".hackG.U. Trilogy                          22\n",
              ".hackG.U. Trilogy Parody Mode              11\n",
              ".hackGift                                  24\n",
              ".hackIntermezzo                            25"
            ]
          },
          "metadata": {
            "tags": []
          },
          "execution_count": 98
        }
      ]
    },
    {
      "cell_type": "markdown",
      "metadata": {
        "id": "xRmI4BJmsvKH",
        "colab_type": "text"
      },
      "source": [
        "Merge the above dataframe to df_merged"
      ]
    },
    {
      "cell_type": "code",
      "metadata": {
        "id": "a0uqnFtN-gCC",
        "colab_type": "code",
        "colab": {}
      },
      "source": [
        "#we merge based on name cus they're both common in the 2 dataframes\n",
        "df_merged = pd.merge(new_df,df_merged,on='name')"
      ],
      "execution_count": 99,
      "outputs": []
    },
    {
      "cell_type": "code",
      "metadata": {
        "id": "-HLeOgts4qbO",
        "colab_type": "code",
        "colab": {
          "base_uri": "https://localhost:8080/",
          "height": 391
        },
        "outputId": "df9036a6-dd60-4bb2-bd74-620894b34320"
      },
      "source": [
        "df_merged.head()"
      ],
      "execution_count": 100,
      "outputs": [
        {
          "output_type": "execute_result",
          "data": {
            "text/html": [
              "<div>\n",
              "<style scoped>\n",
              "    .dataframe tbody tr th:only-of-type {\n",
              "        vertical-align: middle;\n",
              "    }\n",
              "\n",
              "    .dataframe tbody tr th {\n",
              "        vertical-align: top;\n",
              "    }\n",
              "\n",
              "    .dataframe thead th {\n",
              "        text-align: right;\n",
              "    }\n",
              "</style>\n",
              "<table border=\"1\" class=\"dataframe\">\n",
              "  <thead>\n",
              "    <tr style=\"text-align: right;\">\n",
              "      <th></th>\n",
              "      <th>name</th>\n",
              "      <th>count of votes</th>\n",
              "      <th>user_id</th>\n",
              "      <th>anime_id</th>\n",
              "      <th>rating</th>\n",
              "      <th>genre</th>\n",
              "      <th>type</th>\n",
              "      <th>episodes</th>\n",
              "      <th>average_rating</th>\n",
              "      <th>members</th>\n",
              "    </tr>\n",
              "  </thead>\n",
              "  <tbody>\n",
              "    <tr>\n",
              "      <th>0</th>\n",
              "      <td>.hackG.U. Returner</td>\n",
              "      <td>21</td>\n",
              "      <td>5680</td>\n",
              "      <td>2928</td>\n",
              "      <td>6</td>\n",
              "      <td>Adventure, Drama, Fantasy, Game, Magic, Sci-Fi</td>\n",
              "      <td>OVA</td>\n",
              "      <td>1</td>\n",
              "      <td>6.91</td>\n",
              "      <td>15412</td>\n",
              "    </tr>\n",
              "    <tr>\n",
              "      <th>1</th>\n",
              "      <td>.hackG.U. Returner</td>\n",
              "      <td>21</td>\n",
              "      <td>35745</td>\n",
              "      <td>2928</td>\n",
              "      <td>2</td>\n",
              "      <td>Adventure, Drama, Fantasy, Game, Magic, Sci-Fi</td>\n",
              "      <td>OVA</td>\n",
              "      <td>1</td>\n",
              "      <td>6.91</td>\n",
              "      <td>15412</td>\n",
              "    </tr>\n",
              "    <tr>\n",
              "      <th>2</th>\n",
              "      <td>.hackG.U. Returner</td>\n",
              "      <td>21</td>\n",
              "      <td>29698</td>\n",
              "      <td>2928</td>\n",
              "      <td>8</td>\n",
              "      <td>Adventure, Drama, Fantasy, Game, Magic, Sci-Fi</td>\n",
              "      <td>OVA</td>\n",
              "      <td>1</td>\n",
              "      <td>6.91</td>\n",
              "      <td>15412</td>\n",
              "    </tr>\n",
              "    <tr>\n",
              "      <th>3</th>\n",
              "      <td>.hackG.U. Returner</td>\n",
              "      <td>21</td>\n",
              "      <td>24438</td>\n",
              "      <td>2928</td>\n",
              "      <td>4</td>\n",
              "      <td>Adventure, Drama, Fantasy, Game, Magic, Sci-Fi</td>\n",
              "      <td>OVA</td>\n",
              "      <td>1</td>\n",
              "      <td>6.91</td>\n",
              "      <td>15412</td>\n",
              "    </tr>\n",
              "    <tr>\n",
              "      <th>4</th>\n",
              "      <td>.hackG.U. Returner</td>\n",
              "      <td>21</td>\n",
              "      <td>49146</td>\n",
              "      <td>2928</td>\n",
              "      <td>7</td>\n",
              "      <td>Adventure, Drama, Fantasy, Game, Magic, Sci-Fi</td>\n",
              "      <td>OVA</td>\n",
              "      <td>1</td>\n",
              "      <td>6.91</td>\n",
              "      <td>15412</td>\n",
              "    </tr>\n",
              "  </tbody>\n",
              "</table>\n",
              "</div>"
            ],
            "text/plain": [
              "                 name  count of votes  ...  average_rating  members\n",
              "0  .hackG.U. Returner              21  ...            6.91    15412\n",
              "1  .hackG.U. Returner              21  ...            6.91    15412\n",
              "2  .hackG.U. Returner              21  ...            6.91    15412\n",
              "3  .hackG.U. Returner              21  ...            6.91    15412\n",
              "4  .hackG.U. Returner              21  ...            6.91    15412\n",
              "\n",
              "[5 rows x 10 columns]"
            ]
          },
          "metadata": {
            "tags": []
          },
          "execution_count": 100
        }
      ]
    },
    {
      "cell_type": "markdown",
      "metadata": {
        "id": "qejz1NW9-stF",
        "colab_type": "text"
      },
      "source": [
        "Plotting histogram wrt number of ratings"
      ]
    },
    {
      "cell_type": "code",
      "metadata": {
        "id": "hOyYu3MW-pVQ",
        "colab_type": "code",
        "colab": {
          "base_uri": "https://localhost:8080/",
          "height": 282
        },
        "outputId": "21bf802e-1282-49ae-bd6c-36a59709fe7c"
      },
      "source": [
        "#x-axis is number of votes, y-axis is frquency\n",
        "plt.figure(figsize=(10,4))\n",
        "df_merged['count of votes'].hist(bins=70)"
      ],
      "execution_count": 101,
      "outputs": [
        {
          "output_type": "execute_result",
          "data": {
            "text/plain": [
              "<matplotlib.axes._subplots.AxesSubplot at 0x7fd8837f8828>"
            ]
          },
          "metadata": {
            "tags": []
          },
          "execution_count": 101
        },
        {
          "output_type": "display_data",
          "data": {
            "image/png": "[encoded data removed]",
            "text/plain": [
              "<Figure size 720x288 with 1 Axes>"
            ]
          },
          "metadata": {
            "tags": [],
            "needs_background": "light"
          }
        }
      ]
    },
    {
      "cell_type": "code",
      "metadata": {
        "id": "DB4WwxaQ-pPG",
        "colab_type": "code",
        "colab": {
          "base_uri": "https://localhost:8080/",
          "height": 282
        },
        "outputId": "aeb3e53f-93de-4af3-871f-a4eb556fc555"
      },
      "source": [
        "#x-axis is average rating and y-axis is frequenct of the rating\n",
        "plt.figure(figsize=(10,4))\n",
        "df_merged['average_rating'].hist(bins=70)"
      ],
      "execution_count": 102,
      "outputs": [
        {
          "output_type": "execute_result",
          "data": {
            "text/plain": [
              "<matplotlib.axes._subplots.AxesSubplot at 0x7fd8823ca780>"
            ]
          },
          "metadata": {
            "tags": []
          },
          "execution_count": 102
        },
        {
          "output_type": "display_data",
          "data": {
            "image/png": "[encoded data removed]",
            "text/plain": [
              "<Figure size 720x288 with 1 Axes>"
            ]
          },
          "metadata": {
            "tags": [],
            "needs_background": "light"
          }
        }
      ]
    },
    {
      "cell_type": "markdown",
      "metadata": {
        "id": "mdMXiTyF2bkQ",
        "colab_type": "text"
      },
      "source": [
        "Uing the Weighted Average Formula AND the members column based on popularity\n",
        "WR = (vR + mC/v+m) where:\n",
        "- v is the number of votes\n",
        "- m is minimum votes required to be listed\n",
        "- R is rating average of the anime\n",
        "- C is mean vote across whole report"
      ]
    },
    {
      "cell_type": "code",
      "metadata": {
        "id": "EU3aC8xm8hgO",
        "colab_type": "code",
        "colab": {
          "base_uri": "https://localhost:8080/",
          "height": 261
        },
        "outputId": "8fd5673f-407a-42b2-9416-b5a3615f1d2f"
      },
      "source": [
        "#looking at the member table column before normalizing\n",
        "df_merged.head(3)"
      ],
      "execution_count": 103,
      "outputs": [
        {
          "output_type": "execute_result",
          "data": {
            "text/html": [
              "<div>\n",
              "<style scoped>\n",
              "    .dataframe tbody tr th:only-of-type {\n",
              "        vertical-align: middle;\n",
              "    }\n",
              "\n",
              "    .dataframe tbody tr th {\n",
              "        vertical-align: top;\n",
              "    }\n",
              "\n",
              "    .dataframe thead th {\n",
              "        text-align: right;\n",
              "    }\n",
              "</style>\n",
              "<table border=\"1\" class=\"dataframe\">\n",
              "  <thead>\n",
              "    <tr style=\"text-align: right;\">\n",
              "      <th></th>\n",
              "      <th>name</th>\n",
              "      <th>count of votes</th>\n",
              "      <th>user_id</th>\n",
              "      <th>anime_id</th>\n",
              "      <th>rating</th>\n",
              "      <th>genre</th>\n",
              "      <th>type</th>\n",
              "      <th>episodes</th>\n",
              "      <th>average_rating</th>\n",
              "      <th>members</th>\n",
              "    </tr>\n",
              "  </thead>\n",
              "  <tbody>\n",
              "    <tr>\n",
              "      <th>0</th>\n",
              "      <td>.hackG.U. Returner</td>\n",
              "      <td>21</td>\n",
              "      <td>5680</td>\n",
              "      <td>2928</td>\n",
              "      <td>6</td>\n",
              "      <td>Adventure, Drama, Fantasy, Game, Magic, Sci-Fi</td>\n",
              "      <td>OVA</td>\n",
              "      <td>1</td>\n",
              "      <td>6.91</td>\n",
              "      <td>15412</td>\n",
              "    </tr>\n",
              "    <tr>\n",
              "      <th>1</th>\n",
              "      <td>.hackG.U. Returner</td>\n",
              "      <td>21</td>\n",
              "      <td>35745</td>\n",
              "      <td>2928</td>\n",
              "      <td>2</td>\n",
              "      <td>Adventure, Drama, Fantasy, Game, Magic, Sci-Fi</td>\n",
              "      <td>OVA</td>\n",
              "      <td>1</td>\n",
              "      <td>6.91</td>\n",
              "      <td>15412</td>\n",
              "    </tr>\n",
              "    <tr>\n",
              "      <th>2</th>\n",
              "      <td>.hackG.U. Returner</td>\n",
              "      <td>21</td>\n",
              "      <td>29698</td>\n",
              "      <td>2928</td>\n",
              "      <td>8</td>\n",
              "      <td>Adventure, Drama, Fantasy, Game, Magic, Sci-Fi</td>\n",
              "      <td>OVA</td>\n",
              "      <td>1</td>\n",
              "      <td>6.91</td>\n",
              "      <td>15412</td>\n",
              "    </tr>\n",
              "  </tbody>\n",
              "</table>\n",
              "</div>"
            ],
            "text/plain": [
              "                 name  count of votes  ...  average_rating  members\n",
              "0  .hackG.U. Returner              21  ...            6.91    15412\n",
              "1  .hackG.U. Returner              21  ...            6.91    15412\n",
              "2  .hackG.U. Returner              21  ...            6.91    15412\n",
              "\n",
              "[3 rows x 10 columns]"
            ]
          },
          "metadata": {
            "tags": []
          },
          "execution_count": 103
        }
      ]
    },
    {
      "cell_type": "code",
      "metadata": {
        "id": "KTHvbSCl89Pz",
        "colab_type": "code",
        "colab": {
          "base_uri": "https://localhost:8080/",
          "height": 34
        },
        "outputId": "925ec03b-dc6c-4214-8511-c0c6eb09a7ca"
      },
      "source": [
        "df_merged.members.max()"
      ],
      "execution_count": 104,
      "outputs": [
        {
          "output_type": "execute_result",
          "data": {
            "text/plain": [
              "1013917"
            ]
          },
          "metadata": {
            "tags": []
          },
          "execution_count": 104
        }
      ]
    },
    {
      "cell_type": "code",
      "metadata": {
        "id": "EfzUMYCC669h",
        "colab_type": "code",
        "colab": {}
      },
      "source": [
        "#normalizing the members column to a scale of 0-10\n",
        "from sklearn import preprocessing\n",
        "\n",
        "x = df_merged['members'].values #returns a numpy array\n",
        "x = x.reshape(-1,1)\n",
        "min_max_scaler = preprocessing.MinMaxScaler(feature_range=(0,10))\n",
        "x_scaled = min_max_scaler.fit_transform(x)\n",
        "df_merged['members'] = pd.DataFrame(x_scaled)"
      ],
      "execution_count": 105,
      "outputs": []
    },
    {
      "cell_type": "code",
      "metadata": {
        "id": "4W2nAc5U78_-",
        "colab_type": "code",
        "colab": {
          "base_uri": "https://localhost:8080/",
          "height": 142
        },
        "outputId": "193e044d-d3fc-4c34-ccdb-b6aef76fdd24"
      },
      "source": [
        "df_merged.head(3)"
      ],
      "execution_count": 106,
      "outputs": [
        {
          "output_type": "execute_result",
          "data": {
            "text/html": [
              "<div>\n",
              "<style scoped>\n",
              "    .dataframe tbody tr th:only-of-type {\n",
              "        vertical-align: middle;\n",
              "    }\n",
              "\n",
              "    .dataframe tbody tr th {\n",
              "        vertical-align: top;\n",
              "    }\n",
              "\n",
              "    .dataframe thead th {\n",
              "        text-align: right;\n",
              "    }\n",
              "</style>\n",
              "<table border=\"1\" class=\"dataframe\">\n",
              "  <thead>\n",
              "    <tr style=\"text-align: right;\">\n",
              "      <th></th>\n",
              "      <th>name</th>\n",
              "      <th>count of votes</th>\n",
              "      <th>user_id</th>\n",
              "      <th>anime_id</th>\n",
              "      <th>rating</th>\n",
              "      <th>genre</th>\n",
              "      <th>type</th>\n",
              "      <th>episodes</th>\n",
              "      <th>average_rating</th>\n",
              "      <th>members</th>\n",
              "    </tr>\n",
              "  </thead>\n",
              "  <tbody>\n",
              "    <tr>\n",
              "      <th>0</th>\n",
              "      <td>.hackG.U. Returner</td>\n",
              "      <td>21</td>\n",
              "      <td>5680</td>\n",
              "      <td>2928</td>\n",
              "      <td>6</td>\n",
              "      <td>Adventure, Drama, Fantasy, Game, Magic, Sci-Fi</td>\n",
              "      <td>OVA</td>\n",
              "      <td>1</td>\n",
              "      <td>6.91</td>\n",
              "      <td>0.151567</td>\n",
              "    </tr>\n",
              "    <tr>\n",
              "      <th>1</th>\n",
              "      <td>.hackG.U. Returner</td>\n",
              "      <td>21</td>\n",
              "      <td>35745</td>\n",
              "      <td>2928</td>\n",
              "      <td>2</td>\n",
              "      <td>Adventure, Drama, Fantasy, Game, Magic, Sci-Fi</td>\n",
              "      <td>OVA</td>\n",
              "      <td>1</td>\n",
              "      <td>6.91</td>\n",
              "      <td>0.151567</td>\n",
              "    </tr>\n",
              "    <tr>\n",
              "      <th>2</th>\n",
              "      <td>.hackG.U. Returner</td>\n",
              "      <td>21</td>\n",
              "      <td>29698</td>\n",
              "      <td>2928</td>\n",
              "      <td>8</td>\n",
              "      <td>Adventure, Drama, Fantasy, Game, Magic, Sci-Fi</td>\n",
              "      <td>OVA</td>\n",
              "      <td>1</td>\n",
              "      <td>6.91</td>\n",
              "      <td>0.151567</td>\n",
              "    </tr>\n",
              "  </tbody>\n",
              "</table>\n",
              "</div>"
            ],
            "text/plain": [
              "                 name  count of votes  ...  average_rating   members\n",
              "0  .hackG.U. Returner              21  ...            6.91  0.151567\n",
              "1  .hackG.U. Returner              21  ...            6.91  0.151567\n",
              "2  .hackG.U. Returner              21  ...            6.91  0.151567\n",
              "\n",
              "[3 rows x 10 columns]"
            ]
          },
          "metadata": {
            "tags": []
          },
          "execution_count": 106
        }
      ]
    },
    {
      "cell_type": "markdown",
      "metadata": {
        "id": "MctTgqKi78Rn",
        "colab_type": "text"
      },
      "source": [
        ""
      ]
    },
    {
      "cell_type": "code",
      "metadata": {
        "id": "Qwk6xGzHNv1e",
        "colab_type": "code",
        "colab": {
          "base_uri": "https://localhost:8080/",
          "height": 34
        },
        "outputId": "a373cc8b-e625-4cda-c03b-dc448be9abdd"
      },
      "source": [
        "# Calculate the mean vote of average rating column\n",
        "C = df_merged['average_rating'].mean()\n",
        "C"
      ],
      "execution_count": 107,
      "outputs": [
        {
          "output_type": "execute_result",
          "data": {
            "text/plain": [
              "7.656129550001002"
            ]
          },
          "metadata": {
            "tags": []
          },
          "execution_count": 107
        }
      ]
    },
    {
      "cell_type": "markdown",
      "metadata": {
        "id": "I_lwSZ0J53bw",
        "colab_type": "text"
      },
      "source": [
        "Calculating the number of votes, m, received by a movie in the 90th percentile."
      ]
    },
    {
      "cell_type": "code",
      "metadata": {
        "id": "7ilKahiW5wdI",
        "colab_type": "code",
        "colab": {
          "base_uri": "https://localhost:8080/",
          "height": 34
        },
        "outputId": "e8f473e9-ffeb-410a-97c7-d25427202310"
      },
      "source": [
        "m = df_merged['count of votes'].quantile(0.90)\n",
        "print(m)"
      ],
      "execution_count": 108,
      "outputs": [
        {
          "output_type": "stream",
          "text": [
            "407.0\n"
          ],
          "name": "stdout"
        }
      ]
    },
    {
      "cell_type": "markdown",
      "metadata": {
        "id": "nX1J63nD6J43",
        "colab_type": "text"
      },
      "source": [
        "using m to filter out anime qualified for the model. ie anime with rating count >= m"
      ]
    },
    {
      "cell_type": "code",
      "metadata": {
        "id": "7njl4QpQ6DTN",
        "colab_type": "code",
        "colab": {
          "base_uri": "https://localhost:8080/",
          "height": 34
        },
        "outputId": "04e40c91-0d23-4d22-d440-de61ce07e8b2"
      },
      "source": [
        "q_anime = df_merged.copy().loc[df_merged['count of votes'] >= m]\n",
        "q_anime.shape"
      ],
      "execution_count": 137,
      "outputs": [
        {
          "output_type": "execute_result",
          "data": {
            "text/plain": [
              "(20023, 10)"
            ]
          },
          "metadata": {
            "tags": []
          },
          "execution_count": 137
        }
      ]
    },
    {
      "cell_type": "code",
      "metadata": {
        "id": "pQP7bZIF6iTZ",
        "colab_type": "code",
        "colab": {
          "base_uri": "https://localhost:8080/",
          "height": 34
        },
        "outputId": "70b5be74-a1c0-45a4-ee07-af91c4da5521"
      },
      "source": [
        "df_merged.shape"
      ],
      "execution_count": 139,
      "outputs": [
        {
          "output_type": "execute_result",
          "data": {
            "text/plain": [
              "(200000, 10)"
            ]
          },
          "metadata": {
            "tags": []
          },
          "execution_count": 139
        }
      ]
    },
    {
      "cell_type": "code",
      "metadata": {
        "id": "dJayNrpi6mHi",
        "colab_type": "code",
        "colab": {}
      },
      "source": [
        "# Function that computes the weighted rating of each movie\n",
        "def weighted_rating(x, m=m, C=C):\n",
        "    v = x['count of votes']\n",
        "    R = x['average_rating']\n",
        "    P = x['members']\n",
        "    # Calculation based on the IMDB formula\n",
        "    return (0.5*(v/(v+m) * R) + (m/(m+v) * C)) + (0.5*(P))"
      ],
      "execution_count": 140,
      "outputs": []
    },
    {
      "cell_type": "code",
      "metadata": {
        "id": "G12AOluD9YiI",
        "colab_type": "code",
        "colab": {}
      },
      "source": [
        "#Define a feature 'score' and calculate its value with `weighted_rating()`\n",
        "q_anime['score'] = q_anime.apply(weighted_rating, axis=1) "
      ],
      "execution_count": 141,
      "outputs": []
    },
    {
      "cell_type": "code",
      "metadata": {
        "id": "IarUcARX9hnr",
        "colab_type": "code",
        "colab": {
          "base_uri": "https://localhost:8080/",
          "height": 669
        },
        "outputId": "18a087d6-3d22-471c-ca07-aaa8606a1ffd"
      },
      "source": [
        "#Sort anime based on score calculated above\n",
        "q_anime = q_anime.sort_values('score', ascending=False)\n",
        "\n",
        "#Print the top 15 movies\n",
        "q_anime[['name', 'count of votes', 'average_rating', 'score']].head(20)"
      ],
      "execution_count": 151,
      "outputs": [
        {
          "output_type": "execute_result",
          "data": {
            "text/html": [
              "<div>\n",
              "<style scoped>\n",
              "    .dataframe tbody tr th:only-of-type {\n",
              "        vertical-align: middle;\n",
              "    }\n",
              "\n",
              "    .dataframe tbody tr th {\n",
              "        vertical-align: top;\n",
              "    }\n",
              "\n",
              "    .dataframe thead th {\n",
              "        text-align: right;\n",
              "    }\n",
              "</style>\n",
              "<table border=\"1\" class=\"dataframe\">\n",
              "  <thead>\n",
              "    <tr style=\"text-align: right;\">\n",
              "      <th></th>\n",
              "      <th>name</th>\n",
              "      <th>count of votes</th>\n",
              "      <th>average_rating</th>\n",
              "      <th>score</th>\n",
              "    </tr>\n",
              "  </thead>\n",
              "  <tbody>\n",
              "    <tr>\n",
              "      <th>42106</th>\n",
              "      <td>Death Note</td>\n",
              "      <td>969</td>\n",
              "      <td>8.71</td>\n",
              "      <td>10.331424</td>\n",
              "    </tr>\n",
              "    <tr>\n",
              "      <th>42144</th>\n",
              "      <td>Death Note</td>\n",
              "      <td>969</td>\n",
              "      <td>8.71</td>\n",
              "      <td>10.331424</td>\n",
              "    </tr>\n",
              "    <tr>\n",
              "      <th>42146</th>\n",
              "      <td>Death Note</td>\n",
              "      <td>969</td>\n",
              "      <td>8.71</td>\n",
              "      <td>10.331424</td>\n",
              "    </tr>\n",
              "    <tr>\n",
              "      <th>42147</th>\n",
              "      <td>Death Note</td>\n",
              "      <td>969</td>\n",
              "      <td>8.71</td>\n",
              "      <td>10.331424</td>\n",
              "    </tr>\n",
              "    <tr>\n",
              "      <th>42148</th>\n",
              "      <td>Death Note</td>\n",
              "      <td>969</td>\n",
              "      <td>8.71</td>\n",
              "      <td>10.331424</td>\n",
              "    </tr>\n",
              "    <tr>\n",
              "      <th>42149</th>\n",
              "      <td>Death Note</td>\n",
              "      <td>969</td>\n",
              "      <td>8.71</td>\n",
              "      <td>10.331424</td>\n",
              "    </tr>\n",
              "    <tr>\n",
              "      <th>42121</th>\n",
              "      <td>Death Note</td>\n",
              "      <td>969</td>\n",
              "      <td>8.71</td>\n",
              "      <td>10.331424</td>\n",
              "    </tr>\n",
              "    <tr>\n",
              "      <th>41817</th>\n",
              "      <td>Death Note</td>\n",
              "      <td>969</td>\n",
              "      <td>8.71</td>\n",
              "      <td>10.331424</td>\n",
              "    </tr>\n",
              "    <tr>\n",
              "      <th>41466</th>\n",
              "      <td>Death Note</td>\n",
              "      <td>969</td>\n",
              "      <td>8.71</td>\n",
              "      <td>10.331424</td>\n",
              "    </tr>\n",
              "    <tr>\n",
              "      <th>41815</th>\n",
              "      <td>Death Note</td>\n",
              "      <td>969</td>\n",
              "      <td>8.71</td>\n",
              "      <td>10.331424</td>\n",
              "    </tr>\n",
              "    <tr>\n",
              "      <th>41485</th>\n",
              "      <td>Death Note</td>\n",
              "      <td>969</td>\n",
              "      <td>8.71</td>\n",
              "      <td>10.331424</td>\n",
              "    </tr>\n",
              "    <tr>\n",
              "      <th>41486</th>\n",
              "      <td>Death Note</td>\n",
              "      <td>969</td>\n",
              "      <td>8.71</td>\n",
              "      <td>10.331424</td>\n",
              "    </tr>\n",
              "    <tr>\n",
              "      <th>41487</th>\n",
              "      <td>Death Note</td>\n",
              "      <td>969</td>\n",
              "      <td>8.71</td>\n",
              "      <td>10.331424</td>\n",
              "    </tr>\n",
              "    <tr>\n",
              "      <th>41488</th>\n",
              "      <td>Death Note</td>\n",
              "      <td>969</td>\n",
              "      <td>8.71</td>\n",
              "      <td>10.331424</td>\n",
              "    </tr>\n",
              "    <tr>\n",
              "      <th>41489</th>\n",
              "      <td>Death Note</td>\n",
              "      <td>969</td>\n",
              "      <td>8.71</td>\n",
              "      <td>10.331424</td>\n",
              "    </tr>\n",
              "    <tr>\n",
              "      <th>41490</th>\n",
              "      <td>Death Note</td>\n",
              "      <td>969</td>\n",
              "      <td>8.71</td>\n",
              "      <td>10.331424</td>\n",
              "    </tr>\n",
              "    <tr>\n",
              "      <th>41491</th>\n",
              "      <td>Death Note</td>\n",
              "      <td>969</td>\n",
              "      <td>8.71</td>\n",
              "      <td>10.331424</td>\n",
              "    </tr>\n",
              "    <tr>\n",
              "      <th>41492</th>\n",
              "      <td>Death Note</td>\n",
              "      <td>969</td>\n",
              "      <td>8.71</td>\n",
              "      <td>10.331424</td>\n",
              "    </tr>\n",
              "    <tr>\n",
              "      <th>41493</th>\n",
              "      <td>Death Note</td>\n",
              "      <td>969</td>\n",
              "      <td>8.71</td>\n",
              "      <td>10.331424</td>\n",
              "    </tr>\n",
              "    <tr>\n",
              "      <th>41340</th>\n",
              "      <td>Death Note</td>\n",
              "      <td>969</td>\n",
              "      <td>8.71</td>\n",
              "      <td>10.331424</td>\n",
              "    </tr>\n",
              "  </tbody>\n",
              "</table>\n",
              "</div>"
            ],
            "text/plain": [
              "             name  count of votes  average_rating      score\n",
              "42106  Death Note             969            8.71  10.331424\n",
              "42144  Death Note             969            8.71  10.331424\n",
              "42146  Death Note             969            8.71  10.331424\n",
              "42147  Death Note             969            8.71  10.331424\n",
              "42148  Death Note             969            8.71  10.331424\n",
              "42149  Death Note             969            8.71  10.331424\n",
              "42121  Death Note             969            8.71  10.331424\n",
              "41817  Death Note             969            8.71  10.331424\n",
              "41466  Death Note             969            8.71  10.331424\n",
              "41815  Death Note             969            8.71  10.331424\n",
              "41485  Death Note             969            8.71  10.331424\n",
              "41486  Death Note             969            8.71  10.331424\n",
              "41487  Death Note             969            8.71  10.331424\n",
              "41488  Death Note             969            8.71  10.331424\n",
              "41489  Death Note             969            8.71  10.331424\n",
              "41490  Death Note             969            8.71  10.331424\n",
              "41491  Death Note             969            8.71  10.331424\n",
              "41492  Death Note             969            8.71  10.331424\n",
              "41493  Death Note             969            8.71  10.331424\n",
              "41340  Death Note             969            8.71  10.331424"
            ]
          },
          "metadata": {
            "tags": []
          },
          "execution_count": 151
        }
      ]
    },
    {
      "cell_type": "code",
      "metadata": {
        "id": "CRXldCBg-JI1",
        "colab_type": "code",
        "colab": {}
      },
      "source": [
        ""
      ],
      "execution_count": null,
      "outputs": []
    }
  ]
}