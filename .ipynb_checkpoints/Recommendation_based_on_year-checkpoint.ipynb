{
 "cells": [
  {
   "cell_type": "code",
   "execution_count": 1,
   "metadata": {},
   "outputs": [],
   "source": [
    "#importing necessary libraries\n",
    "import pandas as pd\n",
    "import numpy as np\n",
    "import matplotlib.pyplot as plt\n",
    "import seaborn as sns\n",
    "import re\n",
    "%matplotlib inline"
   ]
  },
  {
   "cell_type": "code",
   "execution_count": 2,
   "metadata": {},
   "outputs": [],
   "source": [
    "#loading the dataset\n",
    "anime_data = pd.read_csv('DATA/anime_cleaned.csv', index_col =0)"
   ]
  },
  {
   "cell_type": "code",
   "execution_count": 3,
   "metadata": {},
   "outputs": [
    {
     "data": {
      "text/html": [
       "<div>\n",
       "<style scoped>\n",
       "    .dataframe tbody tr th:only-of-type {\n",
       "        vertical-align: middle;\n",
       "    }\n",
       "\n",
       "    .dataframe tbody tr th {\n",
       "        vertical-align: top;\n",
       "    }\n",
       "\n",
       "    .dataframe thead th {\n",
       "        text-align: right;\n",
       "    }\n",
       "</style>\n",
       "<table border=\"1\" class=\"dataframe\">\n",
       "  <thead>\n",
       "    <tr style=\"text-align: right;\">\n",
       "      <th></th>\n",
       "      <th>title</th>\n",
       "      <th>genre</th>\n",
       "      <th>synopsis</th>\n",
       "      <th>producer</th>\n",
       "      <th>studio</th>\n",
       "      <th>rating</th>\n",
       "      <th>scoredby</th>\n",
       "      <th>members</th>\n",
       "      <th>source</th>\n",
       "      <th>aired</th>\n",
       "    </tr>\n",
       "  </thead>\n",
       "  <tbody>\n",
       "    <tr>\n",
       "      <th>1</th>\n",
       "      <td>Cowboy Bebop</td>\n",
       "      <td>Action, Adventure, Comedy, Drama, Sci-Fi, Space</td>\n",
       "      <td>In the year 2071, humanity has colonized sever...</td>\n",
       "      <td>Bandai Visual</td>\n",
       "      <td>Sunrise</td>\n",
       "      <td>8.81</td>\n",
       "      <td>363889</td>\n",
       "      <td>704490</td>\n",
       "      <td>Original</td>\n",
       "      <td>Apr 3, 1998 to Apr 24, 1999</td>\n",
       "    </tr>\n",
       "    <tr>\n",
       "      <th>2</th>\n",
       "      <td>Cowboy Bebop Tengoku no Tobira</td>\n",
       "      <td>Action, Space, Drama, Mystery, Sci-Fi</td>\n",
       "      <td>Another day, another bounty—such is the life o...</td>\n",
       "      <td>Sunrise, Bandai Visual</td>\n",
       "      <td>Bones</td>\n",
       "      <td>8.41</td>\n",
       "      <td>111187</td>\n",
       "      <td>179899</td>\n",
       "      <td>Original</td>\n",
       "      <td>Sep 1, 2001</td>\n",
       "    </tr>\n",
       "  </tbody>\n",
       "</table>\n",
       "</div>"
      ],
      "text/plain": [
       "                            title  \\\n",
       "1                    Cowboy Bebop   \n",
       "2  Cowboy Bebop Tengoku no Tobira   \n",
       "\n",
       "                                             genre  \\\n",
       "1  Action, Adventure, Comedy, Drama, Sci-Fi, Space   \n",
       "2            Action, Space, Drama, Mystery, Sci-Fi   \n",
       "\n",
       "                                            synopsis                producer  \\\n",
       "1  In the year 2071, humanity has colonized sever...           Bandai Visual   \n",
       "2  Another day, another bounty—such is the life o...  Sunrise, Bandai Visual   \n",
       "\n",
       "    studio  rating  scoredby  members    source                        aired  \n",
       "1  Sunrise    8.81    363889   704490  Original  Apr 3, 1998 to Apr 24, 1999  \n",
       "2    Bones    8.41    111187   179899  Original                  Sep 1, 2001  "
      ]
     },
     "execution_count": 3,
     "metadata": {},
     "output_type": "execute_result"
    }
   ],
   "source": [
    "anime_data.head(2)"
   ]
  },
  {
   "cell_type": "code",
   "execution_count": 4,
   "metadata": {},
   "outputs": [
    {
     "data": {
      "text/html": [
       "<div>\n",
       "<style scoped>\n",
       "    .dataframe tbody tr th:only-of-type {\n",
       "        vertical-align: middle;\n",
       "    }\n",
       "\n",
       "    .dataframe tbody tr th {\n",
       "        vertical-align: top;\n",
       "    }\n",
       "\n",
       "    .dataframe thead th {\n",
       "        text-align: right;\n",
       "    }\n",
       "</style>\n",
       "<table border=\"1\" class=\"dataframe\">\n",
       "  <thead>\n",
       "    <tr style=\"text-align: right;\">\n",
       "      <th></th>\n",
       "      <th>title</th>\n",
       "      <th>rating</th>\n",
       "      <th>scoredby</th>\n",
       "      <th>members</th>\n",
       "      <th>aired</th>\n",
       "    </tr>\n",
       "  </thead>\n",
       "  <tbody>\n",
       "    <tr>\n",
       "      <th>1</th>\n",
       "      <td>Cowboy Bebop</td>\n",
       "      <td>8.81</td>\n",
       "      <td>363889</td>\n",
       "      <td>704490</td>\n",
       "      <td>Apr 3, 1998 to Apr 24, 1999</td>\n",
       "    </tr>\n",
       "    <tr>\n",
       "      <th>2</th>\n",
       "      <td>Cowboy Bebop Tengoku no Tobira</td>\n",
       "      <td>8.41</td>\n",
       "      <td>111187</td>\n",
       "      <td>179899</td>\n",
       "      <td>Sep 1, 2001</td>\n",
       "    </tr>\n",
       "  </tbody>\n",
       "</table>\n",
       "</div>"
      ],
      "text/plain": [
       "                            title  rating  scoredby  members  \\\n",
       "1                    Cowboy Bebop    8.81    363889   704490   \n",
       "2  Cowboy Bebop Tengoku no Tobira    8.41    111187   179899   \n",
       "\n",
       "                         aired  \n",
       "1  Apr 3, 1998 to Apr 24, 1999  \n",
       "2                  Sep 1, 2001  "
      ]
     },
     "execution_count": 4,
     "metadata": {},
     "output_type": "execute_result"
    }
   ],
   "source": [
    "#droping the columns that won't be used\n",
    "anime_data = anime_data.drop(columns=['genre','synopsis','producer','studio','source'])\n",
    "anime_data.head(2)"
   ]
  },
  {
   "cell_type": "code",
   "execution_count": 5,
   "metadata": {},
   "outputs": [
    {
     "data": {
      "text/plain": [
       "(3185, 5)"
      ]
     },
     "execution_count": 5,
     "metadata": {},
     "output_type": "execute_result"
    }
   ],
   "source": [
    "#checking the shape after dropping the null values\n",
    "anime_data.shape"
   ]
  },
  {
   "cell_type": "code",
   "execution_count": 6,
   "metadata": {},
   "outputs": [
    {
     "data": {
      "text/plain": [
       "1        Apr 3, 1998 to Apr 24, 1999\n",
       "2                        Sep 1, 2001\n",
       "3        Apr 1, 1998 to Sep 30, 1998\n",
       "4        Jul 2, 2002 to Dec 24, 2002\n",
       "5        Apr 6, 2005 to Mar 19, 2008\n",
       "                    ...             \n",
       "3181                Apr 1, 2018 to ?\n",
       "3182    Apr 12, 2018 to Jun 28, 2018\n",
       "3183     Apr 2, 2018 to Jun 18, 2018\n",
       "3184                    Nov 25, 2018\n",
       "3185      Jan 5, 2019 to May 4, 2019\n",
       "Name: aired, Length: 3185, dtype: object"
      ]
     },
     "execution_count": 6,
     "metadata": {},
     "output_type": "execute_result"
    }
   ],
   "source": [
    "#checking out the aired column\n",
    "anime_data['aired']"
   ]
  },
  {
   "cell_type": "code",
   "execution_count": 7,
   "metadata": {},
   "outputs": [],
   "source": [
    "#a function to remove the month\n",
    "def clean_up_month(s):\n",
    "  new_s = re.sub(r\"Jan|Feb|Mar|Apr|May|Jun|Jul|Aug|Sep|Oct|Nov|Dec|to|Not|available\",\"\",str(s))\n",
    "\n",
    "#r\"[^\\sa-zA-Z0-9\\.\\,\\;\\!\\-]\",\"\",str(s)\n",
    "# return re.sub(r\"[^\\sa-zA-Z0-9\\.\\,\\;\\!\\-]\",\"\",str(s))\n",
    "  return new_s"
   ]
  },
  {
   "cell_type": "code",
   "execution_count": 8,
   "metadata": {},
   "outputs": [],
   "source": [
    "#removing month from the aired column\n",
    "anime_data['aired'] = anime_data['aired'].apply(clean_up_month)"
   ]
  },
  {
   "cell_type": "code",
   "execution_count": 9,
   "metadata": {},
   "outputs": [
    {
     "data": {
      "text/plain": [
       "1     3, 1998   24, 1999\n",
       "2                1, 2001\n",
       "3     1, 1998   30, 1998\n",
       "4     2, 2002   24, 2002\n",
       "5     6, 2005   19, 2008\n",
       "Name: aired, dtype: object"
      ]
     },
     "execution_count": 9,
     "metadata": {},
     "output_type": "execute_result"
    }
   ],
   "source": [
    "#checking the column to see if the characters were removed\n",
    "anime_data['aired'].head()"
   ]
  },
  {
   "cell_type": "code",
   "execution_count": 10,
   "metadata": {},
   "outputs": [],
   "source": [
    "#function to remove commas joined with a number\n",
    "def clean_up_comma(s):\n",
    "  new_s = re.sub('[\\,\\?]',\"\",str(s))\n",
    "  return new_s"
   ]
  },
  {
   "cell_type": "code",
   "execution_count": 11,
   "metadata": {},
   "outputs": [
    {
     "data": {
      "text/plain": [
       "1         3 1998   24 1999\n",
       "2                   1 2001\n",
       "3         1 1998   30 1998\n",
       "4         2 2002   24 2002\n",
       "5         6 2005   19 2008\n",
       "               ...        \n",
       "3181              1 2018  \n",
       "3182     12 2018   28 2018\n",
       "3183      2 2018   18 2018\n",
       "3184               25 2018\n",
       "3185       5 2019   4 2019\n",
       "Name: aired, Length: 3185, dtype: object"
      ]
     },
     "execution_count": 11,
     "metadata": {},
     "output_type": "execute_result"
    }
   ],
   "source": [
    "#applying the clean comma function to the aired column\n",
    "anime_data['aired'] = anime_data['aired'].apply(clean_up_comma)\n",
    "anime_data['aired']"
   ]
  },
  {
   "cell_type": "code",
   "execution_count": 12,
   "metadata": {},
   "outputs": [],
   "source": [
    "# creating a function to split the values in the aired column by ' '\n",
    "def split_column(x):\n",
    "  return x.split(' ')"
   ]
  },
  {
   "cell_type": "code",
   "execution_count": 13,
   "metadata": {},
   "outputs": [
    {
     "data": {
      "text/plain": [
       "1        [, 3, 1998, , , 24, 1999]\n",
       "2                      [, 1, 2001]\n",
       "3        [, 1, 1998, , , 30, 1998]\n",
       "4        [, 2, 2002, , , 24, 2002]\n",
       "5        [, 6, 2005, , , 19, 2008]\n",
       "                   ...            \n",
       "3181               [, 1, 2018, , ]\n",
       "3182    [, 12, 2018, , , 28, 2018]\n",
       "3183     [, 2, 2018, , , 18, 2018]\n",
       "3184                  [, 25, 2018]\n",
       "3185      [, 5, 2019, , , 4, 2019]\n",
       "Name: aired, Length: 3185, dtype: object"
      ]
     },
     "execution_count": 13,
     "metadata": {},
     "output_type": "execute_result"
    }
   ],
   "source": [
    "#splting the elements in the aired column by space\n",
    "anime_data['aired'] = anime_data['aired'].apply(split_column)\n",
    "anime_data['aired']"
   ]
  },
  {
   "cell_type": "code",
   "execution_count": 14,
   "metadata": {},
   "outputs": [
    {
     "data": {
      "text/plain": [
       "['', '3', '1998', '', '', '24', '1999']"
      ]
     },
     "execution_count": 14,
     "metadata": {},
     "output_type": "execute_result"
    }
   ],
   "source": [
    "anime_data['aired'][1]"
   ]
  },
  {
   "cell_type": "code",
   "execution_count": 15,
   "metadata": {},
   "outputs": [],
   "source": [
    "#writing a function to remove all empty spaces in the list\n",
    "def remove_empty(x):\n",
    "    for i in x:\n",
    "        if i == '':\n",
    "            index = x.index(i)\n",
    "            del x[index]\n",
    "    return x        "
   ]
  },
  {
   "cell_type": "code",
   "execution_count": 16,
   "metadata": {},
   "outputs": [],
   "source": [
    "anime_data['aired'] = anime_data['aired'].apply(remove_empty)"
   ]
  },
  {
   "cell_type": "code",
   "execution_count": 17,
   "metadata": {},
   "outputs": [
    {
     "data": {
      "text/plain": [
       "['3', '1998', '', '24', '1999']"
      ]
     },
     "execution_count": 17,
     "metadata": {},
     "output_type": "execute_result"
    }
   ],
   "source": [
    "anime_data['aired'][1]"
   ]
  },
  {
   "cell_type": "code",
   "execution_count": 18,
   "metadata": {},
   "outputs": [],
   "source": [
    "#to further ensure removal of all empty elements\n",
    "anime_data['aired'] = anime_data['aired'].apply(remove_empty)"
   ]
  },
  {
   "cell_type": "code",
   "execution_count": 19,
   "metadata": {},
   "outputs": [
    {
     "data": {
      "text/plain": [
       "['3', '1998', '24', '1999']"
      ]
     },
     "execution_count": 19,
     "metadata": {},
     "output_type": "execute_result"
    }
   ],
   "source": [
    "anime_data['aired'][1]"
   ]
  },
  {
   "cell_type": "code",
   "execution_count": 20,
   "metadata": {},
   "outputs": [],
   "source": [
    "#writing a function that will remove elements in the column that is not a year\n",
    "def not_year(x):\n",
    "    for i in x:\n",
    "        if (int(i) <= 1900) or (i== '?'):\n",
    "            index = x.index(i)\n",
    "            del x[index]\n",
    "    return x"
   ]
  },
  {
   "cell_type": "code",
   "execution_count": 21,
   "metadata": {},
   "outputs": [],
   "source": [
    "anime_data['aired'] = anime_data['aired'].apply(not_year)"
   ]
  },
  {
   "cell_type": "code",
   "execution_count": 22,
   "metadata": {},
   "outputs": [
    {
     "data": {
      "text/plain": [
       "1    [1998, 1999]\n",
       "2          [2001]\n",
       "3    [1998, 1998]\n",
       "4    [2002, 2002]\n",
       "5    [2005, 2008]\n",
       "Name: aired, dtype: object"
      ]
     },
     "execution_count": 22,
     "metadata": {},
     "output_type": "execute_result"
    }
   ],
   "source": [
    "anime_data['aired'][:5]"
   ]
  },
  {
   "cell_type": "code",
   "execution_count": 23,
   "metadata": {},
   "outputs": [],
   "source": [
    "# function that only picks the first year in each row\n",
    "def pick_one(x):\n",
    "        if len(x) > 1:\n",
    "            x = x[0]\n",
    "        elif len(x) == 1:\n",
    "            x = x[0]\n",
    "        return x"
   ]
  },
  {
   "cell_type": "code",
   "execution_count": 24,
   "metadata": {},
   "outputs": [],
   "source": [
    "anime_data['aired'] = anime_data['aired'].apply(pick_one)"
   ]
  },
  {
   "cell_type": "code",
   "execution_count": 25,
   "metadata": {},
   "outputs": [
    {
     "data": {
      "text/plain": [
       "1    1998\n",
       "2    2001\n",
       "3    1998\n",
       "4    2002\n",
       "5    2005\n",
       "Name: aired, dtype: object"
      ]
     },
     "execution_count": 25,
     "metadata": {},
     "output_type": "execute_result"
    }
   ],
   "source": [
    "anime_data['aired'].head()"
   ]
  },
  {
   "cell_type": "code",
   "execution_count": 26,
   "metadata": {},
   "outputs": [],
   "source": [
    "#getting the unique years in the aired column\n",
    "def unique_year(x):\n",
    "    unique = []\n",
    "    for i in x:\n",
    "        if i not in unique:\n",
    "            unique.append(i)\n",
    "    return unique"
   ]
  },
  {
   "cell_type": "code",
   "execution_count": 27,
   "metadata": {},
   "outputs": [
    {
     "data": {
      "text/plain": [
       "['1998',\n",
       " '2001',\n",
       " '2002',\n",
       " '2005',\n",
       " '2004',\n",
       " '1999',\n",
       " '2003',\n",
       " '1995',\n",
       " '1997',\n",
       " '1996',\n",
       " '1988',\n",
       " '1993',\n",
       " '2000',\n",
       " '1979',\n",
       " '1989',\n",
       " '1991',\n",
       " '1985',\n",
       " '1986',\n",
       " '1994',\n",
       " '1992',\n",
       " '1990',\n",
       " '1973',\n",
       " '2006',\n",
       " '1987',\n",
       " '1984',\n",
       " '1983',\n",
       " '1980',\n",
       " '1982',\n",
       " '1977',\n",
       " '1981',\n",
       " '2007',\n",
       " '1971',\n",
       " '1969',\n",
       " '1974',\n",
       " '1975',\n",
       " '2008',\n",
       " '1972',\n",
       " '1970',\n",
       " '1978',\n",
       " '1963',\n",
       " '2009',\n",
       " '2010',\n",
       " '2012',\n",
       " '2011',\n",
       " '2016',\n",
       " '2013',\n",
       " '2014',\n",
       " '2015',\n",
       " '2017',\n",
       " '2018',\n",
       " '2019']"
      ]
     },
     "execution_count": 27,
     "metadata": {},
     "output_type": "execute_result"
    }
   ],
   "source": [
    "b = unique_year(anime_data['aired'])\n",
    "b"
   ]
  },
  {
   "cell_type": "markdown",
   "metadata": {},
   "source": [
    "As you can see from the unique values there are empty list, so they have to be removed. That is why unique() attribute could not be used to get the unique values"
   ]
  },
  {
   "cell_type": "code",
   "execution_count": 28,
   "metadata": {},
   "outputs": [],
   "source": [
    "#a function that removes empty list\n",
    "def remove_empty_list(x):\n",
    "    if x != []:\n",
    "        return x"
   ]
  },
  {
   "cell_type": "code",
   "execution_count": 29,
   "metadata": {},
   "outputs": [
    {
     "data": {
      "text/plain": [
       "1       1998\n",
       "2       2001\n",
       "3       1998\n",
       "4       2002\n",
       "5       2005\n",
       "        ... \n",
       "3181    2018\n",
       "3182    2018\n",
       "3183    2018\n",
       "3184    2018\n",
       "3185    2019\n",
       "Name: aired, Length: 3185, dtype: object"
      ]
     },
     "execution_count": 29,
     "metadata": {},
     "output_type": "execute_result"
    }
   ],
   "source": [
    "anime_data['aired'] =  anime_data['aired'].apply(remove_empty_list)\n",
    "anime_data['aired']"
   ]
  },
  {
   "cell_type": "code",
   "execution_count": 30,
   "metadata": {},
   "outputs": [
    {
     "name": "stdout",
     "output_type": "stream",
     "text": [
      "51\n"
     ]
    },
    {
     "data": {
      "text/plain": [
       "array(['1998', '2001', '2002', '2005', '2004', '1999', '2003', '1995',\n",
       "       '1997', '1996', '1988', '1993', '2000', '1979', '1989', '1991',\n",
       "       '1985', '1986', '1994', '1992', '1990', '1973', '2006', '1987',\n",
       "       '1984', '1983', '1980', '1982', '1977', '1981', '2007', '1971',\n",
       "       '1969', '1974', '1975', '2008', '1972', '1970', '1978', '1963',\n",
       "       '2009', '2010', '2012', '2011', '2016', '2013', '2014', '2015',\n",
       "       '2017', '2018', '2019'], dtype=object)"
      ]
     },
     "execution_count": 30,
     "metadata": {},
     "output_type": "execute_result"
    }
   ],
   "source": [
    "print(anime_data['aired'].nunique())\n",
    "anime_data['aired'].unique()"
   ]
  },
  {
   "cell_type": "code",
   "execution_count": 31,
   "metadata": {},
   "outputs": [
    {
     "data": {
      "text/plain": [
       "title        object\n",
       "rating      float64\n",
       "scoredby      int64\n",
       "members       int64\n",
       "aired        object\n",
       "dtype: object"
      ]
     },
     "execution_count": 31,
     "metadata": {},
     "output_type": "execute_result"
    }
   ],
   "source": [
    "anime_data.dtypes"
   ]
  },
  {
   "cell_type": "code",
   "execution_count": 32,
   "metadata": {},
   "outputs": [],
   "source": [
    "#converting the type of aired column to int\n",
    "anime_data['aired'] = anime_data['aired'].astype('int')"
   ]
  },
  {
   "cell_type": "code",
   "execution_count": 33,
   "metadata": {},
   "outputs": [
    {
     "data": {
      "text/plain": [
       "title        object\n",
       "rating      float64\n",
       "scoredby      int64\n",
       "members       int64\n",
       "aired         int64\n",
       "dtype: object"
      ]
     },
     "execution_count": 33,
     "metadata": {},
     "output_type": "execute_result"
    }
   ],
   "source": [
    "anime_data.dtypes"
   ]
  },
  {
   "cell_type": "code",
   "execution_count": 34,
   "metadata": {},
   "outputs": [
    {
     "data": {
      "text/html": [
       "<div>\n",
       "<style scoped>\n",
       "    .dataframe tbody tr th:only-of-type {\n",
       "        vertical-align: middle;\n",
       "    }\n",
       "\n",
       "    .dataframe tbody tr th {\n",
       "        vertical-align: top;\n",
       "    }\n",
       "\n",
       "    .dataframe thead th {\n",
       "        text-align: right;\n",
       "    }\n",
       "</style>\n",
       "<table border=\"1\" class=\"dataframe\">\n",
       "  <thead>\n",
       "    <tr style=\"text-align: right;\">\n",
       "      <th></th>\n",
       "      <th>title</th>\n",
       "      <th>rating</th>\n",
       "      <th>scoredby</th>\n",
       "      <th>members</th>\n",
       "      <th>aired</th>\n",
       "    </tr>\n",
       "  </thead>\n",
       "  <tbody>\n",
       "    <tr>\n",
       "      <th>1</th>\n",
       "      <td>Cowboy Bebop</td>\n",
       "      <td>8.81</td>\n",
       "      <td>363889</td>\n",
       "      <td>704490</td>\n",
       "      <td>1998</td>\n",
       "    </tr>\n",
       "    <tr>\n",
       "      <th>2</th>\n",
       "      <td>Cowboy Bebop Tengoku no Tobira</td>\n",
       "      <td>8.41</td>\n",
       "      <td>111187</td>\n",
       "      <td>179899</td>\n",
       "      <td>2001</td>\n",
       "    </tr>\n",
       "    <tr>\n",
       "      <th>3</th>\n",
       "      <td>Trigun</td>\n",
       "      <td>8.31</td>\n",
       "      <td>197451</td>\n",
       "      <td>372709</td>\n",
       "      <td>1998</td>\n",
       "    </tr>\n",
       "  </tbody>\n",
       "</table>\n",
       "</div>"
      ],
      "text/plain": [
       "                            title  rating  scoredby  members  aired\n",
       "1                    Cowboy Bebop    8.81    363889   704490   1998\n",
       "2  Cowboy Bebop Tengoku no Tobira    8.41    111187   179899   2001\n",
       "3                          Trigun    8.31    197451   372709   1998"
      ]
     },
     "execution_count": 34,
     "metadata": {},
     "output_type": "execute_result"
    }
   ],
   "source": [
    "#viewing the data\n",
    "anime_data.head(3)"
   ]
  },
  {
   "cell_type": "code",
   "execution_count": 35,
   "metadata": {},
   "outputs": [
    {
     "data": {
      "text/html": [
       "<div>\n",
       "<style scoped>\n",
       "    .dataframe tbody tr th:only-of-type {\n",
       "        vertical-align: middle;\n",
       "    }\n",
       "\n",
       "    .dataframe tbody tr th {\n",
       "        vertical-align: top;\n",
       "    }\n",
       "\n",
       "    .dataframe thead th {\n",
       "        text-align: right;\n",
       "    }\n",
       "</style>\n",
       "<table border=\"1\" class=\"dataframe\">\n",
       "  <thead>\n",
       "    <tr style=\"text-align: right;\">\n",
       "      <th></th>\n",
       "      <th>aired</th>\n",
       "      <th>count</th>\n",
       "    </tr>\n",
       "  </thead>\n",
       "  <tbody>\n",
       "    <tr>\n",
       "      <th>46</th>\n",
       "      <td>2015</td>\n",
       "      <td>234</td>\n",
       "    </tr>\n",
       "    <tr>\n",
       "      <th>47</th>\n",
       "      <td>2016</td>\n",
       "      <td>263</td>\n",
       "    </tr>\n",
       "    <tr>\n",
       "      <th>48</th>\n",
       "      <td>2017</td>\n",
       "      <td>220</td>\n",
       "    </tr>\n",
       "    <tr>\n",
       "      <th>49</th>\n",
       "      <td>2018</td>\n",
       "      <td>79</td>\n",
       "    </tr>\n",
       "    <tr>\n",
       "      <th>50</th>\n",
       "      <td>2019</td>\n",
       "      <td>1</td>\n",
       "    </tr>\n",
       "  </tbody>\n",
       "</table>\n",
       "</div>"
      ],
      "text/plain": [
       "    aired  count\n",
       "46   2015    234\n",
       "47   2016    263\n",
       "48   2017    220\n",
       "49   2018     79\n",
       "50   2019      1"
      ]
     },
     "execution_count": 35,
     "metadata": {},
     "output_type": "execute_result"
    }
   ],
   "source": [
    "#a dataframe for the count of unique years\n",
    "year_count = pd.DataFrame(anime_data.groupby('aired')['aired'].count())\n",
    "year_count.rename(columns = {'aired':'count'}, inplace =True)\n",
    "year_count = year_count.reset_index()\n",
    "year_count.tail()"
   ]
  },
  {
   "cell_type": "code",
   "execution_count": 36,
   "metadata": {},
   "outputs": [
    {
     "data": {
      "text/html": [
       "<div>\n",
       "<style scoped>\n",
       "    .dataframe tbody tr th:only-of-type {\n",
       "        vertical-align: middle;\n",
       "    }\n",
       "\n",
       "    .dataframe tbody tr th {\n",
       "        vertical-align: top;\n",
       "    }\n",
       "\n",
       "    .dataframe thead th {\n",
       "        text-align: right;\n",
       "    }\n",
       "</style>\n",
       "<table border=\"1\" class=\"dataframe\">\n",
       "  <thead>\n",
       "    <tr style=\"text-align: right;\">\n",
       "      <th></th>\n",
       "      <th>aired</th>\n",
       "      <th>count</th>\n",
       "    </tr>\n",
       "  </thead>\n",
       "  <tbody>\n",
       "    <tr>\n",
       "      <th>0</th>\n",
       "      <td>1963</td>\n",
       "      <td>1</td>\n",
       "    </tr>\n",
       "    <tr>\n",
       "      <th>1</th>\n",
       "      <td>1969</td>\n",
       "      <td>1</td>\n",
       "    </tr>\n",
       "    <tr>\n",
       "      <th>2</th>\n",
       "      <td>1970</td>\n",
       "      <td>1</td>\n",
       "    </tr>\n",
       "    <tr>\n",
       "      <th>3</th>\n",
       "      <td>1971</td>\n",
       "      <td>1</td>\n",
       "    </tr>\n",
       "    <tr>\n",
       "      <th>4</th>\n",
       "      <td>1972</td>\n",
       "      <td>2</td>\n",
       "    </tr>\n",
       "  </tbody>\n",
       "</table>\n",
       "</div>"
      ],
      "text/plain": [
       "   aired  count\n",
       "0   1963      1\n",
       "1   1969      1\n",
       "2   1970      1\n",
       "3   1971      1\n",
       "4   1972      2"
      ]
     },
     "execution_count": 36,
     "metadata": {},
     "output_type": "execute_result"
    }
   ],
   "source": [
    "year_count.head()"
   ]
  },
  {
   "cell_type": "markdown",
   "metadata": {},
   "source": [
    "#  Calculating the weighted average of each anime in our data"
   ]
  },
  {
   "cell_type": "markdown",
   "metadata": {},
   "source": [
    "Using the Weighted Average Formula AND the members column based on popularity\n",
    "WR = (RV + Cm/V+m) where:\n",
    "- V is the number of votes\n",
    "- m is minimum votes required to be listed\n",
    "- R is rating average of the anime\n",
    "- C is mean vote across whole report"
   ]
  },
  {
   "cell_type": "code",
   "execution_count": 37,
   "metadata": {},
   "outputs": [],
   "source": [
    "#finding the weighted average for each anime\n",
    "V = anime_data['scoredby']                       #number of votes for each anime\n",
    "R = anime_data['rating']                     #average voting rating for each anime\n",
    "C = anime_data['rating'].mean()              #mean vote across the whole report\n",
    "m = anime_data['scoredby'].quantile(0.80)        #minimum votes requires to be among the top \n",
    "\n",
    "anime_data['weighted_avg'] = ((R*V)+(C*m))/(V+m)     #used by imdb to calculate weighted average of movies"
   ]
  },
  {
   "cell_type": "code",
   "execution_count": 38,
   "metadata": {},
   "outputs": [
    {
     "data": {
      "text/html": [
       "<div>\n",
       "<style scoped>\n",
       "    .dataframe tbody tr th:only-of-type {\n",
       "        vertical-align: middle;\n",
       "    }\n",
       "\n",
       "    .dataframe tbody tr th {\n",
       "        vertical-align: top;\n",
       "    }\n",
       "\n",
       "    .dataframe thead th {\n",
       "        text-align: right;\n",
       "    }\n",
       "</style>\n",
       "<table border=\"1\" class=\"dataframe\">\n",
       "  <thead>\n",
       "    <tr style=\"text-align: right;\">\n",
       "      <th></th>\n",
       "      <th>title</th>\n",
       "      <th>rating</th>\n",
       "      <th>scoredby</th>\n",
       "      <th>members</th>\n",
       "      <th>aired</th>\n",
       "      <th>weighted_avg</th>\n",
       "    </tr>\n",
       "  </thead>\n",
       "  <tbody>\n",
       "    <tr>\n",
       "      <th>1</th>\n",
       "      <td>Cowboy Bebop</td>\n",
       "      <td>8.81</td>\n",
       "      <td>363889</td>\n",
       "      <td>704490</td>\n",
       "      <td>1998</td>\n",
       "      <td>8.602928</td>\n",
       "    </tr>\n",
       "    <tr>\n",
       "      <th>2</th>\n",
       "      <td>Cowboy Bebop Tengoku no Tobira</td>\n",
       "      <td>8.41</td>\n",
       "      <td>111187</td>\n",
       "      <td>179899</td>\n",
       "      <td>2001</td>\n",
       "      <td>8.016863</td>\n",
       "    </tr>\n",
       "  </tbody>\n",
       "</table>\n",
       "</div>"
      ],
      "text/plain": [
       "                            title  rating  scoredby  members  aired  \\\n",
       "1                    Cowboy Bebop    8.81    363889   704490   1998   \n",
       "2  Cowboy Bebop Tengoku no Tobira    8.41    111187   179899   2001   \n",
       "\n",
       "   weighted_avg  \n",
       "1      8.602928  \n",
       "2      8.016863  "
      ]
     },
     "execution_count": 38,
     "metadata": {},
     "output_type": "execute_result"
    }
   ],
   "source": [
    "anime_data.head(2)"
   ]
  },
  {
   "cell_type": "code",
   "execution_count": 39,
   "metadata": {},
   "outputs": [
    {
     "data": {
      "text/html": [
       "<div>\n",
       "<style scoped>\n",
       "    .dataframe tbody tr th:only-of-type {\n",
       "        vertical-align: middle;\n",
       "    }\n",
       "\n",
       "    .dataframe tbody tr th {\n",
       "        vertical-align: top;\n",
       "    }\n",
       "\n",
       "    .dataframe thead th {\n",
       "        text-align: right;\n",
       "    }\n",
       "</style>\n",
       "<table border=\"1\" class=\"dataframe\">\n",
       "  <thead>\n",
       "    <tr style=\"text-align: right;\">\n",
       "      <th></th>\n",
       "      <th>title</th>\n",
       "      <th>rating</th>\n",
       "      <th>scoredby</th>\n",
       "      <th>members</th>\n",
       "      <th>aired</th>\n",
       "      <th>weighted_avg</th>\n",
       "    </tr>\n",
       "  </thead>\n",
       "  <tbody>\n",
       "    <tr>\n",
       "      <th>1358</th>\n",
       "      <td>Fullmetal Alchemist Brotherhood</td>\n",
       "      <td>9.25</td>\n",
       "      <td>730784</td>\n",
       "      <td>1194518</td>\n",
       "      <td>2009</td>\n",
       "      <td>9.109469</td>\n",
       "    </tr>\n",
       "    <tr>\n",
       "      <th>2766</th>\n",
       "      <td>Kimi no Na wa.</td>\n",
       "      <td>9.19</td>\n",
       "      <td>467437</td>\n",
       "      <td>724490</td>\n",
       "      <td>2016</td>\n",
       "      <td>8.984706</td>\n",
       "    </tr>\n",
       "    <tr>\n",
       "      <th>1629</th>\n",
       "      <td>Steins;Gate</td>\n",
       "      <td>9.14</td>\n",
       "      <td>561405</td>\n",
       "      <td>1005781</td>\n",
       "      <td>2011</td>\n",
       "      <td>8.970440</td>\n",
       "    </tr>\n",
       "    <tr>\n",
       "      <th>1785</th>\n",
       "      <td>Hunter x Hunter 2011</td>\n",
       "      <td>9.11</td>\n",
       "      <td>400879</td>\n",
       "      <td>716409</td>\n",
       "      <td>2011</td>\n",
       "      <td>8.884161</td>\n",
       "    </tr>\n",
       "    <tr>\n",
       "      <th>1127</th>\n",
       "      <td>Code Geass Hangyaku no Lelouch R2</td>\n",
       "      <td>8.95</td>\n",
       "      <td>541989</td>\n",
       "      <td>788845</td>\n",
       "      <td>2008</td>\n",
       "      <td>8.792127</td>\n",
       "    </tr>\n",
       "  </tbody>\n",
       "</table>\n",
       "</div>"
      ],
      "text/plain": [
       "                                  title  rating  scoredby  members  aired  \\\n",
       "1358    Fullmetal Alchemist Brotherhood    9.25    730784  1194518   2009   \n",
       "2766                     Kimi no Na wa.    9.19    467437   724490   2016   \n",
       "1629                        Steins;Gate    9.14    561405  1005781   2011   \n",
       "1785               Hunter x Hunter 2011    9.11    400879   716409   2011   \n",
       "1127  Code Geass Hangyaku no Lelouch R2    8.95    541989   788845   2008   \n",
       "\n",
       "      weighted_avg  \n",
       "1358      9.109469  \n",
       "2766      8.984706  \n",
       "1629      8.970440  \n",
       "1785      8.884161  \n",
       "1127      8.792127  "
      ]
     },
     "execution_count": 39,
     "metadata": {},
     "output_type": "execute_result"
    }
   ],
   "source": [
    "#showing the top 10 anime with the highest weighted average\n",
    "total_anime = anime_data.copy()\n",
    "wavg = total_anime.sort_values('weighted_avg', ascending = False)\n",
    "wavg.head()"
   ]
  },
  {
   "cell_type": "markdown",
   "metadata": {},
   "source": [
    "# Recommending Anime according to the best in their year group using the combination of weighted average ratings, members and popularity"
   ]
  },
  {
   "cell_type": "code",
   "execution_count": 40,
   "metadata": {},
   "outputs": [],
   "source": [
    "#normalizing the weighted average and popularity column\n",
    "\n",
    "from sklearn import preprocessing\n",
    "\n",
    "min_max_scaler = preprocessing.MinMaxScaler()"
   ]
  },
  {
   "cell_type": "markdown",
   "metadata": {},
   "source": [
    "### Defining all the functions that will help with this recommendation"
   ]
  },
  {
   "cell_type": "code",
   "execution_count": 41,
   "metadata": {},
   "outputs": [],
   "source": [
    "#function to create group dataframes \n",
    "def create_group(first,last):\n",
    "    group = pd.DataFrame(anime_data.loc[(anime_data['aired'] >= first) & (anime_data['aired'] <= last)])\n",
    "    #changing the index to allow for easy joining of the dataframes later\n",
    "    group.index = [x for x in range(group.shape[0])]\n",
    "    return group"
   ]
  },
  {
   "cell_type": "code",
   "execution_count": 42,
   "metadata": {},
   "outputs": [],
   "source": [
    "#function to normalize the weighted average, popularity and membrs\n",
    "def norm(group):\n",
    "    data_scaled = min_max_scaler.fit_transform(group[['weighted_avg','members']])\n",
    "    data_norm = pd.DataFrame(data_scaled, columns = ['weighted_avg','members'])\n",
    "    return data_norm"
   ]
  },
  {
   "cell_type": "code",
   "execution_count": 43,
   "metadata": {},
   "outputs": [],
   "source": [
    "#function to create a score value that splits scaled weighted_avg, popularity and members\n",
    "def create_score(group,data_norm):\n",
    "    group[['norm_weighted_avg','norm_members']] = data_norm\n",
    "    group['score'] = group['norm_weighted_avg']*0.5 + group['norm_members']*0.5\n",
    "    data_scored = group.sort_values(['score'], ascending=False)\n",
    "    return data_scored"
   ]
  },
  {
   "cell_type": "code",
   "execution_count": 44,
   "metadata": {},
   "outputs": [],
   "source": [
    "#a function to show normalized features and the new score  feature\n",
    "def show_normalized(data):\n",
    "    return data[['title','norm_weighted_avg','norm_members','score']].head()"
   ]
  },
  {
   "cell_type": "code",
   "execution_count": 45,
   "metadata": {},
   "outputs": [],
   "source": [
    "#a function to plot the top anime according to a split between weighted avg, members and popularity\n",
    "def plot(data,first,last):\n",
    "    plt.figure(figsize=(18,8))\n",
    "\n",
    "    ax = sns.barplot(x = data['score'].head(10), y = data['title'].head(10), data = data, palette='Set2')\n",
    "\n",
    "\n",
    "    plt.title('Best anime between years {} and {}'.format (first,last), weight = 'bold')\n",
    "    plt.xlabel('Score', weight = 'bold')\n",
    "    plt.ylabel('Anime Title', weight = 'bold')\n",
    "\n",
    "#plt.savefig('scored.png')"
   ]
  },
  {
   "cell_type": "markdown",
   "metadata": {},
   "source": [
    "### Group1 recommendation (1960 to 1979)"
   ]
  },
  {
   "cell_type": "code",
   "execution_count": 46,
   "metadata": {},
   "outputs": [
    {
     "data": {
      "text/plain": [
       "(19, 6)"
      ]
     },
     "execution_count": 46,
     "metadata": {},
     "output_type": "execute_result"
    }
   ],
   "source": [
    "group_1 = create_group(1960,1979)\n",
    "group_1.shape"
   ]
  },
  {
   "cell_type": "code",
   "execution_count": 47,
   "metadata": {},
   "outputs": [],
   "source": [
    "data_norm_1 = norm(group_1)"
   ]
  },
  {
   "cell_type": "code",
   "execution_count": 48,
   "metadata": {},
   "outputs": [],
   "source": [
    "data_scored_1 = create_score(group_1,data_norm_1)"
   ]
  },
  {
   "cell_type": "code",
   "execution_count": 49,
   "metadata": {},
   "outputs": [
    {
     "data": {
      "text/html": [
       "<div>\n",
       "<style scoped>\n",
       "    .dataframe tbody tr th:only-of-type {\n",
       "        vertical-align: middle;\n",
       "    }\n",
       "\n",
       "    .dataframe tbody tr th {\n",
       "        vertical-align: top;\n",
       "    }\n",
       "\n",
       "    .dataframe thead th {\n",
       "        text-align: right;\n",
       "    }\n",
       "</style>\n",
       "<table border=\"1\" class=\"dataframe\">\n",
       "  <thead>\n",
       "    <tr style=\"text-align: right;\">\n",
       "      <th></th>\n",
       "      <th>title</th>\n",
       "      <th>norm_weighted_avg</th>\n",
       "      <th>norm_members</th>\n",
       "      <th>score</th>\n",
       "    </tr>\n",
       "  </thead>\n",
       "  <tbody>\n",
       "    <tr>\n",
       "      <th>0</th>\n",
       "      <td>Mobile Suit Gundam</td>\n",
       "      <td>0.966683</td>\n",
       "      <td>1.000000</td>\n",
       "      <td>0.983342</td>\n",
       "    </tr>\n",
       "    <tr>\n",
       "      <th>2</th>\n",
       "      <td>Versailles no Bara</td>\n",
       "      <td>1.000000</td>\n",
       "      <td>0.641660</td>\n",
       "      <td>0.820830</td>\n",
       "    </tr>\n",
       "    <tr>\n",
       "      <th>4</th>\n",
       "      <td>Lupin III</td>\n",
       "      <td>0.539173</td>\n",
       "      <td>0.687803</td>\n",
       "      <td>0.613488</td>\n",
       "    </tr>\n",
       "    <tr>\n",
       "      <th>13</th>\n",
       "      <td>Ashita no Joe</td>\n",
       "      <td>0.495822</td>\n",
       "      <td>0.402287</td>\n",
       "      <td>0.449055</td>\n",
       "    </tr>\n",
       "    <tr>\n",
       "      <th>14</th>\n",
       "      <td>Doraemon 1979</td>\n",
       "      <td>0.349467</td>\n",
       "      <td>0.261710</td>\n",
       "      <td>0.305588</td>\n",
       "    </tr>\n",
       "  </tbody>\n",
       "</table>\n",
       "</div>"
      ],
      "text/plain": [
       "                 title  norm_weighted_avg  norm_members     score\n",
       "0   Mobile Suit Gundam           0.966683      1.000000  0.983342\n",
       "2   Versailles no Bara           1.000000      0.641660  0.820830\n",
       "4            Lupin III           0.539173      0.687803  0.613488\n",
       "13       Ashita no Joe           0.495822      0.402287  0.449055\n",
       "14       Doraemon 1979           0.349467      0.261710  0.305588"
      ]
     },
     "execution_count": 49,
     "metadata": {},
     "output_type": "execute_result"
    }
   ],
   "source": [
    "show_normalized(data_scored_1)"
   ]
  },
  {
   "cell_type": "code",
   "execution_count": 50,
   "metadata": {},
   "outputs": [
    {
     "data": {
      "image/png": "[encoded data removed]",
      "text/plain": [
       "<Figure size 1296x576 with 1 Axes>"
      ]
     },
     "metadata": {
      "needs_background": "light"
     },
     "output_type": "display_data"
    }
   ],
   "source": [
    "plot(data_scored_1,1960,1979)"
   ]
  },
  {
   "cell_type": "markdown",
   "metadata": {},
   "source": [
    "### Group2 recommendation (1980 to 1989)"
   ]
  },
  {
   "cell_type": "code",
   "execution_count": 51,
   "metadata": {},
   "outputs": [
    {
     "data": {
      "text/plain": [
       "(111, 6)"
      ]
     },
     "execution_count": 51,
     "metadata": {},
     "output_type": "execute_result"
    }
   ],
   "source": [
    "group_2 = create_group(1980,1989)\n",
    "group_2.shape"
   ]
  },
  {
   "cell_type": "code",
   "execution_count": 52,
   "metadata": {},
   "outputs": [],
   "source": [
    "data_norm_2 = norm(group_2)"
   ]
  },
  {
   "cell_type": "code",
   "execution_count": 53,
   "metadata": {},
   "outputs": [],
   "source": [
    "data_scored_2 = create_score(group_2,data_norm_2)"
   ]
  },
  {
   "cell_type": "code",
   "execution_count": 54,
   "metadata": {},
   "outputs": [
    {
     "data": {
      "text/html": [
       "<div>\n",
       "<style scoped>\n",
       "    .dataframe tbody tr th:only-of-type {\n",
       "        vertical-align: middle;\n",
       "    }\n",
       "\n",
       "    .dataframe tbody tr th {\n",
       "        vertical-align: top;\n",
       "    }\n",
       "\n",
       "    .dataframe thead th {\n",
       "        text-align: right;\n",
       "    }\n",
       "</style>\n",
       "<table border=\"1\" class=\"dataframe\">\n",
       "  <thead>\n",
       "    <tr style=\"text-align: right;\">\n",
       "      <th></th>\n",
       "      <th>title</th>\n",
       "      <th>norm_weighted_avg</th>\n",
       "      <th>norm_members</th>\n",
       "      <th>score</th>\n",
       "    </tr>\n",
       "  </thead>\n",
       "  <tbody>\n",
       "    <tr>\n",
       "      <th>15</th>\n",
       "      <td>Tonari no Totoro</td>\n",
       "      <td>1.000000</td>\n",
       "      <td>0.911018</td>\n",
       "      <td>0.955509</td>\n",
       "    </tr>\n",
       "    <tr>\n",
       "      <th>7</th>\n",
       "      <td>Dragon Ball</td>\n",
       "      <td>0.798971</td>\n",
       "      <td>1.000000</td>\n",
       "      <td>0.899486</td>\n",
       "    </tr>\n",
       "    <tr>\n",
       "      <th>0</th>\n",
       "      <td>Akira</td>\n",
       "      <td>0.756120</td>\n",
       "      <td>0.696179</td>\n",
       "      <td>0.726150</td>\n",
       "    </tr>\n",
       "    <tr>\n",
       "      <th>17</th>\n",
       "      <td>Kaze no Tani no Nausica</td>\n",
       "      <td>0.863084</td>\n",
       "      <td>0.421480</td>\n",
       "      <td>0.642282</td>\n",
       "    </tr>\n",
       "    <tr>\n",
       "      <th>5</th>\n",
       "      <td>Ranma</td>\n",
       "      <td>0.413867</td>\n",
       "      <td>0.300138</td>\n",
       "      <td>0.357003</td>\n",
       "    </tr>\n",
       "  </tbody>\n",
       "</table>\n",
       "</div>"
      ],
      "text/plain": [
       "                      title  norm_weighted_avg  norm_members     score\n",
       "15         Tonari no Totoro           1.000000      0.911018  0.955509\n",
       "7               Dragon Ball           0.798971      1.000000  0.899486\n",
       "0                     Akira           0.756120      0.696179  0.726150\n",
       "17  Kaze no Tani no Nausica           0.863084      0.421480  0.642282\n",
       "5                    Ranma            0.413867      0.300138  0.357003"
      ]
     },
     "execution_count": 54,
     "metadata": {},
     "output_type": "execute_result"
    }
   ],
   "source": [
    "show_normalized(data_scored_2)"
   ]
  },
  {
   "cell_type": "code",
   "execution_count": 55,
   "metadata": {},
   "outputs": [
    {
     "data": {
      "image/png": "[encoded data removed]",
      "text/plain": [
       "<Figure size 1296x576 with 1 Axes>"
      ]
     },
     "metadata": {
      "needs_background": "light"
     },
     "output_type": "display_data"
    }
   ],
   "source": [
    "plot(data_scored_2,1980,1989)"
   ]
  },
  {
   "cell_type": "markdown",
   "metadata": {},
   "source": [
    "### Group3 recommendation (1990 to 1999)"
   ]
  },
  {
   "cell_type": "code",
   "execution_count": 56,
   "metadata": {},
   "outputs": [
    {
     "data": {
      "text/plain": [
       "(314, 6)"
      ]
     },
     "execution_count": 56,
     "metadata": {},
     "output_type": "execute_result"
    }
   ],
   "source": [
    "group_3 = create_group(1990,1999)\n",
    "group_3.shape"
   ]
  },
  {
   "cell_type": "code",
   "execution_count": 57,
   "metadata": {},
   "outputs": [],
   "source": [
    "data_norm_3 = norm(group_3)"
   ]
  },
  {
   "cell_type": "code",
   "execution_count": 58,
   "metadata": {},
   "outputs": [],
   "source": [
    "data_scored_3 = create_score(group_3,data_norm_3)"
   ]
  },
  {
   "cell_type": "code",
   "execution_count": 59,
   "metadata": {},
   "outputs": [
    {
     "data": {
      "text/html": [
       "<div>\n",
       "<style scoped>\n",
       "    .dataframe tbody tr th:only-of-type {\n",
       "        vertical-align: middle;\n",
       "    }\n",
       "\n",
       "    .dataframe tbody tr th {\n",
       "        vertical-align: top;\n",
       "    }\n",
       "\n",
       "    .dataframe thead th {\n",
       "        text-align: right;\n",
       "    }\n",
       "</style>\n",
       "<table border=\"1\" class=\"dataframe\">\n",
       "  <thead>\n",
       "    <tr style=\"text-align: right;\">\n",
       "      <th></th>\n",
       "      <th>title</th>\n",
       "      <th>norm_weighted_avg</th>\n",
       "      <th>norm_members</th>\n",
       "      <th>score</th>\n",
       "    </tr>\n",
       "  </thead>\n",
       "  <tbody>\n",
       "    <tr>\n",
       "      <th>0</th>\n",
       "      <td>Cowboy Bebop</td>\n",
       "      <td>1.000000</td>\n",
       "      <td>0.982995</td>\n",
       "      <td>0.991498</td>\n",
       "    </tr>\n",
       "    <tr>\n",
       "      <th>2</th>\n",
       "      <td>One Piece</td>\n",
       "      <td>0.882454</td>\n",
       "      <td>1.000000</td>\n",
       "      <td>0.941227</td>\n",
       "    </tr>\n",
       "    <tr>\n",
       "      <th>36</th>\n",
       "      <td>Mononoke Hime</td>\n",
       "      <td>0.986182</td>\n",
       "      <td>0.705690</td>\n",
       "      <td>0.845936</td>\n",
       "    </tr>\n",
       "    <tr>\n",
       "      <th>3</th>\n",
       "      <td>Neon Genesis Evangelion</td>\n",
       "      <td>0.765508</td>\n",
       "      <td>0.891251</td>\n",
       "      <td>0.828379</td>\n",
       "    </tr>\n",
       "    <tr>\n",
       "      <th>50</th>\n",
       "      <td>Great Teacher Onizuka</td>\n",
       "      <td>0.886676</td>\n",
       "      <td>0.500706</td>\n",
       "      <td>0.693691</td>\n",
       "    </tr>\n",
       "  </tbody>\n",
       "</table>\n",
       "</div>"
      ],
      "text/plain": [
       "                      title  norm_weighted_avg  norm_members     score\n",
       "0              Cowboy Bebop           1.000000      0.982995  0.991498\n",
       "2                 One Piece           0.882454      1.000000  0.941227\n",
       "36            Mononoke Hime           0.986182      0.705690  0.845936\n",
       "3   Neon Genesis Evangelion           0.765508      0.891251  0.828379\n",
       "50    Great Teacher Onizuka           0.886676      0.500706  0.693691"
      ]
     },
     "execution_count": 59,
     "metadata": {},
     "output_type": "execute_result"
    }
   ],
   "source": [
    "show_normalized(data_scored_3)"
   ]
  },
  {
   "cell_type": "code",
   "execution_count": 60,
   "metadata": {},
   "outputs": [
    {
     "data": {
      "image/png": "[encoded data removed]",
      "text/plain": [
       "<Figure size 1296x576 with 1 Axes>"
      ]
     },
     "metadata": {
      "needs_background": "light"
     },
     "output_type": "display_data"
    }
   ],
   "source": [
    "plot(data_scored_3,1990,1999)"
   ]
  },
  {
   "cell_type": "markdown",
   "metadata": {},
   "source": [
    "### Group4 recommendation (2000 to 2009)"
   ]
  },
  {
   "cell_type": "code",
   "execution_count": 61,
   "metadata": {},
   "outputs": [
    {
     "data": {
      "text/plain": [
       "(1053, 6)"
      ]
     },
     "execution_count": 61,
     "metadata": {},
     "output_type": "execute_result"
    }
   ],
   "source": [
    "group_4 = create_group(2000,2009)\n",
    "group_4.shape"
   ]
  },
  {
   "cell_type": "code",
   "execution_count": 62,
   "metadata": {},
   "outputs": [],
   "source": [
    "data_norm_4 = norm(group_4)"
   ]
  },
  {
   "cell_type": "code",
   "execution_count": 63,
   "metadata": {},
   "outputs": [],
   "source": [
    "data_scored_4 = create_score(group_4,data_norm_4)"
   ]
  },
  {
   "cell_type": "code",
   "execution_count": 64,
   "metadata": {},
   "outputs": [
    {
     "data": {
      "text/html": [
       "<div>\n",
       "<style scoped>\n",
       "    .dataframe tbody tr th:only-of-type {\n",
       "        vertical-align: middle;\n",
       "    }\n",
       "\n",
       "    .dataframe tbody tr th {\n",
       "        vertical-align: top;\n",
       "    }\n",
       "\n",
       "    .dataframe thead th {\n",
       "        text-align: right;\n",
       "    }\n",
       "</style>\n",
       "<table border=\"1\" class=\"dataframe\">\n",
       "  <thead>\n",
       "    <tr style=\"text-align: right;\">\n",
       "      <th></th>\n",
       "      <th>title</th>\n",
       "      <th>norm_weighted_avg</th>\n",
       "      <th>norm_members</th>\n",
       "      <th>score</th>\n",
       "    </tr>\n",
       "  </thead>\n",
       "  <tbody>\n",
       "    <tr>\n",
       "      <th>478</th>\n",
       "      <td>Death Note</td>\n",
       "      <td>0.849451</td>\n",
       "      <td>1.000000</td>\n",
       "      <td>0.924726</td>\n",
       "    </tr>\n",
       "    <tr>\n",
       "      <th>918</th>\n",
       "      <td>Fullmetal Alchemist Brotherhood</td>\n",
       "      <td>1.000000</td>\n",
       "      <td>0.822624</td>\n",
       "      <td>0.911312</td>\n",
       "    </tr>\n",
       "    <tr>\n",
       "      <th>493</th>\n",
       "      <td>Code Geass Hangyaku no Lelouch</td>\n",
       "      <td>0.869581</td>\n",
       "      <td>0.677211</td>\n",
       "      <td>0.773396</td>\n",
       "    </tr>\n",
       "    <tr>\n",
       "      <th>721</th>\n",
       "      <td>Code Geass Hangyaku no Lelouch R2</td>\n",
       "      <td>0.907043</td>\n",
       "      <td>0.542843</td>\n",
       "      <td>0.724943</td>\n",
       "    </tr>\n",
       "    <tr>\n",
       "      <th>608</th>\n",
       "      <td>Tengen Toppa Gurren Lagann</td>\n",
       "      <td>0.843514</td>\n",
       "      <td>0.540230</td>\n",
       "      <td>0.691872</td>\n",
       "    </tr>\n",
       "  </tbody>\n",
       "</table>\n",
       "</div>"
      ],
      "text/plain": [
       "                                 title  norm_weighted_avg  norm_members  \\\n",
       "478                         Death Note           0.849451      1.000000   \n",
       "918    Fullmetal Alchemist Brotherhood           1.000000      0.822624   \n",
       "493     Code Geass Hangyaku no Lelouch           0.869581      0.677211   \n",
       "721  Code Geass Hangyaku no Lelouch R2           0.907043      0.542843   \n",
       "608         Tengen Toppa Gurren Lagann           0.843514      0.540230   \n",
       "\n",
       "        score  \n",
       "478  0.924726  \n",
       "918  0.911312  \n",
       "493  0.773396  \n",
       "721  0.724943  \n",
       "608  0.691872  "
      ]
     },
     "execution_count": 64,
     "metadata": {},
     "output_type": "execute_result"
    }
   ],
   "source": [
    "show_normalized(data_scored_4)"
   ]
  },
  {
   "cell_type": "code",
   "execution_count": 65,
   "metadata": {},
   "outputs": [
    {
     "data": {
      "image/png": "[encoded data removed]",
      "text/plain": [
       "<Figure size 1296x576 with 1 Axes>"
      ]
     },
     "metadata": {
      "needs_background": "light"
     },
     "output_type": "display_data"
    }
   ],
   "source": [
    "plot(data_scored_4,2000,2009)"
   ]
  },
  {
   "cell_type": "markdown",
   "metadata": {},
   "source": [
    "### Group5 recommendation (2010 to 2019)"
   ]
  },
  {
   "cell_type": "code",
   "execution_count": 66,
   "metadata": {},
   "outputs": [
    {
     "data": {
      "text/plain": [
       "(1688, 6)"
      ]
     },
     "execution_count": 66,
     "metadata": {},
     "output_type": "execute_result"
    }
   ],
   "source": [
    "group_5 = create_group(2010,2019)\n",
    "group_5.shape"
   ]
  },
  {
   "cell_type": "code",
   "execution_count": 67,
   "metadata": {},
   "outputs": [],
   "source": [
    "data_norm_5 = norm(group_5)"
   ]
  },
  {
   "cell_type": "code",
   "execution_count": 68,
   "metadata": {},
   "outputs": [],
   "source": [
    "data_scored_5 = create_score(group_5,data_norm_5)"
   ]
  },
  {
   "cell_type": "code",
   "execution_count": 69,
   "metadata": {},
   "outputs": [
    {
     "data": {
      "text/html": [
       "<div>\n",
       "<style scoped>\n",
       "    .dataframe tbody tr th:only-of-type {\n",
       "        vertical-align: middle;\n",
       "    }\n",
       "\n",
       "    .dataframe tbody tr th {\n",
       "        vertical-align: top;\n",
       "    }\n",
       "\n",
       "    .dataframe thead th {\n",
       "        text-align: right;\n",
       "    }\n",
       "</style>\n",
       "<table border=\"1\" class=\"dataframe\">\n",
       "  <thead>\n",
       "    <tr style=\"text-align: right;\">\n",
       "      <th></th>\n",
       "      <th>title</th>\n",
       "      <th>norm_weighted_avg</th>\n",
       "      <th>norm_members</th>\n",
       "      <th>score</th>\n",
       "    </tr>\n",
       "  </thead>\n",
       "  <tbody>\n",
       "    <tr>\n",
       "      <th>497</th>\n",
       "      <td>Shingeki no Kyojin</td>\n",
       "      <td>0.839858</td>\n",
       "      <td>1.000000</td>\n",
       "      <td>0.919929</td>\n",
       "    </tr>\n",
       "    <tr>\n",
       "      <th>137</th>\n",
       "      <td>Steins;Gate</td>\n",
       "      <td>0.995954</td>\n",
       "      <td>0.749905</td>\n",
       "      <td>0.872929</td>\n",
       "    </tr>\n",
       "    <tr>\n",
       "      <th>1065</th>\n",
       "      <td>One Punch Man</td>\n",
       "      <td>0.896328</td>\n",
       "      <td>0.756912</td>\n",
       "      <td>0.826620</td>\n",
       "    </tr>\n",
       "    <tr>\n",
       "      <th>320</th>\n",
       "      <td>Sword Art Online</td>\n",
       "      <td>0.611746</td>\n",
       "      <td>0.967637</td>\n",
       "      <td>0.789691</td>\n",
       "    </tr>\n",
       "    <tr>\n",
       "      <th>1269</th>\n",
       "      <td>Kimi no Na wa.</td>\n",
       "      <td>1.000000</td>\n",
       "      <td>0.539819</td>\n",
       "      <td>0.769910</td>\n",
       "    </tr>\n",
       "  </tbody>\n",
       "</table>\n",
       "</div>"
      ],
      "text/plain": [
       "                   title  norm_weighted_avg  norm_members     score\n",
       "497   Shingeki no Kyojin           0.839858      1.000000  0.919929\n",
       "137          Steins;Gate           0.995954      0.749905  0.872929\n",
       "1065       One Punch Man           0.896328      0.756912  0.826620\n",
       "320     Sword Art Online           0.611746      0.967637  0.789691\n",
       "1269      Kimi no Na wa.           1.000000      0.539819  0.769910"
      ]
     },
     "execution_count": 69,
     "metadata": {},
     "output_type": "execute_result"
    }
   ],
   "source": [
    "show_normalized(data_scored_5)"
   ]
  },
  {
   "cell_type": "code",
   "execution_count": 70,
   "metadata": {},
   "outputs": [
    {
     "data": {
      "image/png": "[encoded data removed]",
      "text/plain": [
       "<Figure size 1296x576 with 1 Axes>"
      ]
     },
     "metadata": {
      "needs_background": "light"
     },
     "output_type": "display_data"
    }
   ],
   "source": [
    "plot(data_scored_5,2010,2019)"
   ]
  }
 ],
 "metadata": {
  "kernelspec": {
   "display_name": "Python 3",
   "language": "python",
   "name": "python3"
  },
  "language_info": {
   "codemirror_mode": {
    "name": "ipython",
    "version": 3
   },
   "file_extension": ".py",
   "mimetype": "text/x-python",
   "name": "python",
   "nbconvert_exporter": "python",
   "pygments_lexer": "ipython3",
   "version": "3.7.6"
  }
 },
 "nbformat": 4,
 "nbformat_minor": 4
}
